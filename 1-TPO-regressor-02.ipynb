{
 "cells": [
  {
   "cell_type": "code",
   "execution_count": 4,
   "metadata": {},
   "outputs": [],
   "source": [
    "from tpot import TPOTRegressor?"
   ]
  },
  {
   "cell_type": "code",
   "execution_count": null,
   "metadata": {},
   "outputs": [],
   "source": [
    "from tpot import TPOTRegressor"
   ]
  },
  {
   "cell_type": "code",
   "execution_count": 1,
   "metadata": {},
   "outputs": [],
   "source": [
    "from tpot import TPOTRegressor\n",
    "import pandas as pd\n",
    "from sklearn.model_selection import train_test_split\n",
    "import pandas as pd\n",
    "import seaborn as sns\n",
    "import numpy as np"
   ]
  },
  {
   "cell_type": "code",
   "execution_count": 2,
   "metadata": {},
   "outputs": [],
   "source": [
    "acidoCEST_ML = pd.read_csv('acido_CEST_MRI_MegaBox_01_to_08_clean.csv')\n",
    "acidoCEST_ML = acidoCEST_ML.drop(['Unnamed: 0','ApproT1(sec)','Temp','FILE','Conc(mM)'], axis = 1)\n",
    "\n",
    "X_train, X_test, y_train, y_test = train_test_split( acidoCEST_ML.drop('pH',axis=1)\n",
    "                                                    , acidoCEST_ML.pH \n",
    "                                                    , test_size=0.30, random_state=42)"
   ]
  },
  {
   "cell_type": "code",
   "execution_count": 3,
   "metadata": {},
   "outputs": [
    {
     "name": "stdout",
     "output_type": "stream",
     "text": [
      "CPU times: user 1min 46s, sys: 1.64 s, total: 1min 48s\n",
      "Wall time: 1min 42s\n"
     ]
    },
    {
     "data": {
      "text/plain": [
       "Pipeline(memory=None,\n",
       "         steps=[('stackingestimator-1',\n",
       "                 StackingEstimator(estimator=DecisionTreeRegressor(ccp_alpha=0.0,\n",
       "                                                                   criterion='mse',\n",
       "                                                                   max_depth=4,\n",
       "                                                                   max_features=None,\n",
       "                                                                   max_leaf_nodes=None,\n",
       "                                                                   min_impurity_decrease=0.0,\n",
       "                                                                   min_impurity_split=None,\n",
       "                                                                   min_samples_leaf=20,\n",
       "                                                                   min_samples_split=5,\n",
       "                                                                   min_weight_fraction_leaf=0.0,\n",
       "                                                                   presort='deprecated',\n",
       "                                                                   random_state=None,\n",
       "                                                                   splitter='b...\n",
       "                                                     fit_intercept=True,\n",
       "                                                     gcv_mode=None,\n",
       "                                                     normalize=False,\n",
       "                                                     scoring=None,\n",
       "                                                     store_cv_values=False))),\n",
       "                ('elasticnetcv',\n",
       "                 ElasticNetCV(alphas=None, copy_X=True, cv=None, eps=0.001,\n",
       "                              fit_intercept=True, l1_ratio=0.75, max_iter=1000,\n",
       "                              n_alphas=100, n_jobs=None, normalize=False,\n",
       "                              positive=False, precompute='auto',\n",
       "                              random_state=None, selection='cyclic', tol=0.0001,\n",
       "                              verbose=0))],\n",
       "         verbose=False)"
      ]
     },
     "execution_count": 3,
     "metadata": {},
     "output_type": "execute_result"
    }
   ],
   "source": [
    "%%time\n",
    "\n",
    "from sklearn.ensemble import RandomForestRegressor\n",
    "from sklearn.linear_model import ElasticNetCV, RidgeCV\n",
    "from sklearn.model_selection import train_test_split\n",
    "from sklearn.pipeline import make_pipeline, make_union\n",
    "from sklearn.tree import DecisionTreeRegressor\n",
    "from tpot.builtins import StackingEstimator\n",
    "\n",
    "# Average CV score on the training set was: -0.002762888673559871\n",
    "exported_pipeline = make_pipeline(\n",
    "    StackingEstimator(estimator=DecisionTreeRegressor(max_depth=4, min_samples_leaf=20, min_samples_split=5)),\n",
    "    \n",
    "    StackingEstimator(estimator=RandomForestRegressor(bootstrap=False, max_features=0.55, min_samples_leaf=7, min_samples_split=16, n_estimators=100)),\n",
    "    \n",
    "    StackingEstimator(estimator=RidgeCV()),\n",
    "    \n",
    "    ElasticNetCV(l1_ratio=0.75, tol=0.0001)\n",
    ")\n",
    "\n",
    "exported_pipeline.fit(X_train, y_train)"
   ]
  },
  {
   "cell_type": "code",
   "execution_count": null,
   "metadata": {},
   "outputs": [],
   "source": [
    "results = exported_pipeline.predict(testing_features)"
   ]
  }
 ],
 "metadata": {
  "kernelspec": {
   "display_name": "Python 3",
   "language": "python",
   "name": "python3"
  },
  "language_info": {
   "codemirror_mode": {
    "name": "ipython",
    "version": 3
   },
   "file_extension": ".py",
   "mimetype": "text/x-python",
   "name": "python",
   "nbconvert_exporter": "python",
   "pygments_lexer": "ipython3",
   "version": "3.8.1"
  }
 },
 "nbformat": 4,
 "nbformat_minor": 4
}
