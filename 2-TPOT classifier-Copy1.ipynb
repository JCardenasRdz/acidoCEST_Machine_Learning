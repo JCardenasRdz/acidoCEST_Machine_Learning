{
 "cells": [
  {
   "cell_type": "code",
   "execution_count": 37,
   "metadata": {},
   "outputs": [],
   "source": [
    "from tpot import TPOTClassifier\n",
    "import pandas as pd\n",
    "from sklearn.model_selection import train_test_split\n",
    "import pandas as pd\n",
    "from sklearn import metrics\n",
    "import scikitplot as skplt"
   ]
  },
  {
   "cell_type": "code",
   "execution_count": 61,
   "metadata": {},
   "outputs": [],
   "source": [
    "acidoCEST_ML = pd.read_csv('acido_CEST_MRI_MegaBox_01_to_08_clean.csv')\n",
    "acidoCEST_ML = acidoCEST_ML.drop(['Unnamed: 0','ApproT1(sec)','Temp','FILE','Conc(mM)','ExpT1(ms)', 'ExpT2(ms)', 'ExpB1(percent)', 'ExpB0(ppm)',\n",
    "       'ExpB0(Hz)', 'SatPower(uT)', 'SatTime(ms)'], axis = 1)"
   ]
  },
  {
   "cell_type": "markdown",
   "metadata": {},
   "source": [
    "acidoCEST_ML.head(2)"
   ]
  },
  {
   "cell_type": "code",
   "execution_count": 62,
   "metadata": {},
   "outputs": [
    {
     "data": {
      "text/plain": [
       "Index(['pH', '-12', '-11', '-10', '-9', '-6', '-3', '-2.75', '-2.5', '-2.25',\n",
       "       '-2', '-1.8', '-1.6', '-1.4', '-1.2', '-1', '-0.8', '-0.6', '-0.4',\n",
       "       '-0.2', '0', '0.2', '0.4', '0.6', '0.8', '1', '1.2', '1.4', '1.6',\n",
       "       '1.8', '2', '2.2', '2.4', '2.6', '2.8', '3', '3.2', '3.3', '3.4', '3.5',\n",
       "       '3.6', '3.7', '3.8', '3.9', '4', '4.1', '4.2', '4.3', '4.4', '4.5',\n",
       "       '4.6', '4.7', '4.8', '4.9', '5', '5.1', '5.2', '5.3', '5.4', '5.5',\n",
       "       '5.6', '5.7', '5.8', '5.9', '6', '6.1', '6.2', '6.3', '6.4', '6.5',\n",
       "       '6.6', '6.8', '7', '7.2', '7.4', '7.6', '7.8', '8', '9', '10', '11',\n",
       "       '12'],\n",
       "      dtype='object')"
      ]
     },
     "execution_count": 62,
     "metadata": {},
     "output_type": "execute_result"
    }
   ],
   "source": [
    "acidoCEST_ML.columns"
   ]
  },
  {
   "cell_type": "markdown",
   "metadata": {},
   "source": [
    "## pH  > 7.0"
   ]
  },
  {
   "cell_type": "code",
   "execution_count": 63,
   "metadata": {},
   "outputs": [],
   "source": [
    "X_train, X_test, y_train, y_test = train_test_split( acidoCEST_ML.drop('pH',axis=1) , 1*(acidoCEST_ML.pH > 7.0 ), test_size=0.30, random_state=42)"
   ]
  },
  {
   "cell_type": "code",
   "execution_count": 64,
   "metadata": {},
   "outputs": [
    {
     "name": "stdout",
     "output_type": "stream",
     "text": [
      "Warning: xgboost.XGBClassifier is not available and will not be used by TPOT.\n"
     ]
    },
    {
     "data": {
      "application/vnd.jupyter.widget-view+json": {
       "model_id": "5daed51d4372466abca8ef048a34e88a",
       "version_major": 2,
       "version_minor": 0
      },
      "text/plain": [
       "HBox(children=(FloatProgress(value=0.0, description='Optimization Progress', max=10.0, style=ProgressStyle(des…"
      ]
     },
     "metadata": {},
     "output_type": "display_data"
    },
    {
     "name": "stdout",
     "output_type": "stream",
     "text": [
      "\n",
      "Generation 1 - Current best internal CV score: 0.8405110518364154\n",
      "\n",
      "Generation 2 - Current best internal CV score: 0.8411490204819935\n",
      "\n",
      "Generation 3 - Current best internal CV score: 0.8411490204819935\n",
      "\n",
      "Generation 4 - Current best internal CV score: 0.8411490204819935\n",
      "\n",
      "Generation 5 - Current best internal CV score: 0.8413037477163962\n",
      "\n",
      "Generation 6 - Current best internal CV score: 0.8413037477163962\n",
      "\n",
      "Generation 7 - Current best internal CV score: 0.8413037477163962\n",
      "\n",
      "Generation 8 - Current best internal CV score: 0.8416287512661436\n",
      "\n",
      "Generation 9 - Current best internal CV score: 0.84640219962125\n",
      "\n",
      "Generation 10 - Current best internal CV score: 0.84640219962125\n",
      "\n",
      "Best pipeline: RandomForestClassifier(SelectPercentile(PCA(input_matrix, iterated_power=7, svd_solver=randomized), percentile=32), bootstrap=False, criterion=entropy, max_features=0.45, min_samples_leaf=7, min_samples_split=4, n_estimators=100)\n"
     ]
    },
    {
     "data": {
      "text/plain": [
       "TPOTClassifier(config_dict=None, crossover_rate=0.1, cv=3,\n",
       "               disable_update_check=False, early_stop=3, generations=10,\n",
       "               log_file=None, max_eval_time_mins=5, max_time_mins=60,\n",
       "               memory=None, mutation_rate=0.9, n_jobs=3, offspring_size=None,\n",
       "               periodic_checkpoint_folder=None, population_size=10,\n",
       "               random_state=None, scoring='precision_weighted', subsample=1.0,\n",
       "               template='PCA-Selector-Classifier', use_dask=False, verbosity=2,\n",
       "               warm_start=False)"
      ]
     },
     "execution_count": 64,
     "metadata": {},
     "output_type": "execute_result"
    }
   ],
   "source": [
    "tpot = TPOTClassifier(generations=10, population_size=10, verbosity=2, n_jobs= 3 , cv = 3,\n",
    "                      template='PCA-Selector-Classifier',early_stop=3,max_time_mins=60\n",
    "                       ,scoring ='precision_weighted')\n",
    "tpot.fit(X_train,y_train)"
   ]
  },
  {
   "cell_type": "code",
   "execution_count": 65,
   "metadata": {},
   "outputs": [
    {
     "data": {
      "text/plain": [
       "<matplotlib.axes._subplots.AxesSubplot at 0x7f9c23e4af70>"
      ]
     },
     "execution_count": 65,
     "metadata": {},
     "output_type": "execute_result"
    },
    {
     "data": {
      "image/png": "[encoded data removed]",
      "text/plain": [
       "<Figure size 432x288 with 2 Axes>"
      ]
     },
     "metadata": {
      "needs_background": "light"
     },
     "output_type": "display_data"
    }
   ],
   "source": [
    "skplt.metrics.plot_confusion_matrix(y_test, tpot.predict(X_test), normalize=False)"
   ]
  },
  {
   "cell_type": "code",
   "execution_count": 66,
   "metadata": {},
   "outputs": [
    {
     "name": "stdout",
     "output_type": "stream",
     "text": [
      "              precision    recall  f1-score   support\n",
      "\n",
      "           0       0.87      0.95      0.91      7770\n",
      "           1       0.84      0.63      0.72      3030\n",
      "\n",
      "    accuracy                           0.86     10800\n",
      "   macro avg       0.85      0.79      0.81     10800\n",
      "weighted avg       0.86      0.86      0.86     10800\n",
      "\n"
     ]
    }
   ],
   "source": [
    "print( metrics.classification_report(y_test, tpot.predict(X_test)) )"
   ]
  },
  {
   "cell_type": "markdown",
   "metadata": {},
   "source": [
    "### Next\n",
    "- Do we need the data at (power=  0.5 and 1.0 uT, sat time = 0.50 or 1.0 seconds) (heat map of error 2d)\n",
    "- How much does measuring other things beside the Z spectra help?\n",
    "- Are the regression outlier due to Power and T1\n",
    "- Effect of noise\n",
    "\n",
    "- Do these later\n",
    "2. Can we start with fewer frequencies ?\n",
    "3. What frequencies are needed ?\n",
    "5. Max 27 or 25 frequencies\n",
    "6. pH higher than 6.8\n",
    "\n",
    "\n"
   ]
  },
  {
   "cell_type": "markdown",
   "metadata": {},
   "source": [
    "## pH  > 6.5"
   ]
  },
  {
   "cell_type": "code",
   "execution_count": 45,
   "metadata": {},
   "outputs": [],
   "source": [
    "X_train, X_test, y_train, y_test = train_test_split( acidoCEST_ML.drop('pH',axis=1) , 1*(acidoCEST_ML.pH > 6.5 ), test_size=0.30, random_state=42)"
   ]
  },
  {
   "cell_type": "code",
   "execution_count": 46,
   "metadata": {},
   "outputs": [
    {
     "name": "stdout",
     "output_type": "stream",
     "text": [
      "Warning: xgboost.XGBClassifier is not available and will not be used by TPOT.\n"
     ]
    },
    {
     "data": {
      "application/vnd.jupyter.widget-view+json": {
       "model_id": "f9577b1a2fec4ec2992952816b493656",
       "version_major": 2,
       "version_minor": 0
      },
      "text/plain": [
       "HBox(children=(FloatProgress(value=0.0, description='Optimization Progress', max=10.0, style=ProgressStyle(des…"
      ]
     },
     "metadata": {},
     "output_type": "display_data"
    },
    {
     "name": "stdout",
     "output_type": "stream",
     "text": [
      "\n",
      "Generation 1 - Current best internal CV score: 0.9676911500722024\n",
      "\n",
      "Generation 2 - Current best internal CV score: 0.9676911500722024\n",
      "\n",
      "Generation 3 - Current best internal CV score: 0.9748841834203684\n",
      "\n",
      "Generation 4 - Current best internal CV score: 0.9890042369544242\n",
      "\n",
      "Generation 5 - Current best internal CV score: 0.9995651434552922\n",
      "\n",
      "Generation 6 - Current best internal CV score: 0.9995651434552922\n",
      "\n",
      "Generation 7 - Current best internal CV score: 0.9995651434552922\n",
      "\n",
      "Generation 8 - Current best internal CV score: 0.9995651434552922\n",
      "\n",
      "The optimized pipeline was not improved after evaluating 3 more generations. Will end the optimization process.\n",
      "\n",
      "TPOT closed prematurely. Will use the current best pipeline.\n",
      "\n",
      "Best pipeline: KNeighborsClassifier(SelectFwe(PCA(input_matrix, iterated_power=8, svd_solver=randomized), alpha=0.003), n_neighbors=2, p=1, weights=uniform)\n"
     ]
    },
    {
     "data": {
      "text/plain": [
       "TPOTClassifier(config_dict=None, crossover_rate=0.1, cv=3,\n",
       "               disable_update_check=False, early_stop=3, generations=10,\n",
       "               log_file=None, max_eval_time_mins=5, max_time_mins=60,\n",
       "               memory=None, mutation_rate=0.9, n_jobs=3, offspring_size=None,\n",
       "               periodic_checkpoint_folder=None, population_size=10,\n",
       "               random_state=None, scoring='precision_weighted', subsample=1.0,\n",
       "               template='PCA-Selector-Classifier', use_dask=False, verbosity=2,\n",
       "               warm_start=False)"
      ]
     },
     "execution_count": 46,
     "metadata": {},
     "output_type": "execute_result"
    }
   ],
   "source": [
    "tpot = TPOTClassifier(generations=10, population_size=10, verbosity=2, n_jobs= 3 , cv = 3,\n",
    "                      template='PCA-Selector-Classifier',early_stop=3,max_time_mins=60\n",
    "                       ,scoring ='precision_weighted')\n",
    "tpot.fit(X_train,y_train)"
   ]
  },
  {
   "cell_type": "code",
   "execution_count": 47,
   "metadata": {},
   "outputs": [
    {
     "data": {
      "text/plain": [
       "<matplotlib.axes._subplots.AxesSubplot at 0x7f9bf115c280>"
      ]
     },
     "execution_count": 47,
     "metadata": {},
     "output_type": "execute_result"
    },
    {
     "data": {
      "image/png": "[encoded data removed]",
      "text/plain": [
       "<Figure size 432x288 with 2 Axes>"
      ]
     },
     "metadata": {
      "needs_background": "light"
     },
     "output_type": "display_data"
    }
   ],
   "source": [
    "skplt.metrics.plot_confusion_matrix(y_test, tpot.predict(X_test), normalize=False)"
   ]
  },
  {
   "cell_type": "code",
   "execution_count": 60,
   "metadata": {},
   "outputs": [
    {
     "name": "stdout",
     "output_type": "stream",
     "text": [
      "              precision    recall  f1-score   support\n",
      "\n",
      "           0       1.00      1.00      1.00      6247\n",
      "           1       1.00      1.00      1.00     18953\n",
      "\n",
      "    accuracy                           1.00     25200\n",
      "   macro avg       1.00      1.00      1.00     25200\n",
      "weighted avg       1.00      1.00      1.00     25200\n",
      "\n"
     ]
    }
   ],
   "source": [
    "print( metrics.classification_report(y_train, tpot.predict(X_train)) )"
   ]
  },
  {
   "cell_type": "code",
   "execution_count": 49,
   "metadata": {},
   "outputs": [],
   "source": [
    "tpot.export('acidoCEST_ML_tpot_pH6p5_classifier.py')"
   ]
  },
  {
   "cell_type": "code",
   "execution_count": 51,
   "metadata": {},
   "outputs": [
    {
     "data": {
      "text/html": [
       "<div>\n",
       "<style scoped>\n",
       "    .dataframe tbody tr th:only-of-type {\n",
       "        vertical-align: middle;\n",
       "    }\n",
       "\n",
       "    .dataframe tbody tr th {\n",
       "        vertical-align: top;\n",
       "    }\n",
       "\n",
       "    .dataframe thead th {\n",
       "        text-align: right;\n",
       "    }\n",
       "</style>\n",
       "<table border=\"1\" class=\"dataframe\">\n",
       "  <thead>\n",
       "    <tr style=\"text-align: right;\">\n",
       "      <th></th>\n",
       "      <th>pH</th>\n",
       "      <th>ExpT1(ms)</th>\n",
       "      <th>ExpT2(ms)</th>\n",
       "      <th>ExpB1(percent)</th>\n",
       "      <th>ExpB0(ppm)</th>\n",
       "      <th>ExpB0(Hz)</th>\n",
       "      <th>SatPower(uT)</th>\n",
       "      <th>SatTime(ms)</th>\n",
       "      <th>-12</th>\n",
       "      <th>-11</th>\n",
       "      <th>...</th>\n",
       "      <th>7</th>\n",
       "      <th>7.2</th>\n",
       "      <th>7.4</th>\n",
       "      <th>7.6</th>\n",
       "      <th>7.8</th>\n",
       "      <th>8</th>\n",
       "      <th>9</th>\n",
       "      <th>10</th>\n",
       "      <th>11</th>\n",
       "      <th>12</th>\n",
       "    </tr>\n",
       "  </thead>\n",
       "  <tbody>\n",
       "    <tr>\n",
       "      <th>0</th>\n",
       "      <td>6.24</td>\n",
       "      <td>402.70</td>\n",
       "      <td>201.72</td>\n",
       "      <td>118.13</td>\n",
       "      <td>0.58603</td>\n",
       "      <td>176.00</td>\n",
       "      <td>3.0</td>\n",
       "      <td>2000</td>\n",
       "      <td>0.994178</td>\n",
       "      <td>0.983831</td>\n",
       "      <td>...</td>\n",
       "      <td>0.971111</td>\n",
       "      <td>0.980716</td>\n",
       "      <td>0.979566</td>\n",
       "      <td>0.979752</td>\n",
       "      <td>0.984350</td>\n",
       "      <td>0.984906</td>\n",
       "      <td>0.984795</td>\n",
       "      <td>0.984350</td>\n",
       "      <td>0.984981</td>\n",
       "      <td>0.988652</td>\n",
       "    </tr>\n",
       "    <tr>\n",
       "      <th>1</th>\n",
       "      <td>6.38</td>\n",
       "      <td>388.31</td>\n",
       "      <td>214.49</td>\n",
       "      <td>107.81</td>\n",
       "      <td>0.70919</td>\n",
       "      <td>212.99</td>\n",
       "      <td>3.0</td>\n",
       "      <td>2000</td>\n",
       "      <td>0.992924</td>\n",
       "      <td>0.985348</td>\n",
       "      <td>...</td>\n",
       "      <td>0.980465</td>\n",
       "      <td>0.974735</td>\n",
       "      <td>0.983810</td>\n",
       "      <td>0.980580</td>\n",
       "      <td>0.989117</td>\n",
       "      <td>0.976427</td>\n",
       "      <td>0.985118</td>\n",
       "      <td>0.992963</td>\n",
       "      <td>0.982541</td>\n",
       "      <td>0.986118</td>\n",
       "    </tr>\n",
       "    <tr>\n",
       "      <th>2</th>\n",
       "      <td>6.58</td>\n",
       "      <td>393.20</td>\n",
       "      <td>217.77</td>\n",
       "      <td>103.08</td>\n",
       "      <td>0.76500</td>\n",
       "      <td>229.76</td>\n",
       "      <td>3.0</td>\n",
       "      <td>2000</td>\n",
       "      <td>0.994844</td>\n",
       "      <td>0.993349</td>\n",
       "      <td>...</td>\n",
       "      <td>0.990908</td>\n",
       "      <td>0.993978</td>\n",
       "      <td>0.986067</td>\n",
       "      <td>0.977566</td>\n",
       "      <td>0.994293</td>\n",
       "      <td>0.991026</td>\n",
       "      <td>0.993073</td>\n",
       "      <td>0.995671</td>\n",
       "      <td>0.995749</td>\n",
       "      <td>0.994293</td>\n",
       "    </tr>\n",
       "    <tr>\n",
       "      <th>3</th>\n",
       "      <td>6.69</td>\n",
       "      <td>389.14</td>\n",
       "      <td>217.87</td>\n",
       "      <td>106.21</td>\n",
       "      <td>0.63908</td>\n",
       "      <td>191.94</td>\n",
       "      <td>3.0</td>\n",
       "      <td>2000</td>\n",
       "      <td>0.983920</td>\n",
       "      <td>0.990491</td>\n",
       "      <td>...</td>\n",
       "      <td>0.977619</td>\n",
       "      <td>0.978972</td>\n",
       "      <td>0.969579</td>\n",
       "      <td>0.976034</td>\n",
       "      <td>0.980634</td>\n",
       "      <td>0.977116</td>\n",
       "      <td>0.982064</td>\n",
       "      <td>0.984422</td>\n",
       "      <td>0.980634</td>\n",
       "      <td>0.978856</td>\n",
       "    </tr>\n",
       "    <tr>\n",
       "      <th>4</th>\n",
       "      <td>6.84</td>\n",
       "      <td>379.38</td>\n",
       "      <td>214.10</td>\n",
       "      <td>111.26</td>\n",
       "      <td>0.33744</td>\n",
       "      <td>101.34</td>\n",
       "      <td>3.0</td>\n",
       "      <td>2000</td>\n",
       "      <td>0.998284</td>\n",
       "      <td>0.989862</td>\n",
       "      <td>...</td>\n",
       "      <td>0.979530</td>\n",
       "      <td>0.976333</td>\n",
       "      <td>0.986626</td>\n",
       "      <td>0.980583</td>\n",
       "      <td>0.986158</td>\n",
       "      <td>0.983624</td>\n",
       "      <td>0.992982</td>\n",
       "      <td>0.984248</td>\n",
       "      <td>0.985690</td>\n",
       "      <td>0.985417</td>\n",
       "    </tr>\n",
       "  </tbody>\n",
       "</table>\n",
       "<p>5 rows × 89 columns</p>\n",
       "</div>"
      ],
      "text/plain": [
       "     pH  ExpT1(ms)  ExpT2(ms)  ExpB1(percent)  ExpB0(ppm)  ExpB0(Hz)  \\\n",
       "0  6.24     402.70     201.72          118.13     0.58603     176.00   \n",
       "1  6.38     388.31     214.49          107.81     0.70919     212.99   \n",
       "2  6.58     393.20     217.77          103.08     0.76500     229.76   \n",
       "3  6.69     389.14     217.87          106.21     0.63908     191.94   \n",
       "4  6.84     379.38     214.10          111.26     0.33744     101.34   \n",
       "\n",
       "   SatPower(uT)  SatTime(ms)       -12       -11  ...         7       7.2  \\\n",
       "0           3.0         2000  0.994178  0.983831  ...  0.971111  0.980716   \n",
       "1           3.0         2000  0.992924  0.985348  ...  0.980465  0.974735   \n",
       "2           3.0         2000  0.994844  0.993349  ...  0.990908  0.993978   \n",
       "3           3.0         2000  0.983920  0.990491  ...  0.977619  0.978972   \n",
       "4           3.0         2000  0.998284  0.989862  ...  0.979530  0.976333   \n",
       "\n",
       "        7.4       7.6       7.8         8         9        10        11  \\\n",
       "0  0.979566  0.979752  0.984350  0.984906  0.984795  0.984350  0.984981   \n",
       "1  0.983810  0.980580  0.989117  0.976427  0.985118  0.992963  0.982541   \n",
       "2  0.986067  0.977566  0.994293  0.991026  0.993073  0.995671  0.995749   \n",
       "3  0.969579  0.976034  0.980634  0.977116  0.982064  0.984422  0.980634   \n",
       "4  0.986626  0.980583  0.986158  0.983624  0.992982  0.984248  0.985690   \n",
       "\n",
       "         12  \n",
       "0  0.988652  \n",
       "1  0.986118  \n",
       "2  0.994293  \n",
       "3  0.978856  \n",
       "4  0.985417  \n",
       "\n",
       "[5 rows x 89 columns]"
      ]
     },
     "execution_count": 51,
     "metadata": {},
     "output_type": "execute_result"
    }
   ],
   "source": [
    "acidoCEST_ML.head()"
   ]
  },
  {
   "cell_type": "code",
   "execution_count": 58,
   "metadata": {},
   "outputs": [
    {
     "ename": "ValueError",
     "evalue": "Classification metrics can't handle a mix of binary and continuous-multioutput targets",
     "output_type": "error",
     "traceback": [
      "\u001b[0;31m---------------------------------------------------------------------------\u001b[0m",
      "\u001b[0;31mValueError\u001b[0m                                Traceback (most recent call last)",
      "\u001b[0;32m<ipython-input-58-8712b5b26312>\u001b[0m in \u001b[0;36m<module>\u001b[0;34m\u001b[0m\n\u001b[0;32m----> 1\u001b[0;31m \u001b[0mmetrics\u001b[0m\u001b[0;34m.\u001b[0m\u001b[0mclassification_report\u001b[0m\u001b[0;34m(\u001b[0m \u001b[0;36m1\u001b[0m\u001b[0;34m*\u001b[0m\u001b[0;34m(\u001b[0m\u001b[0macidoCEST_ML\u001b[0m\u001b[0;34m.\u001b[0m\u001b[0mpH\u001b[0m \u001b[0;34m>\u001b[0m \u001b[0;36m6.5\u001b[0m\u001b[0;34m)\u001b[0m\u001b[0;34m,\u001b[0m \u001b[0macidoCEST_ML\u001b[0m\u001b[0;34m.\u001b[0m\u001b[0mdrop\u001b[0m\u001b[0;34m(\u001b[0m\u001b[0;34m'pH'\u001b[0m\u001b[0;34m,\u001b[0m \u001b[0maxis\u001b[0m \u001b[0;34m=\u001b[0m \u001b[0;36m1\u001b[0m\u001b[0;34m)\u001b[0m\u001b[0;34m)\u001b[0m\u001b[0;34m\u001b[0m\u001b[0;34m\u001b[0m\u001b[0m\n\u001b[0m",
      "\u001b[0;32m/Library/Frameworks/Python.framework/Versions/3.8/lib/python3.8/site-packages/sklearn/metrics/_classification.py\u001b[0m in \u001b[0;36mclassification_report\u001b[0;34m(y_true, y_pred, labels, target_names, sample_weight, digits, output_dict, zero_division)\u001b[0m\n\u001b[1;32m   1969\u001b[0m     \"\"\"\n\u001b[1;32m   1970\u001b[0m \u001b[0;34m\u001b[0m\u001b[0m\n\u001b[0;32m-> 1971\u001b[0;31m     \u001b[0my_type\u001b[0m\u001b[0;34m,\u001b[0m \u001b[0my_true\u001b[0m\u001b[0;34m,\u001b[0m \u001b[0my_pred\u001b[0m \u001b[0;34m=\u001b[0m \u001b[0m_check_targets\u001b[0m\u001b[0;34m(\u001b[0m\u001b[0my_true\u001b[0m\u001b[0;34m,\u001b[0m \u001b[0my_pred\u001b[0m\u001b[0;34m)\u001b[0m\u001b[0;34m\u001b[0m\u001b[0;34m\u001b[0m\u001b[0m\n\u001b[0m\u001b[1;32m   1972\u001b[0m \u001b[0;34m\u001b[0m\u001b[0m\n\u001b[1;32m   1973\u001b[0m     \u001b[0mlabels_given\u001b[0m \u001b[0;34m=\u001b[0m \u001b[0;32mTrue\u001b[0m\u001b[0;34m\u001b[0m\u001b[0;34m\u001b[0m\u001b[0m\n",
      "\u001b[0;32m/Library/Frameworks/Python.framework/Versions/3.8/lib/python3.8/site-packages/sklearn/metrics/_classification.py\u001b[0m in \u001b[0;36m_check_targets\u001b[0;34m(y_true, y_pred)\u001b[0m\n\u001b[1;32m     87\u001b[0m \u001b[0;34m\u001b[0m\u001b[0m\n\u001b[1;32m     88\u001b[0m     \u001b[0;32mif\u001b[0m \u001b[0mlen\u001b[0m\u001b[0;34m(\u001b[0m\u001b[0my_type\u001b[0m\u001b[0;34m)\u001b[0m \u001b[0;34m>\u001b[0m \u001b[0;36m1\u001b[0m\u001b[0;34m:\u001b[0m\u001b[0;34m\u001b[0m\u001b[0;34m\u001b[0m\u001b[0m\n\u001b[0;32m---> 89\u001b[0;31m         raise ValueError(\"Classification metrics can't handle a mix of {0} \"\n\u001b[0m\u001b[1;32m     90\u001b[0m                          \"and {1} targets\".format(type_true, type_pred))\n\u001b[1;32m     91\u001b[0m \u001b[0;34m\u001b[0m\u001b[0m\n",
      "\u001b[0;31mValueError\u001b[0m: Classification metrics can't handle a mix of binary and continuous-multioutput targets"
     ]
    }
   ],
   "source": [
    "metrics.classification_report( 1*(acidoCEST_ML.pH > 6.5), acidoCEST_ML.drop('pH', axis = 1))"
   ]
  },
  {
   "cell_type": "code",
   "execution_count": 55,
   "metadata": {},
   "outputs": [
    {
     "data": {
      "text/html": [
       "<div>\n",
       "<style scoped>\n",
       "    .dataframe tbody tr th:only-of-type {\n",
       "        vertical-align: middle;\n",
       "    }\n",
       "\n",
       "    .dataframe tbody tr th {\n",
       "        vertical-align: top;\n",
       "    }\n",
       "\n",
       "    .dataframe thead th {\n",
       "        text-align: right;\n",
       "    }\n",
       "</style>\n",
       "<table border=\"1\" class=\"dataframe\">\n",
       "  <thead>\n",
       "    <tr style=\"text-align: right;\">\n",
       "      <th></th>\n",
       "      <th>ExpT1(ms)</th>\n",
       "      <th>ExpT2(ms)</th>\n",
       "      <th>ExpB1(percent)</th>\n",
       "      <th>ExpB0(ppm)</th>\n",
       "      <th>ExpB0(Hz)</th>\n",
       "      <th>SatPower(uT)</th>\n",
       "      <th>SatTime(ms)</th>\n",
       "      <th>-12</th>\n",
       "      <th>-11</th>\n",
       "      <th>-10</th>\n",
       "      <th>...</th>\n",
       "      <th>7</th>\n",
       "      <th>7.2</th>\n",
       "      <th>7.4</th>\n",
       "      <th>7.6</th>\n",
       "      <th>7.8</th>\n",
       "      <th>8</th>\n",
       "      <th>9</th>\n",
       "      <th>10</th>\n",
       "      <th>11</th>\n",
       "      <th>12</th>\n",
       "    </tr>\n",
       "  </thead>\n",
       "  <tbody>\n",
       "    <tr>\n",
       "      <th>0</th>\n",
       "      <td>402.70</td>\n",
       "      <td>201.72</td>\n",
       "      <td>118.130</td>\n",
       "      <td>0.58603</td>\n",
       "      <td>176.000</td>\n",
       "      <td>3.0</td>\n",
       "      <td>2000</td>\n",
       "      <td>0.994178</td>\n",
       "      <td>0.983831</td>\n",
       "      <td>0.993102</td>\n",
       "      <td>...</td>\n",
       "      <td>0.971111</td>\n",
       "      <td>0.980716</td>\n",
       "      <td>0.979566</td>\n",
       "      <td>0.979752</td>\n",
       "      <td>0.984350</td>\n",
       "      <td>0.984906</td>\n",
       "      <td>0.984795</td>\n",
       "      <td>0.984350</td>\n",
       "      <td>0.984981</td>\n",
       "      <td>0.988652</td>\n",
       "    </tr>\n",
       "    <tr>\n",
       "      <th>1</th>\n",
       "      <td>388.31</td>\n",
       "      <td>214.49</td>\n",
       "      <td>107.810</td>\n",
       "      <td>0.70919</td>\n",
       "      <td>212.990</td>\n",
       "      <td>3.0</td>\n",
       "      <td>2000</td>\n",
       "      <td>0.992924</td>\n",
       "      <td>0.985348</td>\n",
       "      <td>0.994155</td>\n",
       "      <td>...</td>\n",
       "      <td>0.980465</td>\n",
       "      <td>0.974735</td>\n",
       "      <td>0.983810</td>\n",
       "      <td>0.980580</td>\n",
       "      <td>0.989117</td>\n",
       "      <td>0.976427</td>\n",
       "      <td>0.985118</td>\n",
       "      <td>0.992963</td>\n",
       "      <td>0.982541</td>\n",
       "      <td>0.986118</td>\n",
       "    </tr>\n",
       "    <tr>\n",
       "      <th>2</th>\n",
       "      <td>393.20</td>\n",
       "      <td>217.77</td>\n",
       "      <td>103.080</td>\n",
       "      <td>0.76500</td>\n",
       "      <td>229.760</td>\n",
       "      <td>3.0</td>\n",
       "      <td>2000</td>\n",
       "      <td>0.994844</td>\n",
       "      <td>0.993349</td>\n",
       "      <td>0.997166</td>\n",
       "      <td>...</td>\n",
       "      <td>0.990908</td>\n",
       "      <td>0.993978</td>\n",
       "      <td>0.986067</td>\n",
       "      <td>0.977566</td>\n",
       "      <td>0.994293</td>\n",
       "      <td>0.991026</td>\n",
       "      <td>0.993073</td>\n",
       "      <td>0.995671</td>\n",
       "      <td>0.995749</td>\n",
       "      <td>0.994293</td>\n",
       "    </tr>\n",
       "    <tr>\n",
       "      <th>3</th>\n",
       "      <td>389.14</td>\n",
       "      <td>217.87</td>\n",
       "      <td>106.210</td>\n",
       "      <td>0.63908</td>\n",
       "      <td>191.940</td>\n",
       "      <td>3.0</td>\n",
       "      <td>2000</td>\n",
       "      <td>0.983920</td>\n",
       "      <td>0.990491</td>\n",
       "      <td>0.986394</td>\n",
       "      <td>...</td>\n",
       "      <td>0.977619</td>\n",
       "      <td>0.978972</td>\n",
       "      <td>0.969579</td>\n",
       "      <td>0.976034</td>\n",
       "      <td>0.980634</td>\n",
       "      <td>0.977116</td>\n",
       "      <td>0.982064</td>\n",
       "      <td>0.984422</td>\n",
       "      <td>0.980634</td>\n",
       "      <td>0.978856</td>\n",
       "    </tr>\n",
       "    <tr>\n",
       "      <th>4</th>\n",
       "      <td>379.38</td>\n",
       "      <td>214.10</td>\n",
       "      <td>111.260</td>\n",
       "      <td>0.33744</td>\n",
       "      <td>101.340</td>\n",
       "      <td>3.0</td>\n",
       "      <td>2000</td>\n",
       "      <td>0.998284</td>\n",
       "      <td>0.989862</td>\n",
       "      <td>0.989667</td>\n",
       "      <td>...</td>\n",
       "      <td>0.979530</td>\n",
       "      <td>0.976333</td>\n",
       "      <td>0.986626</td>\n",
       "      <td>0.980583</td>\n",
       "      <td>0.986158</td>\n",
       "      <td>0.983624</td>\n",
       "      <td>0.992982</td>\n",
       "      <td>0.984248</td>\n",
       "      <td>0.985690</td>\n",
       "      <td>0.985417</td>\n",
       "    </tr>\n",
       "    <tr>\n",
       "      <th>...</th>\n",
       "      <td>...</td>\n",
       "      <td>...</td>\n",
       "      <td>...</td>\n",
       "      <td>...</td>\n",
       "      <td>...</td>\n",
       "      <td>...</td>\n",
       "      <td>...</td>\n",
       "      <td>...</td>\n",
       "      <td>...</td>\n",
       "      <td>...</td>\n",
       "      <td>...</td>\n",
       "      <td>...</td>\n",
       "      <td>...</td>\n",
       "      <td>...</td>\n",
       "      <td>...</td>\n",
       "      <td>...</td>\n",
       "      <td>...</td>\n",
       "      <td>...</td>\n",
       "      <td>...</td>\n",
       "      <td>...</td>\n",
       "      <td>...</td>\n",
       "    </tr>\n",
       "    <tr>\n",
       "      <th>35995</th>\n",
       "      <td>4112.50</td>\n",
       "      <td>601.83</td>\n",
       "      <td>101.610</td>\n",
       "      <td>0.22259</td>\n",
       "      <td>66.852</td>\n",
       "      <td>4.0</td>\n",
       "      <td>2000</td>\n",
       "      <td>0.993230</td>\n",
       "      <td>0.991712</td>\n",
       "      <td>0.973048</td>\n",
       "      <td>...</td>\n",
       "      <td>0.957295</td>\n",
       "      <td>0.957801</td>\n",
       "      <td>0.955397</td>\n",
       "      <td>0.963685</td>\n",
       "      <td>0.965772</td>\n",
       "      <td>0.971340</td>\n",
       "      <td>0.970454</td>\n",
       "      <td>0.969379</td>\n",
       "      <td>0.977224</td>\n",
       "      <td>0.973871</td>\n",
       "    </tr>\n",
       "    <tr>\n",
       "      <th>35996</th>\n",
       "      <td>3918.70</td>\n",
       "      <td>575.72</td>\n",
       "      <td>109.390</td>\n",
       "      <td>0.33517</td>\n",
       "      <td>100.660</td>\n",
       "      <td>4.0</td>\n",
       "      <td>2000</td>\n",
       "      <td>0.979288</td>\n",
       "      <td>0.978693</td>\n",
       "      <td>0.971717</td>\n",
       "      <td>...</td>\n",
       "      <td>0.940677</td>\n",
       "      <td>0.947761</td>\n",
       "      <td>0.947329</td>\n",
       "      <td>0.948518</td>\n",
       "      <td>0.962200</td>\n",
       "      <td>0.957766</td>\n",
       "      <td>0.959604</td>\n",
       "      <td>0.972637</td>\n",
       "      <td>0.972475</td>\n",
       "      <td>0.975827</td>\n",
       "    </tr>\n",
       "    <tr>\n",
       "      <th>35997</th>\n",
       "      <td>3911.10</td>\n",
       "      <td>593.31</td>\n",
       "      <td>106.630</td>\n",
       "      <td>0.40331</td>\n",
       "      <td>121.130</td>\n",
       "      <td>4.0</td>\n",
       "      <td>2000</td>\n",
       "      <td>0.994350</td>\n",
       "      <td>0.983577</td>\n",
       "      <td>0.978825</td>\n",
       "      <td>...</td>\n",
       "      <td>0.938586</td>\n",
       "      <td>0.947827</td>\n",
       "      <td>0.960817</td>\n",
       "      <td>0.957015</td>\n",
       "      <td>0.945187</td>\n",
       "      <td>0.958494</td>\n",
       "      <td>0.969953</td>\n",
       "      <td>0.978560</td>\n",
       "      <td>0.972963</td>\n",
       "      <td>0.975022</td>\n",
       "    </tr>\n",
       "    <tr>\n",
       "      <th>35998</th>\n",
       "      <td>4043.40</td>\n",
       "      <td>632.75</td>\n",
       "      <td>99.980</td>\n",
       "      <td>0.35798</td>\n",
       "      <td>107.510</td>\n",
       "      <td>4.0</td>\n",
       "      <td>2000</td>\n",
       "      <td>0.988520</td>\n",
       "      <td>0.973213</td>\n",
       "      <td>0.979765</td>\n",
       "      <td>...</td>\n",
       "      <td>0.949383</td>\n",
       "      <td>0.938830</td>\n",
       "      <td>0.944454</td>\n",
       "      <td>0.961153</td>\n",
       "      <td>0.959413</td>\n",
       "      <td>0.963356</td>\n",
       "      <td>0.961674</td>\n",
       "      <td>0.969676</td>\n",
       "      <td>0.977967</td>\n",
       "      <td>0.983243</td>\n",
       "    </tr>\n",
       "    <tr>\n",
       "      <th>35999</th>\n",
       "      <td>3882.00</td>\n",
       "      <td>638.70</td>\n",
       "      <td>81.981</td>\n",
       "      <td>0.31547</td>\n",
       "      <td>94.747</td>\n",
       "      <td>4.0</td>\n",
       "      <td>2000</td>\n",
       "      <td>0.958690</td>\n",
       "      <td>0.958833</td>\n",
       "      <td>0.955051</td>\n",
       "      <td>...</td>\n",
       "      <td>0.931650</td>\n",
       "      <td>0.925942</td>\n",
       "      <td>0.942780</td>\n",
       "      <td>0.943350</td>\n",
       "      <td>0.939141</td>\n",
       "      <td>0.951627</td>\n",
       "      <td>0.953696</td>\n",
       "      <td>0.957620</td>\n",
       "      <td>0.955908</td>\n",
       "      <td>0.962329</td>\n",
       "    </tr>\n",
       "  </tbody>\n",
       "</table>\n",
       "<p>36000 rows × 88 columns</p>\n",
       "</div>"
      ],
      "text/plain": [
       "       ExpT1(ms)  ExpT2(ms)  ExpB1(percent)  ExpB0(ppm)  ExpB0(Hz)  \\\n",
       "0         402.70     201.72         118.130     0.58603    176.000   \n",
       "1         388.31     214.49         107.810     0.70919    212.990   \n",
       "2         393.20     217.77         103.080     0.76500    229.760   \n",
       "3         389.14     217.87         106.210     0.63908    191.940   \n",
       "4         379.38     214.10         111.260     0.33744    101.340   \n",
       "...          ...        ...             ...         ...        ...   \n",
       "35995    4112.50     601.83         101.610     0.22259     66.852   \n",
       "35996    3918.70     575.72         109.390     0.33517    100.660   \n",
       "35997    3911.10     593.31         106.630     0.40331    121.130   \n",
       "35998    4043.40     632.75          99.980     0.35798    107.510   \n",
       "35999    3882.00     638.70          81.981     0.31547     94.747   \n",
       "\n",
       "       SatPower(uT)  SatTime(ms)       -12       -11       -10  ...         7  \\\n",
       "0               3.0         2000  0.994178  0.983831  0.993102  ...  0.971111   \n",
       "1               3.0         2000  0.992924  0.985348  0.994155  ...  0.980465   \n",
       "2               3.0         2000  0.994844  0.993349  0.997166  ...  0.990908   \n",
       "3               3.0         2000  0.983920  0.990491  0.986394  ...  0.977619   \n",
       "4               3.0         2000  0.998284  0.989862  0.989667  ...  0.979530   \n",
       "...             ...          ...       ...       ...       ...  ...       ...   \n",
       "35995           4.0         2000  0.993230  0.991712  0.973048  ...  0.957295   \n",
       "35996           4.0         2000  0.979288  0.978693  0.971717  ...  0.940677   \n",
       "35997           4.0         2000  0.994350  0.983577  0.978825  ...  0.938586   \n",
       "35998           4.0         2000  0.988520  0.973213  0.979765  ...  0.949383   \n",
       "35999           4.0         2000  0.958690  0.958833  0.955051  ...  0.931650   \n",
       "\n",
       "            7.2       7.4       7.6       7.8         8         9        10  \\\n",
       "0      0.980716  0.979566  0.979752  0.984350  0.984906  0.984795  0.984350   \n",
       "1      0.974735  0.983810  0.980580  0.989117  0.976427  0.985118  0.992963   \n",
       "2      0.993978  0.986067  0.977566  0.994293  0.991026  0.993073  0.995671   \n",
       "3      0.978972  0.969579  0.976034  0.980634  0.977116  0.982064  0.984422   \n",
       "4      0.976333  0.986626  0.980583  0.986158  0.983624  0.992982  0.984248   \n",
       "...         ...       ...       ...       ...       ...       ...       ...   \n",
       "35995  0.957801  0.955397  0.963685  0.965772  0.971340  0.970454  0.969379   \n",
       "35996  0.947761  0.947329  0.948518  0.962200  0.957766  0.959604  0.972637   \n",
       "35997  0.947827  0.960817  0.957015  0.945187  0.958494  0.969953  0.978560   \n",
       "35998  0.938830  0.944454  0.961153  0.959413  0.963356  0.961674  0.969676   \n",
       "35999  0.925942  0.942780  0.943350  0.939141  0.951627  0.953696  0.957620   \n",
       "\n",
       "             11        12  \n",
       "0      0.984981  0.988652  \n",
       "1      0.982541  0.986118  \n",
       "2      0.995749  0.994293  \n",
       "3      0.980634  0.978856  \n",
       "4      0.985690  0.985417  \n",
       "...         ...       ...  \n",
       "35995  0.977224  0.973871  \n",
       "35996  0.972475  0.975827  \n",
       "35997  0.972963  0.975022  \n",
       "35998  0.977967  0.983243  \n",
       "35999  0.955908  0.962329  \n",
       "\n",
       "[36000 rows x 88 columns]"
      ]
     },
     "execution_count": 55,
     "metadata": {},
     "output_type": "execute_result"
    }
   ],
   "source": []
  },
  {
   "cell_type": "code",
   "execution_count": 54,
   "metadata": {},
   "outputs": [
    {
     "data": {
      "text/plain": [
       "0        6.24\n",
       "1        6.38\n",
       "2        6.58\n",
       "3        6.69\n",
       "4        6.84\n",
       "         ... \n",
       "35995    6.38\n",
       "35996    6.58\n",
       "35997    6.70\n",
       "35998    6.88\n",
       "35999    7.02\n",
       "Name: pH, Length: 36000, dtype: float64"
      ]
     },
     "execution_count": 54,
     "metadata": {},
     "output_type": "execute_result"
    }
   ],
   "source": []
  },
  {
   "cell_type": "code",
   "execution_count": null,
   "metadata": {},
   "outputs": [],
   "source": []
  }
 ],
 "metadata": {
  "kernelspec": {
   "display_name": "Python 3",
   "language": "python",
   "name": "python3"
  },
  "language_info": {
   "codemirror_mode": {
    "name": "ipython",
    "version": 3
   },
   "file_extension": ".py",
   "mimetype": "text/x-python",
   "name": "python",
   "nbconvert_exporter": "python",
   "pygments_lexer": "ipython3",
   "version": "3.8.1"
  }
 },
 "nbformat": 4,
 "nbformat_minor": 4
}
