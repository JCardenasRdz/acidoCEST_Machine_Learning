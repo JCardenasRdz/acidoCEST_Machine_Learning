{
 "cells": [
  {
   "cell_type": "code",
   "execution_count": 1,
   "metadata": {},
   "outputs": [],
   "source": [
    "from tpot import TPOTClassifier\n",
    "import pandas as pd\n",
    "from sklearn.model_selection import train_test_split\n",
    "import pandas as pd\n",
    "from sklearn import metrics\n",
    "import scikitplot as skplt"
   ]
  },
  {
   "cell_type": "code",
   "execution_count": 2,
   "metadata": {},
   "outputs": [],
   "source": [
    "acidoCEST_ML = pd.read_csv('acido_CEST_MRI_MegaBox_01_to_08_clean.csv')\n",
    "acidoCEST_ML = acidoCEST_ML.drop(['Unnamed: 0','ApproT1(sec)','Temp','FILE','Conc(mM)','ExpT1(ms)', 'ExpT2(ms)', 'ExpB1(percent)', 'ExpB0(ppm)',\n",
    "       'ExpB0(Hz)', 'SatPower(uT)', 'SatTime(ms)'], axis = 1)"
   ]
  },
  {
   "cell_type": "markdown",
   "metadata": {},
   "source": [
    "acidoCEST_ML.head(2)"
   ]
  },
  {
   "cell_type": "code",
   "execution_count": 3,
   "metadata": {},
   "outputs": [
    {
     "data": {
      "text/plain": [
       "Index(['pH', '-12', '-11', '-10', '-9', '-6', '-3', '-2.75', '-2.5', '-2.25',\n",
       "       '-2', '-1.8', '-1.6', '-1.4', '-1.2', '-1', '-0.8', '-0.6', '-0.4',\n",
       "       '-0.2', '0', '0.2', '0.4', '0.6', '0.8', '1', '1.2', '1.4', '1.6',\n",
       "       '1.8', '2', '2.2', '2.4', '2.6', '2.8', '3', '3.2', '3.3', '3.4', '3.5',\n",
       "       '3.6', '3.7', '3.8', '3.9', '4', '4.1', '4.2', '4.3', '4.4', '4.5',\n",
       "       '4.6', '4.7', '4.8', '4.9', '5', '5.1', '5.2', '5.3', '5.4', '5.5',\n",
       "       '5.6', '5.7', '5.8', '5.9', '6', '6.1', '6.2', '6.3', '6.4', '6.5',\n",
       "       '6.6', '6.8', '7', '7.2', '7.4', '7.6', '7.8', '8', '9', '10', '11',\n",
       "       '12'],\n",
       "      dtype='object')"
      ]
     },
     "execution_count": 3,
     "metadata": {},
     "output_type": "execute_result"
    }
   ],
   "source": [
    "acidoCEST_ML.columns"
   ]
  },
  {
   "cell_type": "markdown",
   "metadata": {},
   "source": [
    "## pH  > 7.0"
   ]
  },
  {
   "cell_type": "code",
   "execution_count": 4,
   "metadata": {},
   "outputs": [],
   "source": [
    "X_train, X_test, y_train, y_test = train_test_split( acidoCEST_ML.drop('pH',axis=1) , 1*(acidoCEST_ML.pH > 7.0 ), test_size=0.30, random_state=42)"
   ]
  },
  {
   "cell_type": "code",
   "execution_count": 5,
   "metadata": {},
   "outputs": [
    {
     "name": "stdout",
     "output_type": "stream",
     "text": [
      "Warning: xgboost.XGBClassifier is not available and will not be used by TPOT.\n"
     ]
    },
    {
     "name": "stderr",
     "output_type": "stream",
     "text": [
      "Version 0.11.6.post1 of tpot is outdated. Version 0.11.7 was released Wednesday January 06, 2021.\n"
     ]
    },
    {
     "data": {
      "application/vnd.jupyter.widget-view+json": {
       "model_id": "f6da73659635455ab67c9a37c2c8a6ca",
       "version_major": 2,
       "version_minor": 0
      },
      "text/plain": [
       "HBox(children=(FloatProgress(value=0.0, description='Optimization Progress', max=10.0, style=ProgressStyle(des…"
      ]
     },
     "metadata": {},
     "output_type": "display_data"
    },
    {
     "name": "stdout",
     "output_type": "stream",
     "text": [
      "\n",
      "Generation 1 - Current best internal CV score: 0.8406095577533014\n",
      "\n",
      "Generation 2 - Current best internal CV score: 0.8425766471661399\n",
      "\n",
      "Generation 3 - Current best internal CV score: 0.8499776592109844\n",
      "\n",
      "Generation 4 - Current best internal CV score: 0.8499776592109844\n",
      "\n",
      "Generation 5 - Current best internal CV score: 0.8499776592109844\n",
      "\n",
      "Generation 6 - Current best internal CV score: 0.8499776592109844\n",
      "\n",
      "The optimized pipeline was not improved after evaluating 3 more generations. Will end the optimization process.\n",
      "\n",
      "TPOT closed prematurely. Will use the current best pipeline.\n",
      "\n",
      "Best pipeline: ExtraTreesClassifier(SelectPercentile(PCA(input_matrix, iterated_power=10, svd_solver=randomized), percentile=29), bootstrap=False, criterion=gini, max_features=0.8500000000000001, min_samples_leaf=3, min_samples_split=17, n_estimators=100)\n"
     ]
    },
    {
     "data": {
      "text/plain": [
       "TPOTClassifier(config_dict=None, crossover_rate=0.1, cv=3,\n",
       "               disable_update_check=False, early_stop=3, generations=10,\n",
       "               log_file=None, max_eval_time_mins=5, max_time_mins=60,\n",
       "               memory=None, mutation_rate=0.9, n_jobs=3, offspring_size=None,\n",
       "               periodic_checkpoint_folder=None, population_size=10,\n",
       "               random_state=None, scoring='precision_weighted', subsample=1.0,\n",
       "               template='PCA-Selector-Classifier', use_dask=False, verbosity=2,\n",
       "               warm_start=False)"
      ]
     },
     "execution_count": 5,
     "metadata": {},
     "output_type": "execute_result"
    }
   ],
   "source": [
    "tpot = TPOTClassifier(generations=10, population_size=10, verbosity=2, n_jobs= 3 , cv = 3,\n",
    "                      template='PCA-Selector-Classifier',early_stop=3,max_time_mins=60\n",
    "                       ,scoring ='precision_weighted')\n",
    "tpot.fit(X_train,y_train)"
   ]
  },
  {
   "cell_type": "code",
   "execution_count": 6,
   "metadata": {},
   "outputs": [
    {
     "data": {
      "text/plain": [
       "<matplotlib.axes._subplots.AxesSubplot at 0x7fbdc9000f70>"
      ]
     },
     "execution_count": 6,
     "metadata": {},
     "output_type": "execute_result"
    },
    {
     "data": {
      "image/png": "[encoded data removed]",
      "text/plain": [
       "<Figure size 432x288 with 2 Axes>"
      ]
     },
     "metadata": {
      "needs_background": "light"
     },
     "output_type": "display_data"
    }
   ],
   "source": [
    "skplt.metrics.plot_confusion_matrix(y_test, tpot.predict(X_test), normalize=False)"
   ]
  },
  {
   "cell_type": "code",
   "execution_count": 7,
   "metadata": {},
   "outputs": [
    {
     "name": "stdout",
     "output_type": "stream",
     "text": [
      "              precision    recall  f1-score   support\n",
      "\n",
      "           0       0.86      0.96      0.91      7770\n",
      "           1       0.86      0.60      0.70      3030\n",
      "\n",
      "    accuracy                           0.86     10800\n",
      "   macro avg       0.86      0.78      0.81     10800\n",
      "weighted avg       0.86      0.86      0.85     10800\n",
      "\n"
     ]
    }
   ],
   "source": [
    "print( metrics.classification_report(y_test, tpot.predict(X_test)) )"
   ]
  },
  {
   "cell_type": "markdown",
   "metadata": {},
   "source": [
    "### Next\n",
    "- Do we need the data at (power=  0.5 and 1.0 uT, sat time = 0.50 or 1.0 seconds) (heat map of error 2d)\n",
    "- How much does measuring other things beside the Z spectra help?\n",
    "- Are the regression outlier due to Power and T1\n",
    "- Effect of noise\n",
    "\n",
    "- Do these later\n",
    "2. Can we start with fewer frequencies ?\n",
    "3. What frequencies are needed ?\n",
    "5. Max 27 or 25 frequencies\n",
    "6. pH higher than 6.8\n",
    "\n",
    "\n"
   ]
  },
  {
   "cell_type": "markdown",
   "metadata": {},
   "source": [
    "## pH  > 6.5"
   ]
  },
  {
   "cell_type": "code",
   "execution_count": 8,
   "metadata": {},
   "outputs": [],
   "source": [
    "X_train, X_test, y_train, y_test = train_test_split( acidoCEST_ML.drop('pH',axis=1) , 1*(acidoCEST_ML.pH > 6.5 ), test_size=0.30, random_state=42)"
   ]
  },
  {
   "cell_type": "code",
   "execution_count": 9,
   "metadata": {},
   "outputs": [
    {
     "name": "stdout",
     "output_type": "stream",
     "text": [
      "Warning: xgboost.XGBClassifier is not available and will not be used by TPOT.\n"
     ]
    },
    {
     "name": "stderr",
     "output_type": "stream",
     "text": [
      "Version 0.11.6.post1 of tpot is outdated. Version 0.11.7 was released Wednesday January 06, 2021.\n"
     ]
    },
    {
     "data": {
      "application/vnd.jupyter.widget-view+json": {
       "model_id": "64a6793db4e744bfb561f62c18bb31b7",
       "version_major": 2,
       "version_minor": 0
      },
      "text/plain": [
       "HBox(children=(FloatProgress(value=0.0, description='Optimization Progress', max=10.0, style=ProgressStyle(des…"
      ]
     },
     "metadata": {},
     "output_type": "display_data"
    },
    {
     "name": "stdout",
     "output_type": "stream",
     "text": [
      "\n",
      "Generation 1 - Current best internal CV score: 0.7672492909307397\n",
      "\n",
      "Generation 2 - Current best internal CV score: 0.7672492909307397\n",
      "\n",
      "Generation 3 - Current best internal CV score: 0.7672492909307397\n",
      "\n",
      "Generation 4 - Current best internal CV score: 0.7704481803356549\n",
      "\n",
      "Generation 5 - Current best internal CV score: 0.7743850562598471\n",
      "\n",
      "Generation 6 - Current best internal CV score: 0.7913650758572618\n",
      "\n",
      "Generation 7 - Current best internal CV score: 0.814690942925037\n",
      "\n",
      "Generation 8 - Current best internal CV score: 0.8164871559700232\n",
      "\n",
      "Generation 9 - Current best internal CV score: 0.8164871559700232\n",
      "\n",
      "Generation 10 - Current best internal CV score: 0.8164871559700232\n",
      "\n",
      "Best pipeline: RandomForestClassifier(SelectPercentile(PCA(input_matrix, iterated_power=5, svd_solver=randomized), percentile=48), bootstrap=False, criterion=gini, max_features=0.2, min_samples_leaf=1, min_samples_split=3, n_estimators=100)\n"
     ]
    },
    {
     "data": {
      "text/plain": [
       "TPOTClassifier(config_dict=None, crossover_rate=0.1, cv=3,\n",
       "               disable_update_check=False, early_stop=3, generations=10,\n",
       "               log_file=None, max_eval_time_mins=5, max_time_mins=60,\n",
       "               memory=None, mutation_rate=0.9, n_jobs=3, offspring_size=None,\n",
       "               periodic_checkpoint_folder=None, population_size=10,\n",
       "               random_state=None, scoring='precision_weighted', subsample=1.0,\n",
       "               template='PCA-Selector-Classifier', use_dask=False, verbosity=2,\n",
       "               warm_start=False)"
      ]
     },
     "execution_count": 9,
     "metadata": {},
     "output_type": "execute_result"
    }
   ],
   "source": [
    "tpot = TPOTClassifier(generations=10, population_size=10, verbosity=2, n_jobs= 3 , cv = 3,\n",
    "                      template='PCA-Selector-Classifier',early_stop=3,max_time_mins=60\n",
    "                       ,scoring ='precision_weighted')\n",
    "tpot.fit(X_train,y_train)"
   ]
  },
  {
   "cell_type": "code",
   "execution_count": 10,
   "metadata": {},
   "outputs": [
    {
     "data": {
      "text/plain": [
       "<matplotlib.axes._subplots.AxesSubplot at 0x7fbd58bb5940>"
      ]
     },
     "execution_count": 10,
     "metadata": {},
     "output_type": "execute_result"
    },
    {
     "data": {
      "image/png": "[encoded data removed]",
      "text/plain": [
       "<Figure size 432x288 with 2 Axes>"
      ]
     },
     "metadata": {
      "needs_background": "light"
     },
     "output_type": "display_data"
    }
   ],
   "source": [
    "skplt.metrics.plot_confusion_matrix(y_test, tpot.predict(X_test), normalize=False)"
   ]
  },
  {
   "cell_type": "code",
   "execution_count": 11,
   "metadata": {},
   "outputs": [
    {
     "name": "stdout",
     "output_type": "stream",
     "text": [
      "              precision    recall  f1-score   support\n",
      "\n",
      "           0       1.00      1.00      1.00      6247\n",
      "           1       1.00      1.00      1.00     18953\n",
      "\n",
      "    accuracy                           1.00     25200\n",
      "   macro avg       1.00      1.00      1.00     25200\n",
      "weighted avg       1.00      1.00      1.00     25200\n",
      "\n"
     ]
    }
   ],
   "source": [
    "print( metrics.classification_report(y_train, tpot.predict(X_train)) )"
   ]
  },
  {
   "cell_type": "code",
   "execution_count": 12,
   "metadata": {},
   "outputs": [],
   "source": [
    "tpot.export('acidoCEST_ML_tpot_pH6p5_classifier.py')"
   ]
  },
  {
   "cell_type": "code",
   "execution_count": 13,
   "metadata": {},
   "outputs": [
    {
     "data": {
      "text/html": [
       "<div>\n",
       "<style scoped>\n",
       "    .dataframe tbody tr th:only-of-type {\n",
       "        vertical-align: middle;\n",
       "    }\n",
       "\n",
       "    .dataframe tbody tr th {\n",
       "        vertical-align: top;\n",
       "    }\n",
       "\n",
       "    .dataframe thead th {\n",
       "        text-align: right;\n",
       "    }\n",
       "</style>\n",
       "<table border=\"1\" class=\"dataframe\">\n",
       "  <thead>\n",
       "    <tr style=\"text-align: right;\">\n",
       "      <th></th>\n",
       "      <th>pH</th>\n",
       "      <th>-12</th>\n",
       "      <th>-11</th>\n",
       "      <th>-10</th>\n",
       "      <th>-9</th>\n",
       "      <th>-6</th>\n",
       "      <th>-3</th>\n",
       "      <th>-2.75</th>\n",
       "      <th>-2.5</th>\n",
       "      <th>-2.25</th>\n",
       "      <th>...</th>\n",
       "      <th>7</th>\n",
       "      <th>7.2</th>\n",
       "      <th>7.4</th>\n",
       "      <th>7.6</th>\n",
       "      <th>7.8</th>\n",
       "      <th>8</th>\n",
       "      <th>9</th>\n",
       "      <th>10</th>\n",
       "      <th>11</th>\n",
       "      <th>12</th>\n",
       "    </tr>\n",
       "  </thead>\n",
       "  <tbody>\n",
       "    <tr>\n",
       "      <th>0</th>\n",
       "      <td>6.24</td>\n",
       "      <td>0.994178</td>\n",
       "      <td>0.983831</td>\n",
       "      <td>0.993102</td>\n",
       "      <td>0.986093</td>\n",
       "      <td>0.981532</td>\n",
       "      <td>0.970109</td>\n",
       "      <td>0.963545</td>\n",
       "      <td>0.965288</td>\n",
       "      <td>0.949342</td>\n",
       "      <td>...</td>\n",
       "      <td>0.971111</td>\n",
       "      <td>0.980716</td>\n",
       "      <td>0.979566</td>\n",
       "      <td>0.979752</td>\n",
       "      <td>0.984350</td>\n",
       "      <td>0.984906</td>\n",
       "      <td>0.984795</td>\n",
       "      <td>0.984350</td>\n",
       "      <td>0.984981</td>\n",
       "      <td>0.988652</td>\n",
       "    </tr>\n",
       "    <tr>\n",
       "      <th>1</th>\n",
       "      <td>6.38</td>\n",
       "      <td>0.992924</td>\n",
       "      <td>0.985348</td>\n",
       "      <td>0.994155</td>\n",
       "      <td>0.987194</td>\n",
       "      <td>0.981272</td>\n",
       "      <td>0.965967</td>\n",
       "      <td>0.971658</td>\n",
       "      <td>0.964582</td>\n",
       "      <td>0.963621</td>\n",
       "      <td>...</td>\n",
       "      <td>0.980465</td>\n",
       "      <td>0.974735</td>\n",
       "      <td>0.983810</td>\n",
       "      <td>0.980580</td>\n",
       "      <td>0.989117</td>\n",
       "      <td>0.976427</td>\n",
       "      <td>0.985118</td>\n",
       "      <td>0.992963</td>\n",
       "      <td>0.982541</td>\n",
       "      <td>0.986118</td>\n",
       "    </tr>\n",
       "    <tr>\n",
       "      <th>2</th>\n",
       "      <td>6.58</td>\n",
       "      <td>0.994844</td>\n",
       "      <td>0.993349</td>\n",
       "      <td>0.997166</td>\n",
       "      <td>0.991853</td>\n",
       "      <td>0.989137</td>\n",
       "      <td>0.973630</td>\n",
       "      <td>0.973630</td>\n",
       "      <td>0.973788</td>\n",
       "      <td>0.966546</td>\n",
       "      <td>...</td>\n",
       "      <td>0.990908</td>\n",
       "      <td>0.993978</td>\n",
       "      <td>0.986067</td>\n",
       "      <td>0.977566</td>\n",
       "      <td>0.994293</td>\n",
       "      <td>0.991026</td>\n",
       "      <td>0.993073</td>\n",
       "      <td>0.995671</td>\n",
       "      <td>0.995749</td>\n",
       "      <td>0.994293</td>\n",
       "    </tr>\n",
       "    <tr>\n",
       "      <th>3</th>\n",
       "      <td>6.69</td>\n",
       "      <td>0.983920</td>\n",
       "      <td>0.990491</td>\n",
       "      <td>0.986394</td>\n",
       "      <td>0.979513</td>\n",
       "      <td>0.977735</td>\n",
       "      <td>0.963471</td>\n",
       "      <td>0.956320</td>\n",
       "      <td>0.960611</td>\n",
       "      <td>0.950174</td>\n",
       "      <td>...</td>\n",
       "      <td>0.977619</td>\n",
       "      <td>0.978972</td>\n",
       "      <td>0.969579</td>\n",
       "      <td>0.976034</td>\n",
       "      <td>0.980634</td>\n",
       "      <td>0.977116</td>\n",
       "      <td>0.982064</td>\n",
       "      <td>0.984422</td>\n",
       "      <td>0.980634</td>\n",
       "      <td>0.978856</td>\n",
       "    </tr>\n",
       "    <tr>\n",
       "      <th>4</th>\n",
       "      <td>6.84</td>\n",
       "      <td>0.998284</td>\n",
       "      <td>0.989862</td>\n",
       "      <td>0.989667</td>\n",
       "      <td>0.986353</td>\n",
       "      <td>0.986626</td>\n",
       "      <td>0.968378</td>\n",
       "      <td>0.957851</td>\n",
       "      <td>0.954381</td>\n",
       "      <td>0.955784</td>\n",
       "      <td>...</td>\n",
       "      <td>0.979530</td>\n",
       "      <td>0.976333</td>\n",
       "      <td>0.986626</td>\n",
       "      <td>0.980583</td>\n",
       "      <td>0.986158</td>\n",
       "      <td>0.983624</td>\n",
       "      <td>0.992982</td>\n",
       "      <td>0.984248</td>\n",
       "      <td>0.985690</td>\n",
       "      <td>0.985417</td>\n",
       "    </tr>\n",
       "  </tbody>\n",
       "</table>\n",
       "<p>5 rows × 82 columns</p>\n",
       "</div>"
      ],
      "text/plain": [
       "     pH       -12       -11       -10        -9        -6        -3     -2.75  \\\n",
       "0  6.24  0.994178  0.983831  0.993102  0.986093  0.981532  0.970109  0.963545   \n",
       "1  6.38  0.992924  0.985348  0.994155  0.987194  0.981272  0.965967  0.971658   \n",
       "2  6.58  0.994844  0.993349  0.997166  0.991853  0.989137  0.973630  0.973630   \n",
       "3  6.69  0.983920  0.990491  0.986394  0.979513  0.977735  0.963471  0.956320   \n",
       "4  6.84  0.998284  0.989862  0.989667  0.986353  0.986626  0.968378  0.957851   \n",
       "\n",
       "       -2.5     -2.25  ...         7       7.2       7.4       7.6       7.8  \\\n",
       "0  0.965288  0.949342  ...  0.971111  0.980716  0.979566  0.979752  0.984350   \n",
       "1  0.964582  0.963621  ...  0.980465  0.974735  0.983810  0.980580  0.989117   \n",
       "2  0.973788  0.966546  ...  0.990908  0.993978  0.986067  0.977566  0.994293   \n",
       "3  0.960611  0.950174  ...  0.977619  0.978972  0.969579  0.976034  0.980634   \n",
       "4  0.954381  0.955784  ...  0.979530  0.976333  0.986626  0.980583  0.986158   \n",
       "\n",
       "          8         9        10        11        12  \n",
       "0  0.984906  0.984795  0.984350  0.984981  0.988652  \n",
       "1  0.976427  0.985118  0.992963  0.982541  0.986118  \n",
       "2  0.991026  0.993073  0.995671  0.995749  0.994293  \n",
       "3  0.977116  0.982064  0.984422  0.980634  0.978856  \n",
       "4  0.983624  0.992982  0.984248  0.985690  0.985417  \n",
       "\n",
       "[5 rows x 82 columns]"
      ]
     },
     "execution_count": 13,
     "metadata": {},
     "output_type": "execute_result"
    }
   ],
   "source": [
    "acidoCEST_ML.head()"
   ]
  },
  {
   "cell_type": "code",
   "execution_count": 14,
   "metadata": {},
   "outputs": [
    {
     "ename": "ValueError",
     "evalue": "Classification metrics can't handle a mix of binary and continuous-multioutput targets",
     "output_type": "error",
     "traceback": [
      "\u001b[0;31m---------------------------------------------------------------------------\u001b[0m",
      "\u001b[0;31mValueError\u001b[0m                                Traceback (most recent call last)",
      "\u001b[0;32m<ipython-input-14-8712b5b26312>\u001b[0m in \u001b[0;36m<module>\u001b[0;34m\u001b[0m\n\u001b[0;32m----> 1\u001b[0;31m \u001b[0mmetrics\u001b[0m\u001b[0;34m.\u001b[0m\u001b[0mclassification_report\u001b[0m\u001b[0;34m(\u001b[0m \u001b[0;36m1\u001b[0m\u001b[0;34m*\u001b[0m\u001b[0;34m(\u001b[0m\u001b[0macidoCEST_ML\u001b[0m\u001b[0;34m.\u001b[0m\u001b[0mpH\u001b[0m \u001b[0;34m>\u001b[0m \u001b[0;36m6.5\u001b[0m\u001b[0;34m)\u001b[0m\u001b[0;34m,\u001b[0m \u001b[0macidoCEST_ML\u001b[0m\u001b[0;34m.\u001b[0m\u001b[0mdrop\u001b[0m\u001b[0;34m(\u001b[0m\u001b[0;34m'pH'\u001b[0m\u001b[0;34m,\u001b[0m \u001b[0maxis\u001b[0m \u001b[0;34m=\u001b[0m \u001b[0;36m1\u001b[0m\u001b[0;34m)\u001b[0m\u001b[0;34m)\u001b[0m\u001b[0;34m\u001b[0m\u001b[0;34m\u001b[0m\u001b[0m\n\u001b[0m",
      "\u001b[0;32m/Library/Frameworks/Python.framework/Versions/3.8/lib/python3.8/site-packages/sklearn/metrics/_classification.py\u001b[0m in \u001b[0;36mclassification_report\u001b[0;34m(y_true, y_pred, labels, target_names, sample_weight, digits, output_dict, zero_division)\u001b[0m\n\u001b[1;32m   1969\u001b[0m     \"\"\"\n\u001b[1;32m   1970\u001b[0m \u001b[0;34m\u001b[0m\u001b[0m\n\u001b[0;32m-> 1971\u001b[0;31m     \u001b[0my_type\u001b[0m\u001b[0;34m,\u001b[0m \u001b[0my_true\u001b[0m\u001b[0;34m,\u001b[0m \u001b[0my_pred\u001b[0m \u001b[0;34m=\u001b[0m \u001b[0m_check_targets\u001b[0m\u001b[0;34m(\u001b[0m\u001b[0my_true\u001b[0m\u001b[0;34m,\u001b[0m \u001b[0my_pred\u001b[0m\u001b[0;34m)\u001b[0m\u001b[0;34m\u001b[0m\u001b[0;34m\u001b[0m\u001b[0m\n\u001b[0m\u001b[1;32m   1972\u001b[0m \u001b[0;34m\u001b[0m\u001b[0m\n\u001b[1;32m   1973\u001b[0m     \u001b[0mlabels_given\u001b[0m \u001b[0;34m=\u001b[0m \u001b[0;32mTrue\u001b[0m\u001b[0;34m\u001b[0m\u001b[0;34m\u001b[0m\u001b[0m\n",
      "\u001b[0;32m/Library/Frameworks/Python.framework/Versions/3.8/lib/python3.8/site-packages/sklearn/metrics/_classification.py\u001b[0m in \u001b[0;36m_check_targets\u001b[0;34m(y_true, y_pred)\u001b[0m\n\u001b[1;32m     87\u001b[0m \u001b[0;34m\u001b[0m\u001b[0m\n\u001b[1;32m     88\u001b[0m     \u001b[0;32mif\u001b[0m \u001b[0mlen\u001b[0m\u001b[0;34m(\u001b[0m\u001b[0my_type\u001b[0m\u001b[0;34m)\u001b[0m \u001b[0;34m>\u001b[0m \u001b[0;36m1\u001b[0m\u001b[0;34m:\u001b[0m\u001b[0;34m\u001b[0m\u001b[0;34m\u001b[0m\u001b[0m\n\u001b[0;32m---> 89\u001b[0;31m         raise ValueError(\"Classification metrics can't handle a mix of {0} \"\n\u001b[0m\u001b[1;32m     90\u001b[0m                          \"and {1} targets\".format(type_true, type_pred))\n\u001b[1;32m     91\u001b[0m \u001b[0;34m\u001b[0m\u001b[0m\n",
      "\u001b[0;31mValueError\u001b[0m: Classification metrics can't handle a mix of binary and continuous-multioutput targets"
     ]
    }
   ],
   "source": [
    "metrics.classification_report( 1*(acidoCEST_ML.pH > 6.5), acidoCEST_ML.drop('pH', axis = 1))"
   ]
  },
  {
   "cell_type": "code",
   "execution_count": null,
   "metadata": {},
   "outputs": [],
   "source": []
  },
  {
   "cell_type": "code",
   "execution_count": null,
   "metadata": {},
   "outputs": [],
   "source": []
  },
  {
   "cell_type": "code",
   "execution_count": null,
   "metadata": {},
   "outputs": [],
   "source": []
  }
 ],
 "metadata": {
  "kernelspec": {
   "display_name": "Python 3",
   "language": "python",
   "name": "python3"
  },
  "language_info": {
   "codemirror_mode": {
    "name": "ipython",
    "version": 3
   },
   "file_extension": ".py",
   "mimetype": "text/x-python",
   "name": "python",
   "nbconvert_exporter": "python",
   "pygments_lexer": "ipython3",
   "version": "3.8.1"
  }
 },
 "nbformat": 4,
 "nbformat_minor": 4
}
