{
 "cells": [
  {
   "cell_type": "code",
   "execution_count": 1,
   "metadata": {},
   "outputs": [],
   "source": [
    "from tpot import TPOTRegressor\n",
    "import matplotlib.pyplot as plt\n",
    "import pandas as pd\n",
    "from sklearn.model_selection import train_test_split\n",
    "from sklearn import metrics\n",
    "import pandas as pd\n",
    "import seaborn as sns\n",
    "import numpy as np\n",
    "import datetime\n",
    "\n",
    "from sklearn.ensemble import RandomForestRegressor\n",
    "from sklearn.preprocessing import StandardScaler\n",
    "from sklearn.linear_model import Lasso\n",
    "from sklearn.feature_selection import SelectFromModel\n",
    "from sklearn.model_selection   import GridSearchCV\n",
    "import plotly.express as px"
   ]
  },
  {
   "cell_type": "markdown",
   "metadata": {},
   "source": [
    "## DATA"
   ]
  },
  {
   "cell_type": "code",
   "execution_count": 2,
   "metadata": {},
   "outputs": [
    {
     "name": "stdout",
     "output_type": "stream",
     "text": [
      "CPU times: user 454 ms, sys: 55.6 ms, total: 510 ms\n",
      "Wall time: 508 ms\n"
     ]
    }
   ],
   "source": [
    "%%time\n",
    "# data\n",
    "acidoCEST_ML = pd.read_csv('acido_CEST_MRI_MegaBox_01_to_08_clean.csv')\n",
    "acidoCEST_ML = acidoCEST_ML.drop(['Unnamed: 0','ApproT1(sec)','FILE'], axis = 1)\n",
    "c = acidoCEST_ML.iloc[:,10::].columns.tolist()\n",
    "\n",
    "Z = acidoCEST_ML.iloc[:,10::].copy()\n",
    "\n",
    "freqs = np.array( [float(x) for x in Z.columns ] )\n",
    "freqs = freqs - freqs[np.argmin(Z.median().values )]\n",
    "Z.columns = [str( np.round(x,2)) for x in freqs ]\n",
    "\n",
    "f1 = acidoCEST_ML['SatTime(ms)'] > 2000\n",
    "f2 = acidoCEST_ML['SatPower(uT)'] > 1.\n",
    "f3 = acidoCEST_ML['Conc(mM)'] > 10\n",
    "f4 = acidoCEST_ML.Temp = 37"
   ]
  },
  {
   "cell_type": "markdown",
   "metadata": {},
   "source": [
    "## LASSO (Linear Model)"
   ]
  },
  {
   "cell_type": "markdown",
   "metadata": {},
   "source": [
    "$$ \\min_{w} { \\frac{1}{2n_{\\text{samples}}} ||X w - y||_2 ^ 2 + \\alpha ||w||_1} $$"
   ]
  },
  {
   "cell_type": "code",
   "execution_count": 3,
   "metadata": {},
   "outputs": [],
   "source": [
    "X = Z.copy()\n",
    "y = acidoCEST_ML.pH"
   ]
  },
  {
   "cell_type": "code",
   "execution_count": 32,
   "metadata": {},
   "outputs": [],
   "source": [
    "alphas = np.linspace(1E-6,1E-3,200)\n",
    "\n",
    "selected_freqs = []\n",
    "\n",
    "l = ['alpha']\n",
    "l.extend(Z.columns)\n",
    "\n",
    "I = pd.DataFrame( np.zeros( (len(alphas), len(l) ) ), columns= l )\n",
    "\n",
    "\n",
    "for i,A in enumerate(alphas):\n",
    "    L = Lasso(alpha = A, fit_intercept=True , normalize=False,max_iter=1000000,tol=.01).fit(X,y)\n",
    "    model = SelectFromModel(L, prefit=True)\n",
    "    X_new = model.transform(X)\n",
    "    selected_freqs.append( X_new.shape[1] )\n",
    "    \n",
    "    I.loc[i,'alpha'] = A\n",
    "    \n",
    "    I.loc[i, Z.columns] = L.coef_\n",
    "    \n"
   ]
  },
  {
   "cell_type": "code",
   "execution_count": 33,
   "metadata": {},
   "outputs": [
    {
     "data": {
      "application/vnd.plotly.v1+json": {
       "config": {
        "plotlyServerURL": "https://plot.ly"
       },
       "data": [
        {
         "hoverlabel": {
          "namelength": 0
         },
         "hovertemplate": "Saturation Frequency=%{x}<br>Selection=%{y}",
         "legendgroup": "",
         "marker": {
          "color": "#636efa",
          "symbol": "circle"
         },
         "mode": "markers",
         "name": "",
         "showlegend": false,
         "type": "scatter",
         "x": [
          "-12.2",
          "-11.2",
          "-10.2",
          "-9.2",
          "-6.2",
          "-3.2",
          "-2.95",
          "-2.7",
          "-2.45",
          "-2.2",
          "-2.0",
          "-1.8",
          "-1.6",
          "-1.4",
          "-1.2",
          "-1.0",
          "-0.8",
          "-0.6",
          "-0.4",
          "-0.2",
          "0.0",
          "0.2",
          "0.4",
          "0.6",
          "0.8",
          "1.0",
          "1.2",
          "1.4",
          "1.6",
          "1.8",
          "2.0",
          "2.2",
          "2.4",
          "2.6",
          "2.8",
          "3.0",
          "3.1",
          "3.2",
          "3.3",
          "3.4",
          "3.5",
          "3.6",
          "3.7",
          "3.8",
          "3.9",
          "4.0",
          "4.1",
          "4.2",
          "4.3",
          "4.4",
          "4.5",
          "4.6",
          "4.7",
          "4.8",
          "4.9",
          "5.0",
          "5.1",
          "5.2",
          "5.3",
          "5.4",
          "5.5",
          "5.6",
          "5.7",
          "5.8",
          "5.9",
          "6.0",
          "6.1",
          "6.2",
          "6.3",
          "6.4",
          "6.6",
          "6.8",
          "7.0",
          "7.2",
          "7.4",
          "7.6",
          "7.8",
          "8.8",
          "9.8",
          "10.8",
          "11.8"
         ],
         "xaxis": "x",
         "y": [
          0.3,
          0.3,
          0.5,
          1,
          5.8,
          4.4,
          1.5,
          1.1,
          1.2,
          0.1,
          0.3,
          0.4,
          4.6,
          14,
          20,
          7.8,
          0.8,
          5.1,
          10.3,
          6,
          20,
          4.6,
          20,
          1.6,
          1.2,
          20,
          1.2,
          0.7,
          4.6,
          19.4,
          18.5,
          6,
          1.1,
          0.6,
          0.7,
          3.2,
          4.5,
          0.4,
          11.2,
          0.1,
          0.2,
          0.8,
          5.9,
          3.4,
          8.1,
          1.2,
          12.7,
          19.1,
          20,
          20,
          18.3,
          20,
          20,
          20,
          13.8,
          3.7,
          0.1,
          0.1,
          0.1,
          1.6,
          3.3,
          20,
          20,
          20,
          0.1,
          5.3,
          0.3,
          0.2,
          0.2,
          1.4,
          0.1,
          1.4,
          0.9,
          0.3,
          1.2,
          0.1,
          0.2,
          0.4,
          0.3,
          0.1,
          0.4
         ],
         "yaxis": "y"
        }
       ],
       "layout": {
        "legend": {
         "tracegroupgap": 0
        },
        "template": {
         "data": {
          "bar": [
           {
            "error_x": {
             "color": "#2a3f5f"
            },
            "error_y": {
             "color": "#2a3f5f"
            },
            "marker": {
             "line": {
              "color": "#E5ECF6",
              "width": 0.5
             }
            },
            "type": "bar"
           }
          ],
          "barpolar": [
           {
            "marker": {
             "line": {
              "color": "#E5ECF6",
              "width": 0.5
             }
            },
            "type": "barpolar"
           }
          ],
          "carpet": [
           {
            "aaxis": {
             "endlinecolor": "#2a3f5f",
             "gridcolor": "white",
             "linecolor": "white",
             "minorgridcolor": "white",
             "startlinecolor": "#2a3f5f"
            },
            "baxis": {
             "endlinecolor": "#2a3f5f",
             "gridcolor": "white",
             "linecolor": "white",
             "minorgridcolor": "white",
             "startlinecolor": "#2a3f5f"
            },
            "type": "carpet"
           }
          ],
          "choropleth": [
           {
            "colorbar": {
             "outlinewidth": 0,
             "ticks": ""
            },
            "type": "choropleth"
           }
          ],
          "contour": [
           {
            "colorbar": {
             "outlinewidth": 0,
             "ticks": ""
            },
            "colorscale": [
             [
              0,
              "#0d0887"
             ],
             [
              0.1111111111111111,
              "#46039f"
             ],
             [
              0.2222222222222222,
              "#7201a8"
             ],
             [
              0.3333333333333333,
              "#9c179e"
             ],
             [
              0.4444444444444444,
              "#bd3786"
             ],
             [
              0.5555555555555556,
              "#d8576b"
             ],
             [
              0.6666666666666666,
              "#ed7953"
             ],
             [
              0.7777777777777778,
              "#fb9f3a"
             ],
             [
              0.8888888888888888,
              "#fdca26"
             ],
             [
              1,
              "#f0f921"
             ]
            ],
            "type": "contour"
           }
          ],
          "contourcarpet": [
           {
            "colorbar": {
             "outlinewidth": 0,
             "ticks": ""
            },
            "type": "contourcarpet"
           }
          ],
          "heatmap": [
           {
            "colorbar": {
             "outlinewidth": 0,
             "ticks": ""
            },
            "colorscale": [
             [
              0,
              "#0d0887"
             ],
             [
              0.1111111111111111,
              "#46039f"
             ],
             [
              0.2222222222222222,
              "#7201a8"
             ],
             [
              0.3333333333333333,
              "#9c179e"
             ],
             [
              0.4444444444444444,
              "#bd3786"
             ],
             [
              0.5555555555555556,
              "#d8576b"
             ],
             [
              0.6666666666666666,
              "#ed7953"
             ],
             [
              0.7777777777777778,
              "#fb9f3a"
             ],
             [
              0.8888888888888888,
              "#fdca26"
             ],
             [
              1,
              "#f0f921"
             ]
            ],
            "type": "heatmap"
           }
          ],
          "heatmapgl": [
           {
            "colorbar": {
             "outlinewidth": 0,
             "ticks": ""
            },
            "colorscale": [
             [
              0,
              "#0d0887"
             ],
             [
              0.1111111111111111,
              "#46039f"
             ],
             [
              0.2222222222222222,
              "#7201a8"
             ],
             [
              0.3333333333333333,
              "#9c179e"
             ],
             [
              0.4444444444444444,
              "#bd3786"
             ],
             [
              0.5555555555555556,
              "#d8576b"
             ],
             [
              0.6666666666666666,
              "#ed7953"
             ],
             [
              0.7777777777777778,
              "#fb9f3a"
             ],
             [
              0.8888888888888888,
              "#fdca26"
             ],
             [
              1,
              "#f0f921"
             ]
            ],
            "type": "heatmapgl"
           }
          ],
          "histogram": [
           {
            "marker": {
             "colorbar": {
              "outlinewidth": 0,
              "ticks": ""
             }
            },
            "type": "histogram"
           }
          ],
          "histogram2d": [
           {
            "colorbar": {
             "outlinewidth": 0,
             "ticks": ""
            },
            "colorscale": [
             [
              0,
              "#0d0887"
             ],
             [
              0.1111111111111111,
              "#46039f"
             ],
             [
              0.2222222222222222,
              "#7201a8"
             ],
             [
              0.3333333333333333,
              "#9c179e"
             ],
             [
              0.4444444444444444,
              "#bd3786"
             ],
             [
              0.5555555555555556,
              "#d8576b"
             ],
             [
              0.6666666666666666,
              "#ed7953"
             ],
             [
              0.7777777777777778,
              "#fb9f3a"
             ],
             [
              0.8888888888888888,
              "#fdca26"
             ],
             [
              1,
              "#f0f921"
             ]
            ],
            "type": "histogram2d"
           }
          ],
          "histogram2dcontour": [
           {
            "colorbar": {
             "outlinewidth": 0,
             "ticks": ""
            },
            "colorscale": [
             [
              0,
              "#0d0887"
             ],
             [
              0.1111111111111111,
              "#46039f"
             ],
             [
              0.2222222222222222,
              "#7201a8"
             ],
             [
              0.3333333333333333,
              "#9c179e"
             ],
             [
              0.4444444444444444,
              "#bd3786"
             ],
             [
              0.5555555555555556,
              "#d8576b"
             ],
             [
              0.6666666666666666,
              "#ed7953"
             ],
             [
              0.7777777777777778,
              "#fb9f3a"
             ],
             [
              0.8888888888888888,
              "#fdca26"
             ],
             [
              1,
              "#f0f921"
             ]
            ],
            "type": "histogram2dcontour"
           }
          ],
          "mesh3d": [
           {
            "colorbar": {
             "outlinewidth": 0,
             "ticks": ""
            },
            "type": "mesh3d"
           }
          ],
          "parcoords": [
           {
            "line": {
             "colorbar": {
              "outlinewidth": 0,
              "ticks": ""
             }
            },
            "type": "parcoords"
           }
          ],
          "pie": [
           {
            "automargin": true,
            "type": "pie"
           }
          ],
          "scatter": [
           {
            "marker": {
             "colorbar": {
              "outlinewidth": 0,
              "ticks": ""
             }
            },
            "type": "scatter"
           }
          ],
          "scatter3d": [
           {
            "line": {
             "colorbar": {
              "outlinewidth": 0,
              "ticks": ""
             }
            },
            "marker": {
             "colorbar": {
              "outlinewidth": 0,
              "ticks": ""
             }
            },
            "type": "scatter3d"
           }
          ],
          "scattercarpet": [
           {
            "marker": {
             "colorbar": {
              "outlinewidth": 0,
              "ticks": ""
             }
            },
            "type": "scattercarpet"
           }
          ],
          "scattergeo": [
           {
            "marker": {
             "colorbar": {
              "outlinewidth": 0,
              "ticks": ""
             }
            },
            "type": "scattergeo"
           }
          ],
          "scattergl": [
           {
            "marker": {
             "colorbar": {
              "outlinewidth": 0,
              "ticks": ""
             }
            },
            "type": "scattergl"
           }
          ],
          "scattermapbox": [
           {
            "marker": {
             "colorbar": {
              "outlinewidth": 0,
              "ticks": ""
             }
            },
            "type": "scattermapbox"
           }
          ],
          "scatterpolar": [
           {
            "marker": {
             "colorbar": {
              "outlinewidth": 0,
              "ticks": ""
             }
            },
            "type": "scatterpolar"
           }
          ],
          "scatterpolargl": [
           {
            "marker": {
             "colorbar": {
              "outlinewidth": 0,
              "ticks": ""
             }
            },
            "type": "scatterpolargl"
           }
          ],
          "scatterternary": [
           {
            "marker": {
             "colorbar": {
              "outlinewidth": 0,
              "ticks": ""
             }
            },
            "type": "scatterternary"
           }
          ],
          "surface": [
           {
            "colorbar": {
             "outlinewidth": 0,
             "ticks": ""
            },
            "colorscale": [
             [
              0,
              "#0d0887"
             ],
             [
              0.1111111111111111,
              "#46039f"
             ],
             [
              0.2222222222222222,
              "#7201a8"
             ],
             [
              0.3333333333333333,
              "#9c179e"
             ],
             [
              0.4444444444444444,
              "#bd3786"
             ],
             [
              0.5555555555555556,
              "#d8576b"
             ],
             [
              0.6666666666666666,
              "#ed7953"
             ],
             [
              0.7777777777777778,
              "#fb9f3a"
             ],
             [
              0.8888888888888888,
              "#fdca26"
             ],
             [
              1,
              "#f0f921"
             ]
            ],
            "type": "surface"
           }
          ],
          "table": [
           {
            "cells": {
             "fill": {
              "color": "#EBF0F8"
             },
             "line": {
              "color": "white"
             }
            },
            "header": {
             "fill": {
              "color": "#C8D4E3"
             },
             "line": {
              "color": "white"
             }
            },
            "type": "table"
           }
          ]
         },
         "layout": {
          "annotationdefaults": {
           "arrowcolor": "#2a3f5f",
           "arrowhead": 0,
           "arrowwidth": 1
          },
          "coloraxis": {
           "colorbar": {
            "outlinewidth": 0,
            "ticks": ""
           }
          },
          "colorscale": {
           "diverging": [
            [
             0,
             "#8e0152"
            ],
            [
             0.1,
             "#c51b7d"
            ],
            [
             0.2,
             "#de77ae"
            ],
            [
             0.3,
             "#f1b6da"
            ],
            [
             0.4,
             "#fde0ef"
            ],
            [
             0.5,
             "#f7f7f7"
            ],
            [
             0.6,
             "#e6f5d0"
            ],
            [
             0.7,
             "#b8e186"
            ],
            [
             0.8,
             "#7fbc41"
            ],
            [
             0.9,
             "#4d9221"
            ],
            [
             1,
             "#276419"
            ]
           ],
           "sequential": [
            [
             0,
             "#0d0887"
            ],
            [
             0.1111111111111111,
             "#46039f"
            ],
            [
             0.2222222222222222,
             "#7201a8"
            ],
            [
             0.3333333333333333,
             "#9c179e"
            ],
            [
             0.4444444444444444,
             "#bd3786"
            ],
            [
             0.5555555555555556,
             "#d8576b"
            ],
            [
             0.6666666666666666,
             "#ed7953"
            ],
            [
             0.7777777777777778,
             "#fb9f3a"
            ],
            [
             0.8888888888888888,
             "#fdca26"
            ],
            [
             1,
             "#f0f921"
            ]
           ],
           "sequentialminus": [
            [
             0,
             "#0d0887"
            ],
            [
             0.1111111111111111,
             "#46039f"
            ],
            [
             0.2222222222222222,
             "#7201a8"
            ],
            [
             0.3333333333333333,
             "#9c179e"
            ],
            [
             0.4444444444444444,
             "#bd3786"
            ],
            [
             0.5555555555555556,
             "#d8576b"
            ],
            [
             0.6666666666666666,
             "#ed7953"
            ],
            [
             0.7777777777777778,
             "#fb9f3a"
            ],
            [
             0.8888888888888888,
             "#fdca26"
            ],
            [
             1,
             "#f0f921"
            ]
           ]
          },
          "colorway": [
           "#636efa",
           "#EF553B",
           "#00cc96",
           "#ab63fa",
           "#FFA15A",
           "#19d3f3",
           "#FF6692",
           "#B6E880",
           "#FF97FF",
           "#FECB52"
          ],
          "font": {
           "color": "#2a3f5f"
          },
          "geo": {
           "bgcolor": "white",
           "lakecolor": "white",
           "landcolor": "#E5ECF6",
           "showlakes": true,
           "showland": true,
           "subunitcolor": "white"
          },
          "hoverlabel": {
           "align": "left"
          },
          "hovermode": "closest",
          "mapbox": {
           "style": "light"
          },
          "paper_bgcolor": "white",
          "plot_bgcolor": "#E5ECF6",
          "polar": {
           "angularaxis": {
            "gridcolor": "white",
            "linecolor": "white",
            "ticks": ""
           },
           "bgcolor": "#E5ECF6",
           "radialaxis": {
            "gridcolor": "white",
            "linecolor": "white",
            "ticks": ""
           }
          },
          "scene": {
           "xaxis": {
            "backgroundcolor": "#E5ECF6",
            "gridcolor": "white",
            "gridwidth": 2,
            "linecolor": "white",
            "showbackground": true,
            "ticks": "",
            "zerolinecolor": "white"
           },
           "yaxis": {
            "backgroundcolor": "#E5ECF6",
            "gridcolor": "white",
            "gridwidth": 2,
            "linecolor": "white",
            "showbackground": true,
            "ticks": "",
            "zerolinecolor": "white"
           },
           "zaxis": {
            "backgroundcolor": "#E5ECF6",
            "gridcolor": "white",
            "gridwidth": 2,
            "linecolor": "white",
            "showbackground": true,
            "ticks": "",
            "zerolinecolor": "white"
           }
          },
          "shapedefaults": {
           "line": {
            "color": "#2a3f5f"
           }
          },
          "ternary": {
           "aaxis": {
            "gridcolor": "white",
            "linecolor": "white",
            "ticks": ""
           },
           "baxis": {
            "gridcolor": "white",
            "linecolor": "white",
            "ticks": ""
           },
           "bgcolor": "#E5ECF6",
           "caxis": {
            "gridcolor": "white",
            "linecolor": "white",
            "ticks": ""
           }
          },
          "title": {
           "x": 0.05
          },
          "xaxis": {
           "automargin": true,
           "gridcolor": "white",
           "linecolor": "white",
           "ticks": "",
           "title": {
            "standoff": 15
           },
           "zerolinecolor": "white",
           "zerolinewidth": 2
          },
          "yaxis": {
           "automargin": true,
           "gridcolor": "white",
           "linecolor": "white",
           "ticks": "",
           "title": {
            "standoff": 15
           },
           "zerolinecolor": "white",
           "zerolinewidth": 2
          }
         }
        },
        "title": {
         "text": "Time (%) a frequency is non zero for 1000 alphas"
        },
        "xaxis": {
         "anchor": "y",
         "domain": [
          0,
          1
         ],
         "title": {
          "text": "Saturation Frequency"
         }
        },
        "yaxis": {
         "anchor": "x",
         "domain": [
          0,
          1
         ],
         "title": {
          "text": "Selection"
         }
        }
       }
      },
      "text/html": [
       "<div>\n",
       "        \n",
       "        \n",
       "            <div id=\"badbf4b5-8296-4dff-833f-a13cacbe95a9\" class=\"plotly-graph-div\" style=\"height:525px; width:100%;\"></div>\n",
       "            <script type=\"text/javascript\">\n",
       "                require([\"plotly\"], function(Plotly) {\n",
       "                    window.PLOTLYENV=window.PLOTLYENV || {};\n",
       "                    \n",
       "                if (document.getElementById(\"badbf4b5-8296-4dff-833f-a13cacbe95a9\")) {\n",
       "                    Plotly.newPlot(\n",
       "                        'badbf4b5-8296-4dff-833f-a13cacbe95a9',\n",
       "                        [{\"hoverlabel\": {\"namelength\": 0}, \"hovertemplate\": \"Saturation Frequency=%{x}<br>Selection=%{y}\", \"legendgroup\": \"\", \"marker\": {\"color\": \"#636efa\", \"symbol\": \"circle\"}, \"mode\": \"markers\", \"name\": \"\", \"showlegend\": false, \"type\": \"scatter\", \"x\": [\"-12.2\", \"-11.2\", \"-10.2\", \"-9.2\", \"-6.2\", \"-3.2\", \"-2.95\", \"-2.7\", \"-2.45\", \"-2.2\", \"-2.0\", \"-1.8\", \"-1.6\", \"-1.4\", \"-1.2\", \"-1.0\", \"-0.8\", \"-0.6\", \"-0.4\", \"-0.2\", \"0.0\", \"0.2\", \"0.4\", \"0.6\", \"0.8\", \"1.0\", \"1.2\", \"1.4\", \"1.6\", \"1.8\", \"2.0\", \"2.2\", \"2.4\", \"2.6\", \"2.8\", \"3.0\", \"3.1\", \"3.2\", \"3.3\", \"3.4\", \"3.5\", \"3.6\", \"3.7\", \"3.8\", \"3.9\", \"4.0\", \"4.1\", \"4.2\", \"4.3\", \"4.4\", \"4.5\", \"4.6\", \"4.7\", \"4.8\", \"4.9\", \"5.0\", \"5.1\", \"5.2\", \"5.3\", \"5.4\", \"5.5\", \"5.6\", \"5.7\", \"5.8\", \"5.9\", \"6.0\", \"6.1\", \"6.2\", \"6.3\", \"6.4\", \"6.6\", \"6.8\", \"7.0\", \"7.2\", \"7.4\", \"7.6\", \"7.8\", \"8.8\", \"9.8\", \"10.8\", \"11.8\"], \"xaxis\": \"x\", \"y\": [0.3, 0.3, 0.5, 1.0, 5.8, 4.4, 1.5, 1.1, 1.2, 0.1, 0.3, 0.4, 4.6, 14.0, 20.0, 7.8, 0.8, 5.1, 10.3, 6.0, 20.0, 4.6, 20.0, 1.6, 1.2, 20.0, 1.2, 0.7, 4.6, 19.4, 18.5, 6.0, 1.1, 0.6, 0.7, 3.2, 4.5, 0.4, 11.2, 0.1, 0.2, 0.8, 5.9, 3.4, 8.1, 1.2, 12.7, 19.1, 20.0, 20.0, 18.3, 20.0, 20.0, 20.0, 13.8, 3.7, 0.1, 0.1, 0.1, 1.6, 3.3, 20.0, 20.0, 20.0, 0.1, 5.3, 0.3, 0.2, 0.2, 1.4, 0.1, 1.4, 0.9, 0.3, 1.2, 0.1, 0.2, 0.4, 0.3, 0.1, 0.4], \"yaxis\": \"y\"}],\n",
       "                        {\"legend\": {\"tracegroupgap\": 0}, \"template\": {\"data\": {\"bar\": [{\"error_x\": {\"color\": \"#2a3f5f\"}, \"error_y\": {\"color\": \"#2a3f5f\"}, \"marker\": {\"line\": {\"color\": \"#E5ECF6\", \"width\": 0.5}}, \"type\": \"bar\"}], \"barpolar\": [{\"marker\": {\"line\": {\"color\": \"#E5ECF6\", \"width\": 0.5}}, \"type\": \"barpolar\"}], \"carpet\": [{\"aaxis\": {\"endlinecolor\": \"#2a3f5f\", \"gridcolor\": \"white\", \"linecolor\": \"white\", \"minorgridcolor\": \"white\", \"startlinecolor\": \"#2a3f5f\"}, \"baxis\": {\"endlinecolor\": \"#2a3f5f\", \"gridcolor\": \"white\", \"linecolor\": \"white\", \"minorgridcolor\": \"white\", \"startlinecolor\": \"#2a3f5f\"}, \"type\": \"carpet\"}], \"choropleth\": [{\"colorbar\": {\"outlinewidth\": 0, \"ticks\": \"\"}, \"type\": \"choropleth\"}], \"contour\": [{\"colorbar\": {\"outlinewidth\": 0, \"ticks\": \"\"}, \"colorscale\": [[0.0, \"#0d0887\"], [0.1111111111111111, \"#46039f\"], [0.2222222222222222, \"#7201a8\"], [0.3333333333333333, \"#9c179e\"], [0.4444444444444444, \"#bd3786\"], [0.5555555555555556, \"#d8576b\"], [0.6666666666666666, \"#ed7953\"], [0.7777777777777778, \"#fb9f3a\"], [0.8888888888888888, \"#fdca26\"], [1.0, \"#f0f921\"]], \"type\": \"contour\"}], \"contourcarpet\": [{\"colorbar\": {\"outlinewidth\": 0, \"ticks\": \"\"}, \"type\": \"contourcarpet\"}], \"heatmap\": [{\"colorbar\": {\"outlinewidth\": 0, \"ticks\": \"\"}, \"colorscale\": [[0.0, \"#0d0887\"], [0.1111111111111111, \"#46039f\"], [0.2222222222222222, \"#7201a8\"], [0.3333333333333333, \"#9c179e\"], [0.4444444444444444, \"#bd3786\"], [0.5555555555555556, \"#d8576b\"], [0.6666666666666666, \"#ed7953\"], [0.7777777777777778, \"#fb9f3a\"], [0.8888888888888888, \"#fdca26\"], [1.0, \"#f0f921\"]], \"type\": \"heatmap\"}], \"heatmapgl\": [{\"colorbar\": {\"outlinewidth\": 0, \"ticks\": \"\"}, \"colorscale\": [[0.0, \"#0d0887\"], [0.1111111111111111, \"#46039f\"], [0.2222222222222222, \"#7201a8\"], [0.3333333333333333, \"#9c179e\"], [0.4444444444444444, \"#bd3786\"], [0.5555555555555556, \"#d8576b\"], [0.6666666666666666, \"#ed7953\"], [0.7777777777777778, \"#fb9f3a\"], [0.8888888888888888, \"#fdca26\"], [1.0, \"#f0f921\"]], \"type\": \"heatmapgl\"}], \"histogram\": [{\"marker\": {\"colorbar\": {\"outlinewidth\": 0, \"ticks\": \"\"}}, \"type\": \"histogram\"}], \"histogram2d\": [{\"colorbar\": {\"outlinewidth\": 0, \"ticks\": \"\"}, \"colorscale\": [[0.0, \"#0d0887\"], [0.1111111111111111, \"#46039f\"], [0.2222222222222222, \"#7201a8\"], [0.3333333333333333, \"#9c179e\"], [0.4444444444444444, \"#bd3786\"], [0.5555555555555556, \"#d8576b\"], [0.6666666666666666, \"#ed7953\"], [0.7777777777777778, \"#fb9f3a\"], [0.8888888888888888, \"#fdca26\"], [1.0, \"#f0f921\"]], \"type\": \"histogram2d\"}], \"histogram2dcontour\": [{\"colorbar\": {\"outlinewidth\": 0, \"ticks\": \"\"}, \"colorscale\": [[0.0, \"#0d0887\"], [0.1111111111111111, \"#46039f\"], [0.2222222222222222, \"#7201a8\"], [0.3333333333333333, \"#9c179e\"], [0.4444444444444444, \"#bd3786\"], [0.5555555555555556, \"#d8576b\"], [0.6666666666666666, \"#ed7953\"], [0.7777777777777778, \"#fb9f3a\"], [0.8888888888888888, \"#fdca26\"], [1.0, \"#f0f921\"]], \"type\": \"histogram2dcontour\"}], \"mesh3d\": [{\"colorbar\": {\"outlinewidth\": 0, \"ticks\": \"\"}, \"type\": \"mesh3d\"}], \"parcoords\": [{\"line\": {\"colorbar\": {\"outlinewidth\": 0, \"ticks\": \"\"}}, \"type\": \"parcoords\"}], \"pie\": [{\"automargin\": true, \"type\": \"pie\"}], \"scatter\": [{\"marker\": {\"colorbar\": {\"outlinewidth\": 0, \"ticks\": \"\"}}, \"type\": \"scatter\"}], \"scatter3d\": [{\"line\": {\"colorbar\": {\"outlinewidth\": 0, \"ticks\": \"\"}}, \"marker\": {\"colorbar\": {\"outlinewidth\": 0, \"ticks\": \"\"}}, \"type\": \"scatter3d\"}], \"scattercarpet\": [{\"marker\": {\"colorbar\": {\"outlinewidth\": 0, \"ticks\": \"\"}}, \"type\": \"scattercarpet\"}], \"scattergeo\": [{\"marker\": {\"colorbar\": {\"outlinewidth\": 0, \"ticks\": \"\"}}, \"type\": \"scattergeo\"}], \"scattergl\": [{\"marker\": {\"colorbar\": {\"outlinewidth\": 0, \"ticks\": \"\"}}, \"type\": \"scattergl\"}], \"scattermapbox\": [{\"marker\": {\"colorbar\": {\"outlinewidth\": 0, \"ticks\": \"\"}}, \"type\": \"scattermapbox\"}], \"scatterpolar\": [{\"marker\": {\"colorbar\": {\"outlinewidth\": 0, \"ticks\": \"\"}}, \"type\": \"scatterpolar\"}], \"scatterpolargl\": [{\"marker\": {\"colorbar\": {\"outlinewidth\": 0, \"ticks\": \"\"}}, \"type\": \"scatterpolargl\"}], \"scatterternary\": [{\"marker\": {\"colorbar\": {\"outlinewidth\": 0, \"ticks\": \"\"}}, \"type\": \"scatterternary\"}], \"surface\": [{\"colorbar\": {\"outlinewidth\": 0, \"ticks\": \"\"}, \"colorscale\": [[0.0, \"#0d0887\"], [0.1111111111111111, \"#46039f\"], [0.2222222222222222, \"#7201a8\"], [0.3333333333333333, \"#9c179e\"], [0.4444444444444444, \"#bd3786\"], [0.5555555555555556, \"#d8576b\"], [0.6666666666666666, \"#ed7953\"], [0.7777777777777778, \"#fb9f3a\"], [0.8888888888888888, \"#fdca26\"], [1.0, \"#f0f921\"]], \"type\": \"surface\"}], \"table\": [{\"cells\": {\"fill\": {\"color\": \"#EBF0F8\"}, \"line\": {\"color\": \"white\"}}, \"header\": {\"fill\": {\"color\": \"#C8D4E3\"}, \"line\": {\"color\": \"white\"}}, \"type\": \"table\"}]}, \"layout\": {\"annotationdefaults\": {\"arrowcolor\": \"#2a3f5f\", \"arrowhead\": 0, \"arrowwidth\": 1}, \"coloraxis\": {\"colorbar\": {\"outlinewidth\": 0, \"ticks\": \"\"}}, \"colorscale\": {\"diverging\": [[0, \"#8e0152\"], [0.1, \"#c51b7d\"], [0.2, \"#de77ae\"], [0.3, \"#f1b6da\"], [0.4, \"#fde0ef\"], [0.5, \"#f7f7f7\"], [0.6, \"#e6f5d0\"], [0.7, \"#b8e186\"], [0.8, \"#7fbc41\"], [0.9, \"#4d9221\"], [1, \"#276419\"]], \"sequential\": [[0.0, \"#0d0887\"], [0.1111111111111111, \"#46039f\"], [0.2222222222222222, \"#7201a8\"], [0.3333333333333333, \"#9c179e\"], [0.4444444444444444, \"#bd3786\"], [0.5555555555555556, \"#d8576b\"], [0.6666666666666666, \"#ed7953\"], [0.7777777777777778, \"#fb9f3a\"], [0.8888888888888888, \"#fdca26\"], [1.0, \"#f0f921\"]], \"sequentialminus\": [[0.0, \"#0d0887\"], [0.1111111111111111, \"#46039f\"], [0.2222222222222222, \"#7201a8\"], [0.3333333333333333, \"#9c179e\"], [0.4444444444444444, \"#bd3786\"], [0.5555555555555556, \"#d8576b\"], [0.6666666666666666, \"#ed7953\"], [0.7777777777777778, \"#fb9f3a\"], [0.8888888888888888, \"#fdca26\"], [1.0, \"#f0f921\"]]}, \"colorway\": [\"#636efa\", \"#EF553B\", \"#00cc96\", \"#ab63fa\", \"#FFA15A\", \"#19d3f3\", \"#FF6692\", \"#B6E880\", \"#FF97FF\", \"#FECB52\"], \"font\": {\"color\": \"#2a3f5f\"}, \"geo\": {\"bgcolor\": \"white\", \"lakecolor\": \"white\", \"landcolor\": \"#E5ECF6\", \"showlakes\": true, \"showland\": true, \"subunitcolor\": \"white\"}, \"hoverlabel\": {\"align\": \"left\"}, \"hovermode\": \"closest\", \"mapbox\": {\"style\": \"light\"}, \"paper_bgcolor\": \"white\", \"plot_bgcolor\": \"#E5ECF6\", \"polar\": {\"angularaxis\": {\"gridcolor\": \"white\", \"linecolor\": \"white\", \"ticks\": \"\"}, \"bgcolor\": \"#E5ECF6\", \"radialaxis\": {\"gridcolor\": \"white\", \"linecolor\": \"white\", \"ticks\": \"\"}}, \"scene\": {\"xaxis\": {\"backgroundcolor\": \"#E5ECF6\", \"gridcolor\": \"white\", \"gridwidth\": 2, \"linecolor\": \"white\", \"showbackground\": true, \"ticks\": \"\", \"zerolinecolor\": \"white\"}, \"yaxis\": {\"backgroundcolor\": \"#E5ECF6\", \"gridcolor\": \"white\", \"gridwidth\": 2, \"linecolor\": \"white\", \"showbackground\": true, \"ticks\": \"\", \"zerolinecolor\": \"white\"}, \"zaxis\": {\"backgroundcolor\": \"#E5ECF6\", \"gridcolor\": \"white\", \"gridwidth\": 2, \"linecolor\": \"white\", \"showbackground\": true, \"ticks\": \"\", \"zerolinecolor\": \"white\"}}, \"shapedefaults\": {\"line\": {\"color\": \"#2a3f5f\"}}, \"ternary\": {\"aaxis\": {\"gridcolor\": \"white\", \"linecolor\": \"white\", \"ticks\": \"\"}, \"baxis\": {\"gridcolor\": \"white\", \"linecolor\": \"white\", \"ticks\": \"\"}, \"bgcolor\": \"#E5ECF6\", \"caxis\": {\"gridcolor\": \"white\", \"linecolor\": \"white\", \"ticks\": \"\"}}, \"title\": {\"x\": 0.05}, \"xaxis\": {\"automargin\": true, \"gridcolor\": \"white\", \"linecolor\": \"white\", \"ticks\": \"\", \"title\": {\"standoff\": 15}, \"zerolinecolor\": \"white\", \"zerolinewidth\": 2}, \"yaxis\": {\"automargin\": true, \"gridcolor\": \"white\", \"linecolor\": \"white\", \"ticks\": \"\", \"title\": {\"standoff\": 15}, \"zerolinecolor\": \"white\", \"zerolinewidth\": 2}}}, \"title\": {\"text\": \"Time (%) a frequency is non zero for 1000 alphas\"}, \"xaxis\": {\"anchor\": \"y\", \"domain\": [0.0, 1.0], \"title\": {\"text\": \"Saturation Frequency\"}}, \"yaxis\": {\"anchor\": \"x\", \"domain\": [0.0, 1.0], \"title\": {\"text\": \"Selection\"}}},\n",
       "                        {\"responsive\": true}\n",
       "                    ).then(function(){\n",
       "                            \n",
       "var gd = document.getElementById('badbf4b5-8296-4dff-833f-a13cacbe95a9');\n",
       "var x = new MutationObserver(function (mutations, observer) {{\n",
       "        var display = window.getComputedStyle(gd).display;\n",
       "        if (!display || display === 'none') {{\n",
       "            console.log([gd, 'removed!']);\n",
       "            Plotly.purge(gd);\n",
       "            observer.disconnect();\n",
       "        }}\n",
       "}});\n",
       "\n",
       "// Listen for the removal of the full notebook cells\n",
       "var notebookContainer = gd.closest('#notebook-container');\n",
       "if (notebookContainer) {{\n",
       "    x.observe(notebookContainer, {childList: true});\n",
       "}}\n",
       "\n",
       "// Listen for the clearing of the current output cell\n",
       "var outputEl = gd.closest('.output');\n",
       "if (outputEl) {{\n",
       "    x.observe(outputEl, {childList: true});\n",
       "}}\n",
       "\n",
       "                        })\n",
       "                };\n",
       "                });\n",
       "            </script>\n",
       "        </div>"
      ]
     },
     "metadata": {},
     "output_type": "display_data"
    }
   ],
   "source": [
    "w= (I.loc[:, Z.columns] !=0)*1\n",
    "w = 100 * w.sum()/ 1000\n",
    "w = pd.DataFrame(w.reset_index())\n",
    "w.columns = ['Saturation Frequency','Selection']\n",
    "\n",
    "fig = px.scatter(w, x=\"Saturation Frequency\", y='Selection', title='Time (%) a frequency is non zero for 1000 alphas')\n",
    "fig.show()"
   ]
  },
  {
   "cell_type": "code",
   "execution_count": 34,
   "metadata": {},
   "outputs": [
    {
     "data": {
      "application/vnd.plotly.v1+json": {
       "config": {
        "plotlyServerURL": "https://plot.ly"
       },
       "data": [
        {
         "hoverlabel": {
          "namelength": 0
         },
         "hovertemplate": "Saturation Frequency=%{x}<br>Mean Coefficient=%{y}",
         "legendgroup": "",
         "marker": {
          "color": "#636efa",
          "symbol": "circle"
         },
         "mode": "markers",
         "name": "",
         "showlegend": false,
         "type": "scatter",
         "x": [
          "-12.2",
          "-11.2",
          "-10.2",
          "-9.2",
          "-6.2",
          "-3.2",
          "-2.95",
          "-2.7",
          "-2.45",
          "-2.2",
          "-2.0",
          "-1.8",
          "-1.6",
          "-1.4",
          "-1.2",
          "-1.0",
          "-0.8",
          "-0.6",
          "-0.4",
          "-0.2",
          "0.0",
          "0.2",
          "0.4",
          "0.6",
          "0.8",
          "1.0",
          "1.2",
          "1.4",
          "1.6",
          "1.8",
          "2.0",
          "2.2",
          "2.4",
          "2.6",
          "2.8",
          "3.0",
          "3.1",
          "3.2",
          "3.3",
          "3.4",
          "3.5",
          "3.6",
          "3.7",
          "3.8",
          "3.9",
          "4.0",
          "4.1",
          "4.2",
          "4.3",
          "4.4",
          "4.5",
          "4.6",
          "4.7",
          "4.8",
          "4.9",
          "5.0",
          "5.1",
          "5.2",
          "5.3",
          "5.4",
          "5.5",
          "5.6",
          "5.7",
          "5.8",
          "5.9",
          "6.0",
          "6.1",
          "6.2",
          "6.3",
          "6.4",
          "6.6",
          "6.8",
          "7.0",
          "7.2",
          "7.4",
          "7.6",
          "7.8",
          "8.8",
          "9.8",
          "10.8",
          "11.8"
         ],
         "xaxis": "x",
         "y": [
          0.005657511241031874,
          0.004071695112955032,
          0.013871880240498378,
          0.011453664398238987,
          0.3679960365305602,
          0.24381471526096335,
          0.03257124279176407,
          0.02370173587265225,
          0.024594916042888472,
          0.0005180205010750438,
          0.002991962401924485,
          0.00712532884826337,
          0.1976336787967648,
          0.34591780645428793,
          0.2398370796685677,
          0.037593362878206686,
          0.019109156372307597,
          0.05946845408069432,
          0.04876437065714516,
          0.033778046811722494,
          0.17229169100560515,
          0.05881665889978969,
          0.44208747499474454,
          0.02993398836453085,
          0.03457948479457923,
          0.1618842015891538,
          0.005441251043778682,
          0.011651892185443182,
          0.03966117320264722,
          0.24830001209240218,
          0.156850318807224,
          0.1052394756284199,
          0.021808891757828058,
          0.00784535995718733,
          0.012071005570764,
          0.07356700119877449,
          0.04219449885128767,
          0.00043139605924524203,
          0.3129440484047754,
          7.383210852066037e-05,
          0.0024704900198718196,
          0.02012507995812317,
          0.016368756357825517,
          0.02571112496451411,
          0.08979030137326298,
          0.039543068476052975,
          0.04193978114711874,
          0.29782922945473106,
          1.1238049522600793,
          0.7155013177377788,
          0.46837876337069345,
          0.907770948998877,
          0.8284002141681412,
          0.719716503349229,
          0.3825220303229668,
          0.05283099326162601,
          0.0010273636509298546,
          0.0005624497844196747,
          0.0006201199044764806,
          0.04976575385339819,
          0.04960417674826547,
          1.690669408518971,
          1.8394624975530325,
          0.7258755472599355,
          0.0013086146470340607,
          0.08265488694870095,
          0.005458300901625316,
          0.0033221637564381777,
          0.0021534946691516067,
          0.010107759625825757,
          0.00036842823924090363,
          0.03603185979438218,
          0.01379754744037221,
          0.005097673512528971,
          0.02725214708476472,
          2.318608915591212e-05,
          0.001239692770817184,
          0.003233896865500401,
          0.0025232240855067437,
          0.00012025847179259935,
          0.003364010803560225
         ],
         "yaxis": "y"
        }
       ],
       "layout": {
        "legend": {
         "tracegroupgap": 0
        },
        "template": {
         "data": {
          "bar": [
           {
            "error_x": {
             "color": "#2a3f5f"
            },
            "error_y": {
             "color": "#2a3f5f"
            },
            "marker": {
             "line": {
              "color": "#E5ECF6",
              "width": 0.5
             }
            },
            "type": "bar"
           }
          ],
          "barpolar": [
           {
            "marker": {
             "line": {
              "color": "#E5ECF6",
              "width": 0.5
             }
            },
            "type": "barpolar"
           }
          ],
          "carpet": [
           {
            "aaxis": {
             "endlinecolor": "#2a3f5f",
             "gridcolor": "white",
             "linecolor": "white",
             "minorgridcolor": "white",
             "startlinecolor": "#2a3f5f"
            },
            "baxis": {
             "endlinecolor": "#2a3f5f",
             "gridcolor": "white",
             "linecolor": "white",
             "minorgridcolor": "white",
             "startlinecolor": "#2a3f5f"
            },
            "type": "carpet"
           }
          ],
          "choropleth": [
           {
            "colorbar": {
             "outlinewidth": 0,
             "ticks": ""
            },
            "type": "choropleth"
           }
          ],
          "contour": [
           {
            "colorbar": {
             "outlinewidth": 0,
             "ticks": ""
            },
            "colorscale": [
             [
              0,
              "#0d0887"
             ],
             [
              0.1111111111111111,
              "#46039f"
             ],
             [
              0.2222222222222222,
              "#7201a8"
             ],
             [
              0.3333333333333333,
              "#9c179e"
             ],
             [
              0.4444444444444444,
              "#bd3786"
             ],
             [
              0.5555555555555556,
              "#d8576b"
             ],
             [
              0.6666666666666666,
              "#ed7953"
             ],
             [
              0.7777777777777778,
              "#fb9f3a"
             ],
             [
              0.8888888888888888,
              "#fdca26"
             ],
             [
              1,
              "#f0f921"
             ]
            ],
            "type": "contour"
           }
          ],
          "contourcarpet": [
           {
            "colorbar": {
             "outlinewidth": 0,
             "ticks": ""
            },
            "type": "contourcarpet"
           }
          ],
          "heatmap": [
           {
            "colorbar": {
             "outlinewidth": 0,
             "ticks": ""
            },
            "colorscale": [
             [
              0,
              "#0d0887"
             ],
             [
              0.1111111111111111,
              "#46039f"
             ],
             [
              0.2222222222222222,
              "#7201a8"
             ],
             [
              0.3333333333333333,
              "#9c179e"
             ],
             [
              0.4444444444444444,
              "#bd3786"
             ],
             [
              0.5555555555555556,
              "#d8576b"
             ],
             [
              0.6666666666666666,
              "#ed7953"
             ],
             [
              0.7777777777777778,
              "#fb9f3a"
             ],
             [
              0.8888888888888888,
              "#fdca26"
             ],
             [
              1,
              "#f0f921"
             ]
            ],
            "type": "heatmap"
           }
          ],
          "heatmapgl": [
           {
            "colorbar": {
             "outlinewidth": 0,
             "ticks": ""
            },
            "colorscale": [
             [
              0,
              "#0d0887"
             ],
             [
              0.1111111111111111,
              "#46039f"
             ],
             [
              0.2222222222222222,
              "#7201a8"
             ],
             [
              0.3333333333333333,
              "#9c179e"
             ],
             [
              0.4444444444444444,
              "#bd3786"
             ],
             [
              0.5555555555555556,
              "#d8576b"
             ],
             [
              0.6666666666666666,
              "#ed7953"
             ],
             [
              0.7777777777777778,
              "#fb9f3a"
             ],
             [
              0.8888888888888888,
              "#fdca26"
             ],
             [
              1,
              "#f0f921"
             ]
            ],
            "type": "heatmapgl"
           }
          ],
          "histogram": [
           {
            "marker": {
             "colorbar": {
              "outlinewidth": 0,
              "ticks": ""
             }
            },
            "type": "histogram"
           }
          ],
          "histogram2d": [
           {
            "colorbar": {
             "outlinewidth": 0,
             "ticks": ""
            },
            "colorscale": [
             [
              0,
              "#0d0887"
             ],
             [
              0.1111111111111111,
              "#46039f"
             ],
             [
              0.2222222222222222,
              "#7201a8"
             ],
             [
              0.3333333333333333,
              "#9c179e"
             ],
             [
              0.4444444444444444,
              "#bd3786"
             ],
             [
              0.5555555555555556,
              "#d8576b"
             ],
             [
              0.6666666666666666,
              "#ed7953"
             ],
             [
              0.7777777777777778,
              "#fb9f3a"
             ],
             [
              0.8888888888888888,
              "#fdca26"
             ],
             [
              1,
              "#f0f921"
             ]
            ],
            "type": "histogram2d"
           }
          ],
          "histogram2dcontour": [
           {
            "colorbar": {
             "outlinewidth": 0,
             "ticks": ""
            },
            "colorscale": [
             [
              0,
              "#0d0887"
             ],
             [
              0.1111111111111111,
              "#46039f"
             ],
             [
              0.2222222222222222,
              "#7201a8"
             ],
             [
              0.3333333333333333,
              "#9c179e"
             ],
             [
              0.4444444444444444,
              "#bd3786"
             ],
             [
              0.5555555555555556,
              "#d8576b"
             ],
             [
              0.6666666666666666,
              "#ed7953"
             ],
             [
              0.7777777777777778,
              "#fb9f3a"
             ],
             [
              0.8888888888888888,
              "#fdca26"
             ],
             [
              1,
              "#f0f921"
             ]
            ],
            "type": "histogram2dcontour"
           }
          ],
          "mesh3d": [
           {
            "colorbar": {
             "outlinewidth": 0,
             "ticks": ""
            },
            "type": "mesh3d"
           }
          ],
          "parcoords": [
           {
            "line": {
             "colorbar": {
              "outlinewidth": 0,
              "ticks": ""
             }
            },
            "type": "parcoords"
           }
          ],
          "pie": [
           {
            "automargin": true,
            "type": "pie"
           }
          ],
          "scatter": [
           {
            "marker": {
             "colorbar": {
              "outlinewidth": 0,
              "ticks": ""
             }
            },
            "type": "scatter"
           }
          ],
          "scatter3d": [
           {
            "line": {
             "colorbar": {
              "outlinewidth": 0,
              "ticks": ""
             }
            },
            "marker": {
             "colorbar": {
              "outlinewidth": 0,
              "ticks": ""
             }
            },
            "type": "scatter3d"
           }
          ],
          "scattercarpet": [
           {
            "marker": {
             "colorbar": {
              "outlinewidth": 0,
              "ticks": ""
             }
            },
            "type": "scattercarpet"
           }
          ],
          "scattergeo": [
           {
            "marker": {
             "colorbar": {
              "outlinewidth": 0,
              "ticks": ""
             }
            },
            "type": "scattergeo"
           }
          ],
          "scattergl": [
           {
            "marker": {
             "colorbar": {
              "outlinewidth": 0,
              "ticks": ""
             }
            },
            "type": "scattergl"
           }
          ],
          "scattermapbox": [
           {
            "marker": {
             "colorbar": {
              "outlinewidth": 0,
              "ticks": ""
             }
            },
            "type": "scattermapbox"
           }
          ],
          "scatterpolar": [
           {
            "marker": {
             "colorbar": {
              "outlinewidth": 0,
              "ticks": ""
             }
            },
            "type": "scatterpolar"
           }
          ],
          "scatterpolargl": [
           {
            "marker": {
             "colorbar": {
              "outlinewidth": 0,
              "ticks": ""
             }
            },
            "type": "scatterpolargl"
           }
          ],
          "scatterternary": [
           {
            "marker": {
             "colorbar": {
              "outlinewidth": 0,
              "ticks": ""
             }
            },
            "type": "scatterternary"
           }
          ],
          "surface": [
           {
            "colorbar": {
             "outlinewidth": 0,
             "ticks": ""
            },
            "colorscale": [
             [
              0,
              "#0d0887"
             ],
             [
              0.1111111111111111,
              "#46039f"
             ],
             [
              0.2222222222222222,
              "#7201a8"
             ],
             [
              0.3333333333333333,
              "#9c179e"
             ],
             [
              0.4444444444444444,
              "#bd3786"
             ],
             [
              0.5555555555555556,
              "#d8576b"
             ],
             [
              0.6666666666666666,
              "#ed7953"
             ],
             [
              0.7777777777777778,
              "#fb9f3a"
             ],
             [
              0.8888888888888888,
              "#fdca26"
             ],
             [
              1,
              "#f0f921"
             ]
            ],
            "type": "surface"
           }
          ],
          "table": [
           {
            "cells": {
             "fill": {
              "color": "#EBF0F8"
             },
             "line": {
              "color": "white"
             }
            },
            "header": {
             "fill": {
              "color": "#C8D4E3"
             },
             "line": {
              "color": "white"
             }
            },
            "type": "table"
           }
          ]
         },
         "layout": {
          "annotationdefaults": {
           "arrowcolor": "#2a3f5f",
           "arrowhead": 0,
           "arrowwidth": 1
          },
          "coloraxis": {
           "colorbar": {
            "outlinewidth": 0,
            "ticks": ""
           }
          },
          "colorscale": {
           "diverging": [
            [
             0,
             "#8e0152"
            ],
            [
             0.1,
             "#c51b7d"
            ],
            [
             0.2,
             "#de77ae"
            ],
            [
             0.3,
             "#f1b6da"
            ],
            [
             0.4,
             "#fde0ef"
            ],
            [
             0.5,
             "#f7f7f7"
            ],
            [
             0.6,
             "#e6f5d0"
            ],
            [
             0.7,
             "#b8e186"
            ],
            [
             0.8,
             "#7fbc41"
            ],
            [
             0.9,
             "#4d9221"
            ],
            [
             1,
             "#276419"
            ]
           ],
           "sequential": [
            [
             0,
             "#0d0887"
            ],
            [
             0.1111111111111111,
             "#46039f"
            ],
            [
             0.2222222222222222,
             "#7201a8"
            ],
            [
             0.3333333333333333,
             "#9c179e"
            ],
            [
             0.4444444444444444,
             "#bd3786"
            ],
            [
             0.5555555555555556,
             "#d8576b"
            ],
            [
             0.6666666666666666,
             "#ed7953"
            ],
            [
             0.7777777777777778,
             "#fb9f3a"
            ],
            [
             0.8888888888888888,
             "#fdca26"
            ],
            [
             1,
             "#f0f921"
            ]
           ],
           "sequentialminus": [
            [
             0,
             "#0d0887"
            ],
            [
             0.1111111111111111,
             "#46039f"
            ],
            [
             0.2222222222222222,
             "#7201a8"
            ],
            [
             0.3333333333333333,
             "#9c179e"
            ],
            [
             0.4444444444444444,
             "#bd3786"
            ],
            [
             0.5555555555555556,
             "#d8576b"
            ],
            [
             0.6666666666666666,
             "#ed7953"
            ],
            [
             0.7777777777777778,
             "#fb9f3a"
            ],
            [
             0.8888888888888888,
             "#fdca26"
            ],
            [
             1,
             "#f0f921"
            ]
           ]
          },
          "colorway": [
           "#636efa",
           "#EF553B",
           "#00cc96",
           "#ab63fa",
           "#FFA15A",
           "#19d3f3",
           "#FF6692",
           "#B6E880",
           "#FF97FF",
           "#FECB52"
          ],
          "font": {
           "color": "#2a3f5f"
          },
          "geo": {
           "bgcolor": "white",
           "lakecolor": "white",
           "landcolor": "#E5ECF6",
           "showlakes": true,
           "showland": true,
           "subunitcolor": "white"
          },
          "hoverlabel": {
           "align": "left"
          },
          "hovermode": "closest",
          "mapbox": {
           "style": "light"
          },
          "paper_bgcolor": "white",
          "plot_bgcolor": "#E5ECF6",
          "polar": {
           "angularaxis": {
            "gridcolor": "white",
            "linecolor": "white",
            "ticks": ""
           },
           "bgcolor": "#E5ECF6",
           "radialaxis": {
            "gridcolor": "white",
            "linecolor": "white",
            "ticks": ""
           }
          },
          "scene": {
           "xaxis": {
            "backgroundcolor": "#E5ECF6",
            "gridcolor": "white",
            "gridwidth": 2,
            "linecolor": "white",
            "showbackground": true,
            "ticks": "",
            "zerolinecolor": "white"
           },
           "yaxis": {
            "backgroundcolor": "#E5ECF6",
            "gridcolor": "white",
            "gridwidth": 2,
            "linecolor": "white",
            "showbackground": true,
            "ticks": "",
            "zerolinecolor": "white"
           },
           "zaxis": {
            "backgroundcolor": "#E5ECF6",
            "gridcolor": "white",
            "gridwidth": 2,
            "linecolor": "white",
            "showbackground": true,
            "ticks": "",
            "zerolinecolor": "white"
           }
          },
          "shapedefaults": {
           "line": {
            "color": "#2a3f5f"
           }
          },
          "ternary": {
           "aaxis": {
            "gridcolor": "white",
            "linecolor": "white",
            "ticks": ""
           },
           "baxis": {
            "gridcolor": "white",
            "linecolor": "white",
            "ticks": ""
           },
           "bgcolor": "#E5ECF6",
           "caxis": {
            "gridcolor": "white",
            "linecolor": "white",
            "ticks": ""
           }
          },
          "title": {
           "x": 0.05
          },
          "xaxis": {
           "automargin": true,
           "gridcolor": "white",
           "linecolor": "white",
           "ticks": "",
           "title": {
            "standoff": 15
           },
           "zerolinecolor": "white",
           "zerolinewidth": 2
          },
          "yaxis": {
           "automargin": true,
           "gridcolor": "white",
           "linecolor": "white",
           "ticks": "",
           "title": {
            "standoff": 15
           },
           "zerolinecolor": "white",
           "zerolinewidth": 2
          }
         }
        },
        "title": {
         "text": "Mean Importance for 1000 alphas"
        },
        "xaxis": {
         "anchor": "y",
         "domain": [
          0,
          1
         ],
         "title": {
          "text": "Saturation Frequency"
         }
        },
        "yaxis": {
         "anchor": "x",
         "domain": [
          0,
          1
         ],
         "title": {
          "text": "Mean Coefficient"
         }
        }
       }
      },
      "text/html": [
       "<div>\n",
       "        \n",
       "        \n",
       "            <div id=\"8afc2644-a411-4cd2-976d-c3f3970f776e\" class=\"plotly-graph-div\" style=\"height:525px; width:100%;\"></div>\n",
       "            <script type=\"text/javascript\">\n",
       "                require([\"plotly\"], function(Plotly) {\n",
       "                    window.PLOTLYENV=window.PLOTLYENV || {};\n",
       "                    \n",
       "                if (document.getElementById(\"8afc2644-a411-4cd2-976d-c3f3970f776e\")) {\n",
       "                    Plotly.newPlot(\n",
       "                        '8afc2644-a411-4cd2-976d-c3f3970f776e',\n",
       "                        [{\"hoverlabel\": {\"namelength\": 0}, \"hovertemplate\": \"Saturation Frequency=%{x}<br>Mean Coefficient=%{y}\", \"legendgroup\": \"\", \"marker\": {\"color\": \"#636efa\", \"symbol\": \"circle\"}, \"mode\": \"markers\", \"name\": \"\", \"showlegend\": false, \"type\": \"scatter\", \"x\": [\"-12.2\", \"-11.2\", \"-10.2\", \"-9.2\", \"-6.2\", \"-3.2\", \"-2.95\", \"-2.7\", \"-2.45\", \"-2.2\", \"-2.0\", \"-1.8\", \"-1.6\", \"-1.4\", \"-1.2\", \"-1.0\", \"-0.8\", \"-0.6\", \"-0.4\", \"-0.2\", \"0.0\", \"0.2\", \"0.4\", \"0.6\", \"0.8\", \"1.0\", \"1.2\", \"1.4\", \"1.6\", \"1.8\", \"2.0\", \"2.2\", \"2.4\", \"2.6\", \"2.8\", \"3.0\", \"3.1\", \"3.2\", \"3.3\", \"3.4\", \"3.5\", \"3.6\", \"3.7\", \"3.8\", \"3.9\", \"4.0\", \"4.1\", \"4.2\", \"4.3\", \"4.4\", \"4.5\", \"4.6\", \"4.7\", \"4.8\", \"4.9\", \"5.0\", \"5.1\", \"5.2\", \"5.3\", \"5.4\", \"5.5\", \"5.6\", \"5.7\", \"5.8\", \"5.9\", \"6.0\", \"6.1\", \"6.2\", \"6.3\", \"6.4\", \"6.6\", \"6.8\", \"7.0\", \"7.2\", \"7.4\", \"7.6\", \"7.8\", \"8.8\", \"9.8\", \"10.8\", \"11.8\"], \"xaxis\": \"x\", \"y\": [0.005657511241031874, 0.004071695112955032, 0.013871880240498378, 0.011453664398238987, 0.3679960365305602, 0.24381471526096335, 0.03257124279176407, 0.02370173587265225, 0.024594916042888472, 0.0005180205010750438, 0.002991962401924485, 0.00712532884826337, 0.1976336787967648, 0.34591780645428793, 0.2398370796685677, 0.037593362878206686, 0.019109156372307597, 0.05946845408069432, 0.04876437065714516, 0.033778046811722494, 0.17229169100560515, 0.05881665889978969, 0.44208747499474454, 0.02993398836453085, 0.03457948479457923, 0.1618842015891538, 0.005441251043778682, 0.011651892185443182, 0.03966117320264722, 0.24830001209240218, 0.156850318807224, 0.1052394756284199, 0.021808891757828058, 0.00784535995718733, 0.012071005570764, 0.07356700119877449, 0.04219449885128767, 0.00043139605924524203, 0.3129440484047754, 7.383210852066037e-05, 0.0024704900198718196, 0.02012507995812317, 0.016368756357825517, 0.02571112496451411, 0.08979030137326298, 0.039543068476052975, 0.04193978114711874, 0.29782922945473106, 1.1238049522600793, 0.7155013177377788, 0.46837876337069345, 0.907770948998877, 0.8284002141681412, 0.719716503349229, 0.3825220303229668, 0.05283099326162601, 0.0010273636509298546, 0.0005624497844196747, 0.0006201199044764806, 0.04976575385339819, 0.04960417674826547, 1.690669408518971, 1.8394624975530325, 0.7258755472599355, 0.0013086146470340607, 0.08265488694870095, 0.005458300901625316, 0.0033221637564381777, 0.0021534946691516067, 0.010107759625825757, 0.00036842823924090363, 0.03603185979438218, 0.01379754744037221, 0.005097673512528971, 0.02725214708476472, 2.318608915591212e-05, 0.001239692770817184, 0.003233896865500401, 0.0025232240855067437, 0.00012025847179259935, 0.003364010803560225], \"yaxis\": \"y\"}],\n",
       "                        {\"legend\": {\"tracegroupgap\": 0}, \"template\": {\"data\": {\"bar\": [{\"error_x\": {\"color\": \"#2a3f5f\"}, \"error_y\": {\"color\": \"#2a3f5f\"}, \"marker\": {\"line\": {\"color\": \"#E5ECF6\", \"width\": 0.5}}, \"type\": \"bar\"}], \"barpolar\": [{\"marker\": {\"line\": {\"color\": \"#E5ECF6\", \"width\": 0.5}}, \"type\": \"barpolar\"}], \"carpet\": [{\"aaxis\": {\"endlinecolor\": \"#2a3f5f\", \"gridcolor\": \"white\", \"linecolor\": \"white\", \"minorgridcolor\": \"white\", \"startlinecolor\": \"#2a3f5f\"}, \"baxis\": {\"endlinecolor\": \"#2a3f5f\", \"gridcolor\": \"white\", \"linecolor\": \"white\", \"minorgridcolor\": \"white\", \"startlinecolor\": \"#2a3f5f\"}, \"type\": \"carpet\"}], \"choropleth\": [{\"colorbar\": {\"outlinewidth\": 0, \"ticks\": \"\"}, \"type\": \"choropleth\"}], \"contour\": [{\"colorbar\": {\"outlinewidth\": 0, \"ticks\": \"\"}, \"colorscale\": [[0.0, \"#0d0887\"], [0.1111111111111111, \"#46039f\"], [0.2222222222222222, \"#7201a8\"], [0.3333333333333333, \"#9c179e\"], [0.4444444444444444, \"#bd3786\"], [0.5555555555555556, \"#d8576b\"], [0.6666666666666666, \"#ed7953\"], [0.7777777777777778, \"#fb9f3a\"], [0.8888888888888888, \"#fdca26\"], [1.0, \"#f0f921\"]], \"type\": \"contour\"}], \"contourcarpet\": [{\"colorbar\": {\"outlinewidth\": 0, \"ticks\": \"\"}, \"type\": \"contourcarpet\"}], \"heatmap\": [{\"colorbar\": {\"outlinewidth\": 0, \"ticks\": \"\"}, \"colorscale\": [[0.0, \"#0d0887\"], [0.1111111111111111, \"#46039f\"], [0.2222222222222222, \"#7201a8\"], [0.3333333333333333, \"#9c179e\"], [0.4444444444444444, \"#bd3786\"], [0.5555555555555556, \"#d8576b\"], [0.6666666666666666, \"#ed7953\"], [0.7777777777777778, \"#fb9f3a\"], [0.8888888888888888, \"#fdca26\"], [1.0, \"#f0f921\"]], \"type\": \"heatmap\"}], \"heatmapgl\": [{\"colorbar\": {\"outlinewidth\": 0, \"ticks\": \"\"}, \"colorscale\": [[0.0, \"#0d0887\"], [0.1111111111111111, \"#46039f\"], [0.2222222222222222, \"#7201a8\"], [0.3333333333333333, \"#9c179e\"], [0.4444444444444444, \"#bd3786\"], [0.5555555555555556, \"#d8576b\"], [0.6666666666666666, \"#ed7953\"], [0.7777777777777778, \"#fb9f3a\"], [0.8888888888888888, \"#fdca26\"], [1.0, \"#f0f921\"]], \"type\": \"heatmapgl\"}], \"histogram\": [{\"marker\": {\"colorbar\": {\"outlinewidth\": 0, \"ticks\": \"\"}}, \"type\": \"histogram\"}], \"histogram2d\": [{\"colorbar\": {\"outlinewidth\": 0, \"ticks\": \"\"}, \"colorscale\": [[0.0, \"#0d0887\"], [0.1111111111111111, \"#46039f\"], [0.2222222222222222, \"#7201a8\"], [0.3333333333333333, \"#9c179e\"], [0.4444444444444444, \"#bd3786\"], [0.5555555555555556, \"#d8576b\"], [0.6666666666666666, \"#ed7953\"], [0.7777777777777778, \"#fb9f3a\"], [0.8888888888888888, \"#fdca26\"], [1.0, \"#f0f921\"]], \"type\": \"histogram2d\"}], \"histogram2dcontour\": [{\"colorbar\": {\"outlinewidth\": 0, \"ticks\": \"\"}, \"colorscale\": [[0.0, \"#0d0887\"], [0.1111111111111111, \"#46039f\"], [0.2222222222222222, \"#7201a8\"], [0.3333333333333333, \"#9c179e\"], [0.4444444444444444, \"#bd3786\"], [0.5555555555555556, \"#d8576b\"], [0.6666666666666666, \"#ed7953\"], [0.7777777777777778, \"#fb9f3a\"], [0.8888888888888888, \"#fdca26\"], [1.0, \"#f0f921\"]], \"type\": \"histogram2dcontour\"}], \"mesh3d\": [{\"colorbar\": {\"outlinewidth\": 0, \"ticks\": \"\"}, \"type\": \"mesh3d\"}], \"parcoords\": [{\"line\": {\"colorbar\": {\"outlinewidth\": 0, \"ticks\": \"\"}}, \"type\": \"parcoords\"}], \"pie\": [{\"automargin\": true, \"type\": \"pie\"}], \"scatter\": [{\"marker\": {\"colorbar\": {\"outlinewidth\": 0, \"ticks\": \"\"}}, \"type\": \"scatter\"}], \"scatter3d\": [{\"line\": {\"colorbar\": {\"outlinewidth\": 0, \"ticks\": \"\"}}, \"marker\": {\"colorbar\": {\"outlinewidth\": 0, \"ticks\": \"\"}}, \"type\": \"scatter3d\"}], \"scattercarpet\": [{\"marker\": {\"colorbar\": {\"outlinewidth\": 0, \"ticks\": \"\"}}, \"type\": \"scattercarpet\"}], \"scattergeo\": [{\"marker\": {\"colorbar\": {\"outlinewidth\": 0, \"ticks\": \"\"}}, \"type\": \"scattergeo\"}], \"scattergl\": [{\"marker\": {\"colorbar\": {\"outlinewidth\": 0, \"ticks\": \"\"}}, \"type\": \"scattergl\"}], \"scattermapbox\": [{\"marker\": {\"colorbar\": {\"outlinewidth\": 0, \"ticks\": \"\"}}, \"type\": \"scattermapbox\"}], \"scatterpolar\": [{\"marker\": {\"colorbar\": {\"outlinewidth\": 0, \"ticks\": \"\"}}, \"type\": \"scatterpolar\"}], \"scatterpolargl\": [{\"marker\": {\"colorbar\": {\"outlinewidth\": 0, \"ticks\": \"\"}}, \"type\": \"scatterpolargl\"}], \"scatterternary\": [{\"marker\": {\"colorbar\": {\"outlinewidth\": 0, \"ticks\": \"\"}}, \"type\": \"scatterternary\"}], \"surface\": [{\"colorbar\": {\"outlinewidth\": 0, \"ticks\": \"\"}, \"colorscale\": [[0.0, \"#0d0887\"], [0.1111111111111111, \"#46039f\"], [0.2222222222222222, \"#7201a8\"], [0.3333333333333333, \"#9c179e\"], [0.4444444444444444, \"#bd3786\"], [0.5555555555555556, \"#d8576b\"], [0.6666666666666666, \"#ed7953\"], [0.7777777777777778, \"#fb9f3a\"], [0.8888888888888888, \"#fdca26\"], [1.0, \"#f0f921\"]], \"type\": \"surface\"}], \"table\": [{\"cells\": {\"fill\": {\"color\": \"#EBF0F8\"}, \"line\": {\"color\": \"white\"}}, \"header\": {\"fill\": {\"color\": \"#C8D4E3\"}, \"line\": {\"color\": \"white\"}}, \"type\": \"table\"}]}, \"layout\": {\"annotationdefaults\": {\"arrowcolor\": \"#2a3f5f\", \"arrowhead\": 0, \"arrowwidth\": 1}, \"coloraxis\": {\"colorbar\": {\"outlinewidth\": 0, \"ticks\": \"\"}}, \"colorscale\": {\"diverging\": [[0, \"#8e0152\"], [0.1, \"#c51b7d\"], [0.2, \"#de77ae\"], [0.3, \"#f1b6da\"], [0.4, \"#fde0ef\"], [0.5, \"#f7f7f7\"], [0.6, \"#e6f5d0\"], [0.7, \"#b8e186\"], [0.8, \"#7fbc41\"], [0.9, \"#4d9221\"], [1, \"#276419\"]], \"sequential\": [[0.0, \"#0d0887\"], [0.1111111111111111, \"#46039f\"], [0.2222222222222222, \"#7201a8\"], [0.3333333333333333, \"#9c179e\"], [0.4444444444444444, \"#bd3786\"], [0.5555555555555556, \"#d8576b\"], [0.6666666666666666, \"#ed7953\"], [0.7777777777777778, \"#fb9f3a\"], [0.8888888888888888, \"#fdca26\"], [1.0, \"#f0f921\"]], \"sequentialminus\": [[0.0, \"#0d0887\"], [0.1111111111111111, \"#46039f\"], [0.2222222222222222, \"#7201a8\"], [0.3333333333333333, \"#9c179e\"], [0.4444444444444444, \"#bd3786\"], [0.5555555555555556, \"#d8576b\"], [0.6666666666666666, \"#ed7953\"], [0.7777777777777778, \"#fb9f3a\"], [0.8888888888888888, \"#fdca26\"], [1.0, \"#f0f921\"]]}, \"colorway\": [\"#636efa\", \"#EF553B\", \"#00cc96\", \"#ab63fa\", \"#FFA15A\", \"#19d3f3\", \"#FF6692\", \"#B6E880\", \"#FF97FF\", \"#FECB52\"], \"font\": {\"color\": \"#2a3f5f\"}, \"geo\": {\"bgcolor\": \"white\", \"lakecolor\": \"white\", \"landcolor\": \"#E5ECF6\", \"showlakes\": true, \"showland\": true, \"subunitcolor\": \"white\"}, \"hoverlabel\": {\"align\": \"left\"}, \"hovermode\": \"closest\", \"mapbox\": {\"style\": \"light\"}, \"paper_bgcolor\": \"white\", \"plot_bgcolor\": \"#E5ECF6\", \"polar\": {\"angularaxis\": {\"gridcolor\": \"white\", \"linecolor\": \"white\", \"ticks\": \"\"}, \"bgcolor\": \"#E5ECF6\", \"radialaxis\": {\"gridcolor\": \"white\", \"linecolor\": \"white\", \"ticks\": \"\"}}, \"scene\": {\"xaxis\": {\"backgroundcolor\": \"#E5ECF6\", \"gridcolor\": \"white\", \"gridwidth\": 2, \"linecolor\": \"white\", \"showbackground\": true, \"ticks\": \"\", \"zerolinecolor\": \"white\"}, \"yaxis\": {\"backgroundcolor\": \"#E5ECF6\", \"gridcolor\": \"white\", \"gridwidth\": 2, \"linecolor\": \"white\", \"showbackground\": true, \"ticks\": \"\", \"zerolinecolor\": \"white\"}, \"zaxis\": {\"backgroundcolor\": \"#E5ECF6\", \"gridcolor\": \"white\", \"gridwidth\": 2, \"linecolor\": \"white\", \"showbackground\": true, \"ticks\": \"\", \"zerolinecolor\": \"white\"}}, \"shapedefaults\": {\"line\": {\"color\": \"#2a3f5f\"}}, \"ternary\": {\"aaxis\": {\"gridcolor\": \"white\", \"linecolor\": \"white\", \"ticks\": \"\"}, \"baxis\": {\"gridcolor\": \"white\", \"linecolor\": \"white\", \"ticks\": \"\"}, \"bgcolor\": \"#E5ECF6\", \"caxis\": {\"gridcolor\": \"white\", \"linecolor\": \"white\", \"ticks\": \"\"}}, \"title\": {\"x\": 0.05}, \"xaxis\": {\"automargin\": true, \"gridcolor\": \"white\", \"linecolor\": \"white\", \"ticks\": \"\", \"title\": {\"standoff\": 15}, \"zerolinecolor\": \"white\", \"zerolinewidth\": 2}, \"yaxis\": {\"automargin\": true, \"gridcolor\": \"white\", \"linecolor\": \"white\", \"ticks\": \"\", \"title\": {\"standoff\": 15}, \"zerolinecolor\": \"white\", \"zerolinewidth\": 2}}}, \"title\": {\"text\": \"Mean Importance for 1000 alphas\"}, \"xaxis\": {\"anchor\": \"y\", \"domain\": [0.0, 1.0], \"title\": {\"text\": \"Saturation Frequency\"}}, \"yaxis\": {\"anchor\": \"x\", \"domain\": [0.0, 1.0], \"title\": {\"text\": \"Mean Coefficient\"}}},\n",
       "                        {\"responsive\": true}\n",
       "                    ).then(function(){\n",
       "                            \n",
       "var gd = document.getElementById('8afc2644-a411-4cd2-976d-c3f3970f776e');\n",
       "var x = new MutationObserver(function (mutations, observer) {{\n",
       "        var display = window.getComputedStyle(gd).display;\n",
       "        if (!display || display === 'none') {{\n",
       "            console.log([gd, 'removed!']);\n",
       "            Plotly.purge(gd);\n",
       "            observer.disconnect();\n",
       "        }}\n",
       "}});\n",
       "\n",
       "// Listen for the removal of the full notebook cells\n",
       "var notebookContainer = gd.closest('#notebook-container');\n",
       "if (notebookContainer) {{\n",
       "    x.observe(notebookContainer, {childList: true});\n",
       "}}\n",
       "\n",
       "// Listen for the clearing of the current output cell\n",
       "var outputEl = gd.closest('.output');\n",
       "if (outputEl) {{\n",
       "    x.observe(outputEl, {childList: true});\n",
       "}}\n",
       "\n",
       "                        })\n",
       "                };\n",
       "                });\n",
       "            </script>\n",
       "        </div>"
      ]
     },
     "metadata": {},
     "output_type": "display_data"
    }
   ],
   "source": [
    "w = np.abs(I.loc[:, Z.columns]).mean()\n",
    "w = pd.DataFrame(w.reset_index())\n",
    "w.columns = ['Saturation Frequency','Mean Coefficient']\n",
    "fig = px.scatter(w, x=\"Saturation Frequency\", y='Mean Coefficient'\n",
    "              , title='Mean Importance for 1000 alphas')\n",
    "fig.show()"
   ]
  },
  {
   "cell_type": "code",
   "execution_count": 35,
   "metadata": {},
   "outputs": [],
   "source": [
    "w = w.sort_values('Mean Coefficient',ascending=False)\n",
    "w['LASSO_rank'] = np.arange(1,82)\n"
   ]
  },
  {
   "cell_type": "markdown",
   "metadata": {},
   "source": [
    "### Performance"
   ]
  },
  {
   "cell_type": "code",
   "execution_count": 36,
   "metadata": {},
   "outputs": [
    {
     "name": "stdout",
     "output_type": "stream",
     "text": [
      "Fitting 3 folds for each of 200 candidates, totalling 600 fits\n"
     ]
    },
    {
     "name": "stderr",
     "output_type": "stream",
     "text": [
      "[Parallel(n_jobs=-1)]: Using backend LokyBackend with 16 concurrent workers.\n",
      "[Parallel(n_jobs=-1)]: Done  18 tasks      | elapsed:   13.5s\n",
      "[Parallel(n_jobs=-1)]: Done 168 tasks      | elapsed:   26.1s\n",
      "/Library/Frameworks/Python.framework/Versions/3.8/lib/python3.8/site-packages/joblib/externals/loky/process_executor.py:703: UserWarning:\n",
      "\n",
      "A worker stopped while some jobs were given to the executor. This can be caused by a too short worker timeout or by a memory leak.\n",
      "\n",
      "[Parallel(n_jobs=-1)]: Done 418 tasks      | elapsed:   32.7s\n",
      "[Parallel(n_jobs=-1)]: Done 600 out of 600 | elapsed:   35.8s finished\n"
     ]
    },
    {
     "data": {
      "text/plain": [
       "GridSearchCV(cv=3, error_score=nan,\n",
       "             estimator=Lasso(alpha=1.0, copy_X=True, fit_intercept=True,\n",
       "                             max_iter=1000000, normalize=False, positive=False,\n",
       "                             precompute=False, random_state=None,\n",
       "                             selection='cyclic', tol=0.01, warm_start=False),\n",
       "             iid='deprecated', n_jobs=-1,\n",
       "             param_grid={'alpha': array([1.00000000e-06, 6.02010050e-06, 1.10402010e-05, 1.60603015e-05,\n",
       "       2.10804020e-05, 2...\n",
       "       9.04618090e-04, 9.09638191e-04, 9.14658291e-04, 9.19678392e-04,\n",
       "       9.24698492e-04, 9.29718593e-04, 9.34738693e-04, 9.39758794e-04,\n",
       "       9.44778894e-04, 9.49798995e-04, 9.54819095e-04, 9.59839196e-04,\n",
       "       9.64859296e-04, 9.69879397e-04, 9.74899497e-04, 9.79919598e-04,\n",
       "       9.84939698e-04, 9.89959799e-04, 9.94979899e-04, 1.00000000e-03])},\n",
       "             pre_dispatch='2*n_jobs', refit=True, return_train_score=False,\n",
       "             scoring='r2', verbose=1)"
      ]
     },
     "execution_count": 36,
     "metadata": {},
     "output_type": "execute_result"
    }
   ],
   "source": [
    "parameters = {'alpha': alphas}\n",
    "\n",
    "X = Z[f1 & f2 & f3 & f4]\n",
    "y = acidoCEST_ML.pH[f1 & f2 & f3 & f4]\n",
    "\n",
    "L = Lasso(fit_intercept=True , normalize=False,max_iter=1000000,tol=.01, positive=False)\n",
    "clf = GridSearchCV(L, parameters ,verbose=1, n_jobs=-1, cv=3, scoring='r2')\n",
    "clf.fit(X,y )"
   ]
  },
  {
   "cell_type": "code",
   "execution_count": 37,
   "metadata": {},
   "outputs": [
    {
     "data": {
      "text/plain": [
       "Lasso(alpha=3.112060301507538e-05, copy_X=True, fit_intercept=True,\n",
       "      max_iter=1000000, normalize=False, positive=False, precompute=False,\n",
       "      random_state=None, selection='cyclic', tol=0.01, warm_start=False)"
      ]
     },
     "execution_count": 37,
     "metadata": {},
     "output_type": "execute_result"
    }
   ],
   "source": [
    "clf.best_estimator_"
   ]
  },
  {
   "cell_type": "code",
   "execution_count": 38,
   "metadata": {},
   "outputs": [
    {
     "data": {
      "text/plain": [
       "Text(0, 0.5, 'R2')"
      ]
     },
     "execution_count": 38,
     "metadata": {},
     "output_type": "execute_result"
    },
    {
     "data": {
      "image/png": "[encoded data removed]",
      "text/plain": [
       "<Figure size 432x288 with 1 Axes>"
      ]
     },
     "metadata": {
      "needs_background": "light"
     },
     "output_type": "display_data"
    }
   ],
   "source": [
    "plt.plot(alphas, clf.cv_results_['mean_test_score'])\n",
    "plt.xlabel('Alpha')\n",
    "plt.ylabel('R2')"
   ]
  },
  {
   "cell_type": "markdown",
   "metadata": {},
   "source": [
    "## Random Forest Regressor"
   ]
  },
  {
   "cell_type": "code",
   "execution_count": 39,
   "metadata": {},
   "outputs": [
    {
     "name": "stdout",
     "output_type": "stream",
     "text": [
      "Fitting 3 folds for each of 5 candidates, totalling 15 fits\n"
     ]
    },
    {
     "name": "stderr",
     "output_type": "stream",
     "text": [
      "[Parallel(n_jobs=-1)]: Using backend LokyBackend with 16 concurrent workers.\n",
      "[Parallel(n_jobs=-1)]: Done  15 out of  15 | elapsed:   18.5s finished\n"
     ]
    },
    {
     "name": "stdout",
     "output_type": "stream",
     "text": [
      "CPU times: user 23.5 s, sys: 67 ms, total: 23.6 s\n",
      "Wall time: 42 s\n"
     ]
    },
    {
     "data": {
      "text/plain": [
       "GridSearchCV(cv=3, error_score=nan,\n",
       "             estimator=RandomForestRegressor(bootstrap=True, ccp_alpha=0.0,\n",
       "                                             criterion='mse', max_depth=None,\n",
       "                                             max_features='auto',\n",
       "                                             max_leaf_nodes=None,\n",
       "                                             max_samples=None,\n",
       "                                             min_impurity_decrease=0.0,\n",
       "                                             min_impurity_split=None,\n",
       "                                             min_samples_leaf=1,\n",
       "                                             min_samples_split=2,\n",
       "                                             min_weight_fraction_leaf=0.0,\n",
       "                                             n_estimators=100, n_jobs=None,\n",
       "                                             oob_score=False, random_state=None,\n",
       "                                             verbose=0, warm_start=False),\n",
       "             iid='deprecated', n_jobs=-1,\n",
       "             param_grid={'n_estimators': [1, 2, 10, 50, 100]},\n",
       "             pre_dispatch='2*n_jobs', refit=True, return_train_score=False,\n",
       "             scoring='r2', verbose=1)"
      ]
     },
     "execution_count": 39,
     "metadata": {},
     "output_type": "execute_result"
    }
   ],
   "source": [
    "%%time\n",
    "\n",
    "parameters = {'n_estimators': [1,2,10,50,100]}\n",
    "\n",
    "RfR = RandomForestRegressor()\n",
    "clf2 = GridSearchCV(RfR, parameters ,verbose=1, n_jobs=-1, cv=3, scoring='r2')\n",
    "clf2.fit(X,y )"
   ]
  },
  {
   "cell_type": "code",
   "execution_count": 40,
   "metadata": {},
   "outputs": [
    {
     "data": {
      "text/plain": [
       "RandomForestRegressor(bootstrap=True, ccp_alpha=0.0, criterion='mse',\n",
       "                      max_depth=None, max_features='auto', max_leaf_nodes=None,\n",
       "                      max_samples=None, min_impurity_decrease=0.0,\n",
       "                      min_impurity_split=None, min_samples_leaf=1,\n",
       "                      min_samples_split=2, min_weight_fraction_leaf=0.0,\n",
       "                      n_estimators=100, n_jobs=None, oob_score=False,\n",
       "                      random_state=None, verbose=0, warm_start=False)"
      ]
     },
     "execution_count": 40,
     "metadata": {},
     "output_type": "execute_result"
    }
   ],
   "source": [
    "clf2.best_estimator_"
   ]
  },
  {
   "cell_type": "code",
   "execution_count": 41,
   "metadata": {},
   "outputs": [
    {
     "data": {
      "text/plain": [
       "array([0.20321854, 0.46875687, 0.63977461, 0.67379929, 0.67624501])"
      ]
     },
     "execution_count": 41,
     "metadata": {},
     "output_type": "execute_result"
    }
   ],
   "source": [
    "clf2.cv_results_['mean_test_score']"
   ]
  },
  {
   "cell_type": "code",
   "execution_count": 42,
   "metadata": {},
   "outputs": [
    {
     "data": {
      "application/vnd.plotly.v1+json": {
       "config": {
        "plotlyServerURL": "https://plot.ly"
       },
       "data": [
        {
         "hoverlabel": {
          "namelength": 0
         },
         "hovertemplate": "Saturation Frequency=%{x}<br>Importance=%{y}",
         "legendgroup": "",
         "marker": {
          "color": "#636efa",
          "symbol": "circle"
         },
         "mode": "markers",
         "name": "",
         "showlegend": false,
         "type": "scatter",
         "x": [
          "-12.2",
          "-11.2",
          "-10.2",
          "-9.2",
          "-6.2",
          "-3.2",
          "-2.95",
          "-2.7",
          "-2.45",
          "-2.2",
          "-2.0",
          "-1.8",
          "-1.6",
          "-1.4",
          "-1.2",
          "-1.0",
          "-0.8",
          "-0.6",
          "-0.4",
          "-0.2",
          "0.0",
          "0.2",
          "0.4",
          "0.6",
          "0.8",
          "1.0",
          "1.2",
          "1.4",
          "1.6",
          "1.8",
          "2.0",
          "2.2",
          "2.4",
          "2.6",
          "2.8",
          "3.0",
          "3.1",
          "3.2",
          "3.3",
          "3.4",
          "3.5",
          "3.6",
          "3.7",
          "3.8",
          "3.9",
          "4.0",
          "4.1",
          "4.2",
          "4.3",
          "4.4",
          "4.5",
          "4.6",
          "4.7",
          "4.8",
          "4.9",
          "5.0",
          "5.1",
          "5.2",
          "5.3",
          "5.4",
          "5.5",
          "5.6",
          "5.7",
          "5.8",
          "5.9",
          "6.0",
          "6.1",
          "6.2",
          "6.3",
          "6.4",
          "6.6",
          "6.8",
          "7.0",
          "7.2",
          "7.4",
          "7.6",
          "7.8",
          "8.8",
          "9.8",
          "10.8",
          "11.8"
         ],
         "xaxis": "x",
         "y": [
          0.0024089263998793775,
          0.002190565415890295,
          0.0026009657329752883,
          0.002650708687075347,
          0.0022617415673193697,
          0.002755664260175276,
          0.0025806671906132422,
          0.0028943513427163023,
          0.002855952954453129,
          0.003238319999943885,
          0.0025233509060482028,
          0.0031637464630869935,
          0.003450934199653432,
          0.002915184770483044,
          0.00341108243505291,
          0.004101209642866223,
          0.0044030587194384485,
          0.004664701516373219,
          0.005112912739789671,
          0.009193630436797324,
          0.03200177277736828,
          0.03168523233207806,
          0.009464292812117091,
          0.01025010483137574,
          0.007976658521215955,
          0.006527892385430752,
          0.004759797305102586,
          0.004128204106763023,
          0.007696255298239323,
          0.01593471851533012,
          0.01212899048236532,
          0.009935543647689215,
          0.00868036665434979,
          0.006376401296850342,
          0.006158212091998482,
          0.005544878877893545,
          0.005785997571403376,
          0.006131817299031843,
          0.006336136216659699,
          0.0066091154032865635,
          0.008602357278889677,
          0.009388496834384913,
          0.006023174495417058,
          0.006317250765655049,
          0.012625245342883295,
          0.011005924645516566,
          0.014435646498989917,
          0.04437368230566584,
          0.07226357643721146,
          0.07119561840006897,
          0.08430511671332293,
          0.029767119466242366,
          0.015310686311183163,
          0.016144877948015397,
          0.010703481013872087,
          0.004427656404403047,
          0.00293227319866993,
          0.0029969165778978056,
          0.003931195504540632,
          0.006000094532121848,
          0.015298391034630132,
          0.047702961608308066,
          0.10250150707262767,
          0.05263174968433141,
          0.018131740481774457,
          0.009163778910256996,
          0.006053016187206921,
          0.0055507307444350095,
          0.0047493574484594086,
          0.0040552360792859765,
          0.0034691992114536446,
          0.002892520578836824,
          0.002442675455765734,
          0.0022410172532038855,
          0.0023020817790784377,
          0.0025704083887494156,
          0.0024860819317449787,
          0.0023847966182723116,
          0.002533384174880363,
          0.002376871034186958,
          0.002222039840379496
         ],
         "yaxis": "y"
        }
       ],
       "layout": {
        "legend": {
         "tracegroupgap": 0
        },
        "template": {
         "data": {
          "bar": [
           {
            "error_x": {
             "color": "#2a3f5f"
            },
            "error_y": {
             "color": "#2a3f5f"
            },
            "marker": {
             "line": {
              "color": "#E5ECF6",
              "width": 0.5
             }
            },
            "type": "bar"
           }
          ],
          "barpolar": [
           {
            "marker": {
             "line": {
              "color": "#E5ECF6",
              "width": 0.5
             }
            },
            "type": "barpolar"
           }
          ],
          "carpet": [
           {
            "aaxis": {
             "endlinecolor": "#2a3f5f",
             "gridcolor": "white",
             "linecolor": "white",
             "minorgridcolor": "white",
             "startlinecolor": "#2a3f5f"
            },
            "baxis": {
             "endlinecolor": "#2a3f5f",
             "gridcolor": "white",
             "linecolor": "white",
             "minorgridcolor": "white",
             "startlinecolor": "#2a3f5f"
            },
            "type": "carpet"
           }
          ],
          "choropleth": [
           {
            "colorbar": {
             "outlinewidth": 0,
             "ticks": ""
            },
            "type": "choropleth"
           }
          ],
          "contour": [
           {
            "colorbar": {
             "outlinewidth": 0,
             "ticks": ""
            },
            "colorscale": [
             [
              0,
              "#0d0887"
             ],
             [
              0.1111111111111111,
              "#46039f"
             ],
             [
              0.2222222222222222,
              "#7201a8"
             ],
             [
              0.3333333333333333,
              "#9c179e"
             ],
             [
              0.4444444444444444,
              "#bd3786"
             ],
             [
              0.5555555555555556,
              "#d8576b"
             ],
             [
              0.6666666666666666,
              "#ed7953"
             ],
             [
              0.7777777777777778,
              "#fb9f3a"
             ],
             [
              0.8888888888888888,
              "#fdca26"
             ],
             [
              1,
              "#f0f921"
             ]
            ],
            "type": "contour"
           }
          ],
          "contourcarpet": [
           {
            "colorbar": {
             "outlinewidth": 0,
             "ticks": ""
            },
            "type": "contourcarpet"
           }
          ],
          "heatmap": [
           {
            "colorbar": {
             "outlinewidth": 0,
             "ticks": ""
            },
            "colorscale": [
             [
              0,
              "#0d0887"
             ],
             [
              0.1111111111111111,
              "#46039f"
             ],
             [
              0.2222222222222222,
              "#7201a8"
             ],
             [
              0.3333333333333333,
              "#9c179e"
             ],
             [
              0.4444444444444444,
              "#bd3786"
             ],
             [
              0.5555555555555556,
              "#d8576b"
             ],
             [
              0.6666666666666666,
              "#ed7953"
             ],
             [
              0.7777777777777778,
              "#fb9f3a"
             ],
             [
              0.8888888888888888,
              "#fdca26"
             ],
             [
              1,
              "#f0f921"
             ]
            ],
            "type": "heatmap"
           }
          ],
          "heatmapgl": [
           {
            "colorbar": {
             "outlinewidth": 0,
             "ticks": ""
            },
            "colorscale": [
             [
              0,
              "#0d0887"
             ],
             [
              0.1111111111111111,
              "#46039f"
             ],
             [
              0.2222222222222222,
              "#7201a8"
             ],
             [
              0.3333333333333333,
              "#9c179e"
             ],
             [
              0.4444444444444444,
              "#bd3786"
             ],
             [
              0.5555555555555556,
              "#d8576b"
             ],
             [
              0.6666666666666666,
              "#ed7953"
             ],
             [
              0.7777777777777778,
              "#fb9f3a"
             ],
             [
              0.8888888888888888,
              "#fdca26"
             ],
             [
              1,
              "#f0f921"
             ]
            ],
            "type": "heatmapgl"
           }
          ],
          "histogram": [
           {
            "marker": {
             "colorbar": {
              "outlinewidth": 0,
              "ticks": ""
             }
            },
            "type": "histogram"
           }
          ],
          "histogram2d": [
           {
            "colorbar": {
             "outlinewidth": 0,
             "ticks": ""
            },
            "colorscale": [
             [
              0,
              "#0d0887"
             ],
             [
              0.1111111111111111,
              "#46039f"
             ],
             [
              0.2222222222222222,
              "#7201a8"
             ],
             [
              0.3333333333333333,
              "#9c179e"
             ],
             [
              0.4444444444444444,
              "#bd3786"
             ],
             [
              0.5555555555555556,
              "#d8576b"
             ],
             [
              0.6666666666666666,
              "#ed7953"
             ],
             [
              0.7777777777777778,
              "#fb9f3a"
             ],
             [
              0.8888888888888888,
              "#fdca26"
             ],
             [
              1,
              "#f0f921"
             ]
            ],
            "type": "histogram2d"
           }
          ],
          "histogram2dcontour": [
           {
            "colorbar": {
             "outlinewidth": 0,
             "ticks": ""
            },
            "colorscale": [
             [
              0,
              "#0d0887"
             ],
             [
              0.1111111111111111,
              "#46039f"
             ],
             [
              0.2222222222222222,
              "#7201a8"
             ],
             [
              0.3333333333333333,
              "#9c179e"
             ],
             [
              0.4444444444444444,
              "#bd3786"
             ],
             [
              0.5555555555555556,
              "#d8576b"
             ],
             [
              0.6666666666666666,
              "#ed7953"
             ],
             [
              0.7777777777777778,
              "#fb9f3a"
             ],
             [
              0.8888888888888888,
              "#fdca26"
             ],
             [
              1,
              "#f0f921"
             ]
            ],
            "type": "histogram2dcontour"
           }
          ],
          "mesh3d": [
           {
            "colorbar": {
             "outlinewidth": 0,
             "ticks": ""
            },
            "type": "mesh3d"
           }
          ],
          "parcoords": [
           {
            "line": {
             "colorbar": {
              "outlinewidth": 0,
              "ticks": ""
             }
            },
            "type": "parcoords"
           }
          ],
          "pie": [
           {
            "automargin": true,
            "type": "pie"
           }
          ],
          "scatter": [
           {
            "marker": {
             "colorbar": {
              "outlinewidth": 0,
              "ticks": ""
             }
            },
            "type": "scatter"
           }
          ],
          "scatter3d": [
           {
            "line": {
             "colorbar": {
              "outlinewidth": 0,
              "ticks": ""
             }
            },
            "marker": {
             "colorbar": {
              "outlinewidth": 0,
              "ticks": ""
             }
            },
            "type": "scatter3d"
           }
          ],
          "scattercarpet": [
           {
            "marker": {
             "colorbar": {
              "outlinewidth": 0,
              "ticks": ""
             }
            },
            "type": "scattercarpet"
           }
          ],
          "scattergeo": [
           {
            "marker": {
             "colorbar": {
              "outlinewidth": 0,
              "ticks": ""
             }
            },
            "type": "scattergeo"
           }
          ],
          "scattergl": [
           {
            "marker": {
             "colorbar": {
              "outlinewidth": 0,
              "ticks": ""
             }
            },
            "type": "scattergl"
           }
          ],
          "scattermapbox": [
           {
            "marker": {
             "colorbar": {
              "outlinewidth": 0,
              "ticks": ""
             }
            },
            "type": "scattermapbox"
           }
          ],
          "scatterpolar": [
           {
            "marker": {
             "colorbar": {
              "outlinewidth": 0,
              "ticks": ""
             }
            },
            "type": "scatterpolar"
           }
          ],
          "scatterpolargl": [
           {
            "marker": {
             "colorbar": {
              "outlinewidth": 0,
              "ticks": ""
             }
            },
            "type": "scatterpolargl"
           }
          ],
          "scatterternary": [
           {
            "marker": {
             "colorbar": {
              "outlinewidth": 0,
              "ticks": ""
             }
            },
            "type": "scatterternary"
           }
          ],
          "surface": [
           {
            "colorbar": {
             "outlinewidth": 0,
             "ticks": ""
            },
            "colorscale": [
             [
              0,
              "#0d0887"
             ],
             [
              0.1111111111111111,
              "#46039f"
             ],
             [
              0.2222222222222222,
              "#7201a8"
             ],
             [
              0.3333333333333333,
              "#9c179e"
             ],
             [
              0.4444444444444444,
              "#bd3786"
             ],
             [
              0.5555555555555556,
              "#d8576b"
             ],
             [
              0.6666666666666666,
              "#ed7953"
             ],
             [
              0.7777777777777778,
              "#fb9f3a"
             ],
             [
              0.8888888888888888,
              "#fdca26"
             ],
             [
              1,
              "#f0f921"
             ]
            ],
            "type": "surface"
           }
          ],
          "table": [
           {
            "cells": {
             "fill": {
              "color": "#EBF0F8"
             },
             "line": {
              "color": "white"
             }
            },
            "header": {
             "fill": {
              "color": "#C8D4E3"
             },
             "line": {
              "color": "white"
             }
            },
            "type": "table"
           }
          ]
         },
         "layout": {
          "annotationdefaults": {
           "arrowcolor": "#2a3f5f",
           "arrowhead": 0,
           "arrowwidth": 1
          },
          "coloraxis": {
           "colorbar": {
            "outlinewidth": 0,
            "ticks": ""
           }
          },
          "colorscale": {
           "diverging": [
            [
             0,
             "#8e0152"
            ],
            [
             0.1,
             "#c51b7d"
            ],
            [
             0.2,
             "#de77ae"
            ],
            [
             0.3,
             "#f1b6da"
            ],
            [
             0.4,
             "#fde0ef"
            ],
            [
             0.5,
             "#f7f7f7"
            ],
            [
             0.6,
             "#e6f5d0"
            ],
            [
             0.7,
             "#b8e186"
            ],
            [
             0.8,
             "#7fbc41"
            ],
            [
             0.9,
             "#4d9221"
            ],
            [
             1,
             "#276419"
            ]
           ],
           "sequential": [
            [
             0,
             "#0d0887"
            ],
            [
             0.1111111111111111,
             "#46039f"
            ],
            [
             0.2222222222222222,
             "#7201a8"
            ],
            [
             0.3333333333333333,
             "#9c179e"
            ],
            [
             0.4444444444444444,
             "#bd3786"
            ],
            [
             0.5555555555555556,
             "#d8576b"
            ],
            [
             0.6666666666666666,
             "#ed7953"
            ],
            [
             0.7777777777777778,
             "#fb9f3a"
            ],
            [
             0.8888888888888888,
             "#fdca26"
            ],
            [
             1,
             "#f0f921"
            ]
           ],
           "sequentialminus": [
            [
             0,
             "#0d0887"
            ],
            [
             0.1111111111111111,
             "#46039f"
            ],
            [
             0.2222222222222222,
             "#7201a8"
            ],
            [
             0.3333333333333333,
             "#9c179e"
            ],
            [
             0.4444444444444444,
             "#bd3786"
            ],
            [
             0.5555555555555556,
             "#d8576b"
            ],
            [
             0.6666666666666666,
             "#ed7953"
            ],
            [
             0.7777777777777778,
             "#fb9f3a"
            ],
            [
             0.8888888888888888,
             "#fdca26"
            ],
            [
             1,
             "#f0f921"
            ]
           ]
          },
          "colorway": [
           "#636efa",
           "#EF553B",
           "#00cc96",
           "#ab63fa",
           "#FFA15A",
           "#19d3f3",
           "#FF6692",
           "#B6E880",
           "#FF97FF",
           "#FECB52"
          ],
          "font": {
           "color": "#2a3f5f"
          },
          "geo": {
           "bgcolor": "white",
           "lakecolor": "white",
           "landcolor": "#E5ECF6",
           "showlakes": true,
           "showland": true,
           "subunitcolor": "white"
          },
          "hoverlabel": {
           "align": "left"
          },
          "hovermode": "closest",
          "mapbox": {
           "style": "light"
          },
          "paper_bgcolor": "white",
          "plot_bgcolor": "#E5ECF6",
          "polar": {
           "angularaxis": {
            "gridcolor": "white",
            "linecolor": "white",
            "ticks": ""
           },
           "bgcolor": "#E5ECF6",
           "radialaxis": {
            "gridcolor": "white",
            "linecolor": "white",
            "ticks": ""
           }
          },
          "scene": {
           "xaxis": {
            "backgroundcolor": "#E5ECF6",
            "gridcolor": "white",
            "gridwidth": 2,
            "linecolor": "white",
            "showbackground": true,
            "ticks": "",
            "zerolinecolor": "white"
           },
           "yaxis": {
            "backgroundcolor": "#E5ECF6",
            "gridcolor": "white",
            "gridwidth": 2,
            "linecolor": "white",
            "showbackground": true,
            "ticks": "",
            "zerolinecolor": "white"
           },
           "zaxis": {
            "backgroundcolor": "#E5ECF6",
            "gridcolor": "white",
            "gridwidth": 2,
            "linecolor": "white",
            "showbackground": true,
            "ticks": "",
            "zerolinecolor": "white"
           }
          },
          "shapedefaults": {
           "line": {
            "color": "#2a3f5f"
           }
          },
          "ternary": {
           "aaxis": {
            "gridcolor": "white",
            "linecolor": "white",
            "ticks": ""
           },
           "baxis": {
            "gridcolor": "white",
            "linecolor": "white",
            "ticks": ""
           },
           "bgcolor": "#E5ECF6",
           "caxis": {
            "gridcolor": "white",
            "linecolor": "white",
            "ticks": ""
           }
          },
          "title": {
           "x": 0.05
          },
          "xaxis": {
           "automargin": true,
           "gridcolor": "white",
           "linecolor": "white",
           "ticks": "",
           "title": {
            "standoff": 15
           },
           "zerolinecolor": "white",
           "zerolinewidth": 2
          },
          "yaxis": {
           "automargin": true,
           "gridcolor": "white",
           "linecolor": "white",
           "ticks": "",
           "title": {
            "standoff": 15
           },
           "zerolinecolor": "white",
           "zerolinewidth": 2
          }
         }
        },
        "title": {
         "text": "Time (%) a frequency is non zero for 1000 alphas"
        },
        "xaxis": {
         "anchor": "y",
         "domain": [
          0,
          1
         ],
         "title": {
          "text": "Saturation Frequency"
         }
        },
        "yaxis": {
         "anchor": "x",
         "domain": [
          0,
          1
         ],
         "title": {
          "text": "Importance"
         }
        }
       }
      },
      "text/html": [
       "<div>\n",
       "        \n",
       "        \n",
       "            <div id=\"e448e786-2ea8-4b75-95ce-01fc9108d0a8\" class=\"plotly-graph-div\" style=\"height:525px; width:100%;\"></div>\n",
       "            <script type=\"text/javascript\">\n",
       "                require([\"plotly\"], function(Plotly) {\n",
       "                    window.PLOTLYENV=window.PLOTLYENV || {};\n",
       "                    \n",
       "                if (document.getElementById(\"e448e786-2ea8-4b75-95ce-01fc9108d0a8\")) {\n",
       "                    Plotly.newPlot(\n",
       "                        'e448e786-2ea8-4b75-95ce-01fc9108d0a8',\n",
       "                        [{\"hoverlabel\": {\"namelength\": 0}, \"hovertemplate\": \"Saturation Frequency=%{x}<br>Importance=%{y}\", \"legendgroup\": \"\", \"marker\": {\"color\": \"#636efa\", \"symbol\": \"circle\"}, \"mode\": \"markers\", \"name\": \"\", \"showlegend\": false, \"type\": \"scatter\", \"x\": [\"-12.2\", \"-11.2\", \"-10.2\", \"-9.2\", \"-6.2\", \"-3.2\", \"-2.95\", \"-2.7\", \"-2.45\", \"-2.2\", \"-2.0\", \"-1.8\", \"-1.6\", \"-1.4\", \"-1.2\", \"-1.0\", \"-0.8\", \"-0.6\", \"-0.4\", \"-0.2\", \"0.0\", \"0.2\", \"0.4\", \"0.6\", \"0.8\", \"1.0\", \"1.2\", \"1.4\", \"1.6\", \"1.8\", \"2.0\", \"2.2\", \"2.4\", \"2.6\", \"2.8\", \"3.0\", \"3.1\", \"3.2\", \"3.3\", \"3.4\", \"3.5\", \"3.6\", \"3.7\", \"3.8\", \"3.9\", \"4.0\", \"4.1\", \"4.2\", \"4.3\", \"4.4\", \"4.5\", \"4.6\", \"4.7\", \"4.8\", \"4.9\", \"5.0\", \"5.1\", \"5.2\", \"5.3\", \"5.4\", \"5.5\", \"5.6\", \"5.7\", \"5.8\", \"5.9\", \"6.0\", \"6.1\", \"6.2\", \"6.3\", \"6.4\", \"6.6\", \"6.8\", \"7.0\", \"7.2\", \"7.4\", \"7.6\", \"7.8\", \"8.8\", \"9.8\", \"10.8\", \"11.8\"], \"xaxis\": \"x\", \"y\": [0.0024089263998793775, 0.002190565415890295, 0.0026009657329752883, 0.002650708687075347, 0.0022617415673193697, 0.002755664260175276, 0.0025806671906132422, 0.0028943513427163023, 0.002855952954453129, 0.003238319999943885, 0.0025233509060482028, 0.0031637464630869935, 0.003450934199653432, 0.002915184770483044, 0.00341108243505291, 0.004101209642866223, 0.0044030587194384485, 0.004664701516373219, 0.005112912739789671, 0.009193630436797324, 0.03200177277736828, 0.03168523233207806, 0.009464292812117091, 0.01025010483137574, 0.007976658521215955, 0.006527892385430752, 0.004759797305102586, 0.004128204106763023, 0.007696255298239323, 0.01593471851533012, 0.01212899048236532, 0.009935543647689215, 0.00868036665434979, 0.006376401296850342, 0.006158212091998482, 0.005544878877893545, 0.005785997571403376, 0.006131817299031843, 0.006336136216659699, 0.0066091154032865635, 0.008602357278889677, 0.009388496834384913, 0.006023174495417058, 0.006317250765655049, 0.012625245342883295, 0.011005924645516566, 0.014435646498989917, 0.04437368230566584, 0.07226357643721146, 0.07119561840006897, 0.08430511671332293, 0.029767119466242366, 0.015310686311183163, 0.016144877948015397, 0.010703481013872087, 0.004427656404403047, 0.00293227319866993, 0.0029969165778978056, 0.003931195504540632, 0.006000094532121848, 0.015298391034630132, 0.047702961608308066, 0.10250150707262767, 0.05263174968433141, 0.018131740481774457, 0.009163778910256996, 0.006053016187206921, 0.0055507307444350095, 0.0047493574484594086, 0.0040552360792859765, 0.0034691992114536446, 0.002892520578836824, 0.002442675455765734, 0.0022410172532038855, 0.0023020817790784377, 0.0025704083887494156, 0.0024860819317449787, 0.0023847966182723116, 0.002533384174880363, 0.002376871034186958, 0.002222039840379496], \"yaxis\": \"y\"}],\n",
       "                        {\"legend\": {\"tracegroupgap\": 0}, \"template\": {\"data\": {\"bar\": [{\"error_x\": {\"color\": \"#2a3f5f\"}, \"error_y\": {\"color\": \"#2a3f5f\"}, \"marker\": {\"line\": {\"color\": \"#E5ECF6\", \"width\": 0.5}}, \"type\": \"bar\"}], \"barpolar\": [{\"marker\": {\"line\": {\"color\": \"#E5ECF6\", \"width\": 0.5}}, \"type\": \"barpolar\"}], \"carpet\": [{\"aaxis\": {\"endlinecolor\": \"#2a3f5f\", \"gridcolor\": \"white\", \"linecolor\": \"white\", \"minorgridcolor\": \"white\", \"startlinecolor\": \"#2a3f5f\"}, \"baxis\": {\"endlinecolor\": \"#2a3f5f\", \"gridcolor\": \"white\", \"linecolor\": \"white\", \"minorgridcolor\": \"white\", \"startlinecolor\": \"#2a3f5f\"}, \"type\": \"carpet\"}], \"choropleth\": [{\"colorbar\": {\"outlinewidth\": 0, \"ticks\": \"\"}, \"type\": \"choropleth\"}], \"contour\": [{\"colorbar\": {\"outlinewidth\": 0, \"ticks\": \"\"}, \"colorscale\": [[0.0, \"#0d0887\"], [0.1111111111111111, \"#46039f\"], [0.2222222222222222, \"#7201a8\"], [0.3333333333333333, \"#9c179e\"], [0.4444444444444444, \"#bd3786\"], [0.5555555555555556, \"#d8576b\"], [0.6666666666666666, \"#ed7953\"], [0.7777777777777778, \"#fb9f3a\"], [0.8888888888888888, \"#fdca26\"], [1.0, \"#f0f921\"]], \"type\": \"contour\"}], \"contourcarpet\": [{\"colorbar\": {\"outlinewidth\": 0, \"ticks\": \"\"}, \"type\": \"contourcarpet\"}], \"heatmap\": [{\"colorbar\": {\"outlinewidth\": 0, \"ticks\": \"\"}, \"colorscale\": [[0.0, \"#0d0887\"], [0.1111111111111111, \"#46039f\"], [0.2222222222222222, \"#7201a8\"], [0.3333333333333333, \"#9c179e\"], [0.4444444444444444, \"#bd3786\"], [0.5555555555555556, \"#d8576b\"], [0.6666666666666666, \"#ed7953\"], [0.7777777777777778, \"#fb9f3a\"], [0.8888888888888888, \"#fdca26\"], [1.0, \"#f0f921\"]], \"type\": \"heatmap\"}], \"heatmapgl\": [{\"colorbar\": {\"outlinewidth\": 0, \"ticks\": \"\"}, \"colorscale\": [[0.0, \"#0d0887\"], [0.1111111111111111, \"#46039f\"], [0.2222222222222222, \"#7201a8\"], [0.3333333333333333, \"#9c179e\"], [0.4444444444444444, \"#bd3786\"], [0.5555555555555556, \"#d8576b\"], [0.6666666666666666, \"#ed7953\"], [0.7777777777777778, \"#fb9f3a\"], [0.8888888888888888, \"#fdca26\"], [1.0, \"#f0f921\"]], \"type\": \"heatmapgl\"}], \"histogram\": [{\"marker\": {\"colorbar\": {\"outlinewidth\": 0, \"ticks\": \"\"}}, \"type\": \"histogram\"}], \"histogram2d\": [{\"colorbar\": {\"outlinewidth\": 0, \"ticks\": \"\"}, \"colorscale\": [[0.0, \"#0d0887\"], [0.1111111111111111, \"#46039f\"], [0.2222222222222222, \"#7201a8\"], [0.3333333333333333, \"#9c179e\"], [0.4444444444444444, \"#bd3786\"], [0.5555555555555556, \"#d8576b\"], [0.6666666666666666, \"#ed7953\"], [0.7777777777777778, \"#fb9f3a\"], [0.8888888888888888, \"#fdca26\"], [1.0, \"#f0f921\"]], \"type\": \"histogram2d\"}], \"histogram2dcontour\": [{\"colorbar\": {\"outlinewidth\": 0, \"ticks\": \"\"}, \"colorscale\": [[0.0, \"#0d0887\"], [0.1111111111111111, \"#46039f\"], [0.2222222222222222, \"#7201a8\"], [0.3333333333333333, \"#9c179e\"], [0.4444444444444444, \"#bd3786\"], [0.5555555555555556, \"#d8576b\"], [0.6666666666666666, \"#ed7953\"], [0.7777777777777778, \"#fb9f3a\"], [0.8888888888888888, \"#fdca26\"], [1.0, \"#f0f921\"]], \"type\": \"histogram2dcontour\"}], \"mesh3d\": [{\"colorbar\": {\"outlinewidth\": 0, \"ticks\": \"\"}, \"type\": \"mesh3d\"}], \"parcoords\": [{\"line\": {\"colorbar\": {\"outlinewidth\": 0, \"ticks\": \"\"}}, \"type\": \"parcoords\"}], \"pie\": [{\"automargin\": true, \"type\": \"pie\"}], \"scatter\": [{\"marker\": {\"colorbar\": {\"outlinewidth\": 0, \"ticks\": \"\"}}, \"type\": \"scatter\"}], \"scatter3d\": [{\"line\": {\"colorbar\": {\"outlinewidth\": 0, \"ticks\": \"\"}}, \"marker\": {\"colorbar\": {\"outlinewidth\": 0, \"ticks\": \"\"}}, \"type\": \"scatter3d\"}], \"scattercarpet\": [{\"marker\": {\"colorbar\": {\"outlinewidth\": 0, \"ticks\": \"\"}}, \"type\": \"scattercarpet\"}], \"scattergeo\": [{\"marker\": {\"colorbar\": {\"outlinewidth\": 0, \"ticks\": \"\"}}, \"type\": \"scattergeo\"}], \"scattergl\": [{\"marker\": {\"colorbar\": {\"outlinewidth\": 0, \"ticks\": \"\"}}, \"type\": \"scattergl\"}], \"scattermapbox\": [{\"marker\": {\"colorbar\": {\"outlinewidth\": 0, \"ticks\": \"\"}}, \"type\": \"scattermapbox\"}], \"scatterpolar\": [{\"marker\": {\"colorbar\": {\"outlinewidth\": 0, \"ticks\": \"\"}}, \"type\": \"scatterpolar\"}], \"scatterpolargl\": [{\"marker\": {\"colorbar\": {\"outlinewidth\": 0, \"ticks\": \"\"}}, \"type\": \"scatterpolargl\"}], \"scatterternary\": [{\"marker\": {\"colorbar\": {\"outlinewidth\": 0, \"ticks\": \"\"}}, \"type\": \"scatterternary\"}], \"surface\": [{\"colorbar\": {\"outlinewidth\": 0, \"ticks\": \"\"}, \"colorscale\": [[0.0, \"#0d0887\"], [0.1111111111111111, \"#46039f\"], [0.2222222222222222, \"#7201a8\"], [0.3333333333333333, \"#9c179e\"], [0.4444444444444444, \"#bd3786\"], [0.5555555555555556, \"#d8576b\"], [0.6666666666666666, \"#ed7953\"], [0.7777777777777778, \"#fb9f3a\"], [0.8888888888888888, \"#fdca26\"], [1.0, \"#f0f921\"]], \"type\": \"surface\"}], \"table\": [{\"cells\": {\"fill\": {\"color\": \"#EBF0F8\"}, \"line\": {\"color\": \"white\"}}, \"header\": {\"fill\": {\"color\": \"#C8D4E3\"}, \"line\": {\"color\": \"white\"}}, \"type\": \"table\"}]}, \"layout\": {\"annotationdefaults\": {\"arrowcolor\": \"#2a3f5f\", \"arrowhead\": 0, \"arrowwidth\": 1}, \"coloraxis\": {\"colorbar\": {\"outlinewidth\": 0, \"ticks\": \"\"}}, \"colorscale\": {\"diverging\": [[0, \"#8e0152\"], [0.1, \"#c51b7d\"], [0.2, \"#de77ae\"], [0.3, \"#f1b6da\"], [0.4, \"#fde0ef\"], [0.5, \"#f7f7f7\"], [0.6, \"#e6f5d0\"], [0.7, \"#b8e186\"], [0.8, \"#7fbc41\"], [0.9, \"#4d9221\"], [1, \"#276419\"]], \"sequential\": [[0.0, \"#0d0887\"], [0.1111111111111111, \"#46039f\"], [0.2222222222222222, \"#7201a8\"], [0.3333333333333333, \"#9c179e\"], [0.4444444444444444, \"#bd3786\"], [0.5555555555555556, \"#d8576b\"], [0.6666666666666666, \"#ed7953\"], [0.7777777777777778, \"#fb9f3a\"], [0.8888888888888888, \"#fdca26\"], [1.0, \"#f0f921\"]], \"sequentialminus\": [[0.0, \"#0d0887\"], [0.1111111111111111, \"#46039f\"], [0.2222222222222222, \"#7201a8\"], [0.3333333333333333, \"#9c179e\"], [0.4444444444444444, \"#bd3786\"], [0.5555555555555556, \"#d8576b\"], [0.6666666666666666, \"#ed7953\"], [0.7777777777777778, \"#fb9f3a\"], [0.8888888888888888, \"#fdca26\"], [1.0, \"#f0f921\"]]}, \"colorway\": [\"#636efa\", \"#EF553B\", \"#00cc96\", \"#ab63fa\", \"#FFA15A\", \"#19d3f3\", \"#FF6692\", \"#B6E880\", \"#FF97FF\", \"#FECB52\"], \"font\": {\"color\": \"#2a3f5f\"}, \"geo\": {\"bgcolor\": \"white\", \"lakecolor\": \"white\", \"landcolor\": \"#E5ECF6\", \"showlakes\": true, \"showland\": true, \"subunitcolor\": \"white\"}, \"hoverlabel\": {\"align\": \"left\"}, \"hovermode\": \"closest\", \"mapbox\": {\"style\": \"light\"}, \"paper_bgcolor\": \"white\", \"plot_bgcolor\": \"#E5ECF6\", \"polar\": {\"angularaxis\": {\"gridcolor\": \"white\", \"linecolor\": \"white\", \"ticks\": \"\"}, \"bgcolor\": \"#E5ECF6\", \"radialaxis\": {\"gridcolor\": \"white\", \"linecolor\": \"white\", \"ticks\": \"\"}}, \"scene\": {\"xaxis\": {\"backgroundcolor\": \"#E5ECF6\", \"gridcolor\": \"white\", \"gridwidth\": 2, \"linecolor\": \"white\", \"showbackground\": true, \"ticks\": \"\", \"zerolinecolor\": \"white\"}, \"yaxis\": {\"backgroundcolor\": \"#E5ECF6\", \"gridcolor\": \"white\", \"gridwidth\": 2, \"linecolor\": \"white\", \"showbackground\": true, \"ticks\": \"\", \"zerolinecolor\": \"white\"}, \"zaxis\": {\"backgroundcolor\": \"#E5ECF6\", \"gridcolor\": \"white\", \"gridwidth\": 2, \"linecolor\": \"white\", \"showbackground\": true, \"ticks\": \"\", \"zerolinecolor\": \"white\"}}, \"shapedefaults\": {\"line\": {\"color\": \"#2a3f5f\"}}, \"ternary\": {\"aaxis\": {\"gridcolor\": \"white\", \"linecolor\": \"white\", \"ticks\": \"\"}, \"baxis\": {\"gridcolor\": \"white\", \"linecolor\": \"white\", \"ticks\": \"\"}, \"bgcolor\": \"#E5ECF6\", \"caxis\": {\"gridcolor\": \"white\", \"linecolor\": \"white\", \"ticks\": \"\"}}, \"title\": {\"x\": 0.05}, \"xaxis\": {\"automargin\": true, \"gridcolor\": \"white\", \"linecolor\": \"white\", \"ticks\": \"\", \"title\": {\"standoff\": 15}, \"zerolinecolor\": \"white\", \"zerolinewidth\": 2}, \"yaxis\": {\"automargin\": true, \"gridcolor\": \"white\", \"linecolor\": \"white\", \"ticks\": \"\", \"title\": {\"standoff\": 15}, \"zerolinecolor\": \"white\", \"zerolinewidth\": 2}}}, \"title\": {\"text\": \"Time (%) a frequency is non zero for 1000 alphas\"}, \"xaxis\": {\"anchor\": \"y\", \"domain\": [0.0, 1.0], \"title\": {\"text\": \"Saturation Frequency\"}}, \"yaxis\": {\"anchor\": \"x\", \"domain\": [0.0, 1.0], \"title\": {\"text\": \"Importance\"}}},\n",
       "                        {\"responsive\": true}\n",
       "                    ).then(function(){\n",
       "                            \n",
       "var gd = document.getElementById('e448e786-2ea8-4b75-95ce-01fc9108d0a8');\n",
       "var x = new MutationObserver(function (mutations, observer) {{\n",
       "        var display = window.getComputedStyle(gd).display;\n",
       "        if (!display || display === 'none') {{\n",
       "            console.log([gd, 'removed!']);\n",
       "            Plotly.purge(gd);\n",
       "            observer.disconnect();\n",
       "        }}\n",
       "}});\n",
       "\n",
       "// Listen for the removal of the full notebook cells\n",
       "var notebookContainer = gd.closest('#notebook-container');\n",
       "if (notebookContainer) {{\n",
       "    x.observe(notebookContainer, {childList: true});\n",
       "}}\n",
       "\n",
       "// Listen for the clearing of the current output cell\n",
       "var outputEl = gd.closest('.output');\n",
       "if (outputEl) {{\n",
       "    x.observe(outputEl, {childList: true});\n",
       "}}\n",
       "\n",
       "                        })\n",
       "                };\n",
       "                });\n",
       "            </script>\n",
       "        </div>"
      ]
     },
     "metadata": {},
     "output_type": "display_data"
    }
   ],
   "source": [
    "best = clf2.best_estimator_\n",
    "FI = pd.DataFrame(best.feature_importances_,index=X.columns)\n",
    "FI = FI.reset_index()\n",
    "FI.columns =['Saturation Frequency', 'Importance']\n",
    "fig = px.scatter(FI, x=\"Saturation Frequency\", y='Importance', title='Time (%) a frequency is non zero for 1000 alphas')\n",
    "fig.show()"
   ]
  },
  {
   "cell_type": "code",
   "execution_count": 43,
   "metadata": {},
   "outputs": [],
   "source": [
    "FI = FI.sort_values('Importance',ascending=False)\n",
    "FI['RF_rank'] = np.arange(1,82)"
   ]
  },
  {
   "cell_type": "code",
   "execution_count": 44,
   "metadata": {},
   "outputs": [],
   "source": [
    "C = FI.merge(w, left_on='Saturation Frequency',right_on='Saturation Frequency')"
   ]
  },
  {
   "cell_type": "code",
   "execution_count": 45,
   "metadata": {},
   "outputs": [
    {
     "data": {
      "text/html": [
       "<div>\n",
       "<style scoped>\n",
       "    .dataframe tbody tr th:only-of-type {\n",
       "        vertical-align: middle;\n",
       "    }\n",
       "\n",
       "    .dataframe tbody tr th {\n",
       "        vertical-align: top;\n",
       "    }\n",
       "\n",
       "    .dataframe thead th {\n",
       "        text-align: right;\n",
       "    }\n",
       "</style>\n",
       "<table border=\"1\" class=\"dataframe\">\n",
       "  <thead>\n",
       "    <tr style=\"text-align: right;\">\n",
       "      <th></th>\n",
       "      <th>Saturation Frequency</th>\n",
       "      <th>Importance</th>\n",
       "      <th>RF_rank</th>\n",
       "      <th>Mean Coefficient</th>\n",
       "      <th>LASSO_rank</th>\n",
       "    </tr>\n",
       "  </thead>\n",
       "  <tbody>\n",
       "    <tr>\n",
       "      <th>0</th>\n",
       "      <td>5.7</td>\n",
       "      <td>0.102502</td>\n",
       "      <td>1</td>\n",
       "      <td>1.839462</td>\n",
       "      <td>1</td>\n",
       "    </tr>\n",
       "    <tr>\n",
       "      <th>1</th>\n",
       "      <td>4.5</td>\n",
       "      <td>0.084305</td>\n",
       "      <td>2</td>\n",
       "      <td>0.468379</td>\n",
       "      <td>9</td>\n",
       "    </tr>\n",
       "    <tr>\n",
       "      <th>2</th>\n",
       "      <td>4.3</td>\n",
       "      <td>0.072264</td>\n",
       "      <td>3</td>\n",
       "      <td>1.123805</td>\n",
       "      <td>3</td>\n",
       "    </tr>\n",
       "    <tr>\n",
       "      <th>3</th>\n",
       "      <td>4.4</td>\n",
       "      <td>0.071196</td>\n",
       "      <td>4</td>\n",
       "      <td>0.715501</td>\n",
       "      <td>8</td>\n",
       "    </tr>\n",
       "    <tr>\n",
       "      <th>4</th>\n",
       "      <td>5.8</td>\n",
       "      <td>0.052632</td>\n",
       "      <td>5</td>\n",
       "      <td>0.725876</td>\n",
       "      <td>6</td>\n",
       "    </tr>\n",
       "    <tr>\n",
       "      <th>...</th>\n",
       "      <td>...</td>\n",
       "      <td>...</td>\n",
       "      <td>...</td>\n",
       "      <td>...</td>\n",
       "      <td>...</td>\n",
       "    </tr>\n",
       "    <tr>\n",
       "      <th>76</th>\n",
       "      <td>7.4</td>\n",
       "      <td>0.002302</td>\n",
       "      <td>77</td>\n",
       "      <td>0.027252</td>\n",
       "      <td>43</td>\n",
       "    </tr>\n",
       "    <tr>\n",
       "      <th>77</th>\n",
       "      <td>-6.2</td>\n",
       "      <td>0.002262</td>\n",
       "      <td>78</td>\n",
       "      <td>0.367996</td>\n",
       "      <td>12</td>\n",
       "    </tr>\n",
       "    <tr>\n",
       "      <th>78</th>\n",
       "      <td>7.2</td>\n",
       "      <td>0.002241</td>\n",
       "      <td>79</td>\n",
       "      <td>0.005098</td>\n",
       "      <td>62</td>\n",
       "    </tr>\n",
       "    <tr>\n",
       "      <th>79</th>\n",
       "      <td>11.8</td>\n",
       "      <td>0.002222</td>\n",
       "      <td>80</td>\n",
       "      <td>0.003364</td>\n",
       "      <td>64</td>\n",
       "    </tr>\n",
       "    <tr>\n",
       "      <th>80</th>\n",
       "      <td>-11.2</td>\n",
       "      <td>0.002191</td>\n",
       "      <td>81</td>\n",
       "      <td>0.004072</td>\n",
       "      <td>63</td>\n",
       "    </tr>\n",
       "  </tbody>\n",
       "</table>\n",
       "<p>81 rows × 5 columns</p>\n",
       "</div>"
      ],
      "text/plain": [
       "   Saturation Frequency  Importance  RF_rank  Mean Coefficient  LASSO_rank\n",
       "0                   5.7    0.102502        1          1.839462           1\n",
       "1                   4.5    0.084305        2          0.468379           9\n",
       "2                   4.3    0.072264        3          1.123805           3\n",
       "3                   4.4    0.071196        4          0.715501           8\n",
       "4                   5.8    0.052632        5          0.725876           6\n",
       "..                  ...         ...      ...               ...         ...\n",
       "76                  7.4    0.002302       77          0.027252          43\n",
       "77                 -6.2    0.002262       78          0.367996          12\n",
       "78                  7.2    0.002241       79          0.005098          62\n",
       "79                 11.8    0.002222       80          0.003364          64\n",
       "80                -11.2    0.002191       81          0.004072          63\n",
       "\n",
       "[81 rows x 5 columns]"
      ]
     },
     "execution_count": 45,
     "metadata": {},
     "output_type": "execute_result"
    }
   ],
   "source": [
    "C"
   ]
  },
  {
   "cell_type": "code",
   "execution_count": 47,
   "metadata": {},
   "outputs": [
    {
     "data": {
      "text/html": [
       "<div>\n",
       "<style scoped>\n",
       "    .dataframe tbody tr th:only-of-type {\n",
       "        vertical-align: middle;\n",
       "    }\n",
       "\n",
       "    .dataframe tbody tr th {\n",
       "        vertical-align: top;\n",
       "    }\n",
       "\n",
       "    .dataframe thead th {\n",
       "        text-align: right;\n",
       "    }\n",
       "</style>\n",
       "<table border=\"1\" class=\"dataframe\">\n",
       "  <thead>\n",
       "    <tr style=\"text-align: right;\">\n",
       "      <th></th>\n",
       "      <th>Saturation Frequency</th>\n",
       "      <th>Importance</th>\n",
       "      <th>RF_rank</th>\n",
       "      <th>Mean Coefficient</th>\n",
       "      <th>LASSO_rank</th>\n",
       "    </tr>\n",
       "  </thead>\n",
       "  <tbody>\n",
       "    <tr>\n",
       "      <th>0</th>\n",
       "      <td>5.7</td>\n",
       "      <td>0.102502</td>\n",
       "      <td>1</td>\n",
       "      <td>1.839462</td>\n",
       "      <td>1</td>\n",
       "    </tr>\n",
       "    <tr>\n",
       "      <th>1</th>\n",
       "      <td>4.5</td>\n",
       "      <td>0.084305</td>\n",
       "      <td>2</td>\n",
       "      <td>0.468379</td>\n",
       "      <td>9</td>\n",
       "    </tr>\n",
       "    <tr>\n",
       "      <th>2</th>\n",
       "      <td>4.3</td>\n",
       "      <td>0.072264</td>\n",
       "      <td>3</td>\n",
       "      <td>1.123805</td>\n",
       "      <td>3</td>\n",
       "    </tr>\n",
       "    <tr>\n",
       "      <th>3</th>\n",
       "      <td>4.4</td>\n",
       "      <td>0.071196</td>\n",
       "      <td>4</td>\n",
       "      <td>0.715501</td>\n",
       "      <td>8</td>\n",
       "    </tr>\n",
       "    <tr>\n",
       "      <th>4</th>\n",
       "      <td>5.8</td>\n",
       "      <td>0.052632</td>\n",
       "      <td>5</td>\n",
       "      <td>0.725876</td>\n",
       "      <td>6</td>\n",
       "    </tr>\n",
       "    <tr>\n",
       "      <th>5</th>\n",
       "      <td>5.6</td>\n",
       "      <td>0.047703</td>\n",
       "      <td>6</td>\n",
       "      <td>1.690669</td>\n",
       "      <td>2</td>\n",
       "    </tr>\n",
       "    <tr>\n",
       "      <th>6</th>\n",
       "      <td>4.2</td>\n",
       "      <td>0.044374</td>\n",
       "      <td>7</td>\n",
       "      <td>0.297829</td>\n",
       "      <td>15</td>\n",
       "    </tr>\n",
       "    <tr>\n",
       "      <th>7</th>\n",
       "      <td>0.0</td>\n",
       "      <td>0.032002</td>\n",
       "      <td>8</td>\n",
       "      <td>0.172292</td>\n",
       "      <td>20</td>\n",
       "    </tr>\n",
       "    <tr>\n",
       "      <th>8</th>\n",
       "      <td>0.2</td>\n",
       "      <td>0.031685</td>\n",
       "      <td>9</td>\n",
       "      <td>0.058817</td>\n",
       "      <td>28</td>\n",
       "    </tr>\n",
       "    <tr>\n",
       "      <th>9</th>\n",
       "      <td>4.6</td>\n",
       "      <td>0.029767</td>\n",
       "      <td>10</td>\n",
       "      <td>0.907771</td>\n",
       "      <td>4</td>\n",
       "    </tr>\n",
       "  </tbody>\n",
       "</table>\n",
       "</div>"
      ],
      "text/plain": [
       "  Saturation Frequency  Importance  RF_rank  Mean Coefficient  LASSO_rank\n",
       "0                  5.7    0.102502        1          1.839462           1\n",
       "1                  4.5    0.084305        2          0.468379           9\n",
       "2                  4.3    0.072264        3          1.123805           3\n",
       "3                  4.4    0.071196        4          0.715501           8\n",
       "4                  5.8    0.052632        5          0.725876           6\n",
       "5                  5.6    0.047703        6          1.690669           2\n",
       "6                  4.2    0.044374        7          0.297829          15\n",
       "7                  0.0    0.032002        8          0.172292          20\n",
       "8                  0.2    0.031685        9          0.058817          28\n",
       "9                  4.6    0.029767       10          0.907771           4"
      ]
     },
     "execution_count": 47,
     "metadata": {},
     "output_type": "execute_result"
    }
   ],
   "source": [
    "C.sort_values('RF_rank',ascending=True).head(10)"
   ]
  },
  {
   "cell_type": "code",
   "execution_count": 53,
   "metadata": {},
   "outputs": [
    {
     "name": "stdout",
     "output_type": "stream",
     "text": [
      "27\n"
     ]
    },
    {
     "data": {
      "text/plain": [
       "['-1.2',\n",
       " '-1.4',\n",
       " '-1.6',\n",
       " '-3.2',\n",
       " '-6.2',\n",
       " '0.0',\n",
       " '0.2',\n",
       " '0.4',\n",
       " '1.8',\n",
       " '2.0',\n",
       " '3.3',\n",
       " '3.9',\n",
       " '4.0',\n",
       " '4.1',\n",
       " '4.2',\n",
       " '4.3',\n",
       " '4.4',\n",
       " '4.5',\n",
       " '4.6',\n",
       " '4.7',\n",
       " '4.8',\n",
       " '4.9',\n",
       " '5.5',\n",
       " '5.6',\n",
       " '5.7',\n",
       " '5.8',\n",
       " '5.9']"
      ]
     },
     "execution_count": 53,
     "metadata": {},
     "output_type": "execute_result"
    }
   ],
   "source": [
    "selected_freqs = C[(C.RF_rank <=20) | (C.LASSO_rank <=20)]['Saturation Frequency']\n",
    "col_list_sel_freqs = [str(f) for f in selected_freqs ]\n",
    "col_list_sel_freqs.sort()\n",
    "print( len(col_list_sel_freqs ))\n",
    "col_list_sel_freqs"
   ]
  },
  {
   "cell_type": "code",
   "execution_count": 70,
   "metadata": {},
   "outputs": [],
   "source": [
    "w = Z[col_list_sel_freqs].melt()\n",
    "w.columns = ['Sat Freq','CEST Signal']"
   ]
  },
  {
   "cell_type": "code",
   "execution_count": 78,
   "metadata": {},
   "outputs": [
    {
     "data": {
      "text/plain": [
       "<AxesSubplot:xlabel='Sat Freq', ylabel='CEST Signal'>"
      ]
     },
     "execution_count": 78,
     "metadata": {},
     "output_type": "execute_result"
    },
    {
     "data": {
      "image/png": "[encoded data removed]",
      "text/plain": [
       "<Figure size 1200x800 with 1 Axes>"
      ]
     },
     "metadata": {
      "needs_background": "light"
     },
     "output_type": "display_data"
    }
   ],
   "source": [
    "plt.figure(dpi=100, figsize=(12,8))\n",
    "\n",
    "sns.boxenplot(x='Sat Freq',y='CEST Signal',data=w)"
   ]
  },
  {
   "cell_type": "markdown",
   "metadata": {},
   "source": [
    "## autoML with selected frequencies"
   ]
  },
  {
   "cell_type": "code",
   "execution_count": 79,
   "metadata": {},
   "outputs": [
    {
     "name": "stdout",
     "output_type": "stream",
     "text": [
      "Checking whether there is an H2O instance running at http://localhost:54321 ..... not found.\n",
      "Attempting to start a local H2O server...\n",
      "  Java Version: java version \"13.0.2\" 2020-01-14; Java(TM) SE Runtime Environment (build 13.0.2+8); Java HotSpot(TM) 64-Bit Server VM (build 13.0.2+8, mixed mode, sharing)\n",
      "  Starting server from /Users/jcarde20/Library/Python/3.8/lib/python/site-packages/h2o/backend/bin/h2o.jar\n",
      "  Ice root: /var/folders/d_/pj93f9nd3k9fq5d2jcwxdbq9n_t54d/T/tmpogl2rpf3\n",
      "  JVM stdout: /var/folders/d_/pj93f9nd3k9fq5d2jcwxdbq9n_t54d/T/tmpogl2rpf3/h2o_jcarde20_started_from_python.out\n",
      "  JVM stderr: /var/folders/d_/pj93f9nd3k9fq5d2jcwxdbq9n_t54d/T/tmpogl2rpf3/h2o_jcarde20_started_from_python.err\n",
      "  Server is running at http://127.0.0.1:54321\n",
      "Connecting to H2O server at http://127.0.0.1:54321 ... successful.\n",
      "Warning: Your H2O cluster version is too old (4 months and 21 days)! Please download and install the latest version from http://h2o.ai/download/\n"
     ]
    },
    {
     "data": {
      "text/html": [
       "<div style=\"overflow:auto\"><table style=\"width:50%\"><tr><td>H2O_cluster_uptime:</td>\n",
       "<td>02 secs</td></tr>\n",
       "<tr><td>H2O_cluster_timezone:</td>\n",
       "<td>America/Phoenix</td></tr>\n",
       "<tr><td>H2O_data_parsing_timezone:</td>\n",
       "<td>UTC</td></tr>\n",
       "<tr><td>H2O_cluster_version:</td>\n",
       "<td>3.30.1.3</td></tr>\n",
       "<tr><td>H2O_cluster_version_age:</td>\n",
       "<td>4 months and 21 days !!!</td></tr>\n",
       "<tr><td>H2O_cluster_name:</td>\n",
       "<td>H2O_from_python_jcarde20_0hmd7p</td></tr>\n",
       "<tr><td>H2O_cluster_total_nodes:</td>\n",
       "<td>1</td></tr>\n",
       "<tr><td>H2O_cluster_free_memory:</td>\n",
       "<td>8 Gb</td></tr>\n",
       "<tr><td>H2O_cluster_total_cores:</td>\n",
       "<td>16</td></tr>\n",
       "<tr><td>H2O_cluster_allowed_cores:</td>\n",
       "<td>16</td></tr>\n",
       "<tr><td>H2O_cluster_status:</td>\n",
       "<td>accepting new members, healthy</td></tr>\n",
       "<tr><td>H2O_connection_url:</td>\n",
       "<td>http://127.0.0.1:54321</td></tr>\n",
       "<tr><td>H2O_connection_proxy:</td>\n",
       "<td>{\"http\": null, \"https\": null}</td></tr>\n",
       "<tr><td>H2O_internal_security:</td>\n",
       "<td>False</td></tr>\n",
       "<tr><td>H2O_API_Extensions:</td>\n",
       "<td>Amazon S3, XGBoost, Algos, AutoML, Core V3, TargetEncoder, Core V4</td></tr>\n",
       "<tr><td>Python_version:</td>\n",
       "<td>3.8.1 final</td></tr></table></div>"
      ],
      "text/plain": [
       "--------------------------  ------------------------------------------------------------------\n",
       "H2O_cluster_uptime:         02 secs\n",
       "H2O_cluster_timezone:       America/Phoenix\n",
       "H2O_data_parsing_timezone:  UTC\n",
       "H2O_cluster_version:        3.30.1.3\n",
       "H2O_cluster_version_age:    4 months and 21 days !!!\n",
       "H2O_cluster_name:           H2O_from_python_jcarde20_0hmd7p\n",
       "H2O_cluster_total_nodes:    1\n",
       "H2O_cluster_free_memory:    8 Gb\n",
       "H2O_cluster_total_cores:    16\n",
       "H2O_cluster_allowed_cores:  16\n",
       "H2O_cluster_status:         accepting new members, healthy\n",
       "H2O_connection_url:         http://127.0.0.1:54321\n",
       "H2O_connection_proxy:       {\"http\": null, \"https\": null}\n",
       "H2O_internal_security:      False\n",
       "H2O_API_Extensions:         Amazon S3, XGBoost, Algos, AutoML, Core V3, TargetEncoder, Core V4\n",
       "Python_version:             3.8.1 final\n",
       "--------------------------  ------------------------------------------------------------------"
      ]
     },
     "metadata": {},
     "output_type": "display_data"
    }
   ],
   "source": [
    "import h2o\n",
    "from h2o.automl import H2OAutoML\n",
    "h2o.init()"
   ]
  },
  {
   "cell_type": "code",
   "execution_count": 80,
   "metadata": {},
   "outputs": [
    {
     "name": "stdout",
     "output_type": "stream",
     "text": [
      "Parse progress: |█████████████████████████████████████████████████████████| 100%\n"
     ]
    }
   ],
   "source": [
    "data = h2o.H2OFrame(pd.concat( (acidoCEST_ML.pH, Z),axis=1))"
   ]
  },
  {
   "cell_type": "code",
   "execution_count": 81,
   "metadata": {},
   "outputs": [],
   "source": [
    "train, test, val = data.split_frame( ratios = [.7, .25] )"
   ]
  },
  {
   "cell_type": "code",
   "execution_count": 87,
   "metadata": {},
   "outputs": [
    {
     "data": {
      "text/html": [
       "<div>\n",
       "<style scoped>\n",
       "    .dataframe tbody tr th:only-of-type {\n",
       "        vertical-align: middle;\n",
       "    }\n",
       "\n",
       "    .dataframe tbody tr th {\n",
       "        vertical-align: top;\n",
       "    }\n",
       "\n",
       "    .dataframe thead th {\n",
       "        text-align: right;\n",
       "    }\n",
       "</style>\n",
       "<table border=\"1\" class=\"dataframe\">\n",
       "  <thead>\n",
       "    <tr style=\"text-align: right;\">\n",
       "      <th></th>\n",
       "      <th>pH</th>\n",
       "      <th>Conc(mM)</th>\n",
       "      <th>ExpT1(ms)</th>\n",
       "      <th>ExpT2(ms)</th>\n",
       "      <th>ExpB1(percent)</th>\n",
       "      <th>ExpB0(ppm)</th>\n",
       "      <th>ExpB0(Hz)</th>\n",
       "      <th>Temp</th>\n",
       "      <th>SatPower(uT)</th>\n",
       "      <th>SatTime(ms)</th>\n",
       "      <th>...</th>\n",
       "      <th>7</th>\n",
       "      <th>7.2</th>\n",
       "      <th>7.4</th>\n",
       "      <th>7.6</th>\n",
       "      <th>7.8</th>\n",
       "      <th>8</th>\n",
       "      <th>9</th>\n",
       "      <th>10</th>\n",
       "      <th>11</th>\n",
       "      <th>12</th>\n",
       "    </tr>\n",
       "  </thead>\n",
       "  <tbody>\n",
       "    <tr>\n",
       "      <th>0</th>\n",
       "      <td>6.24</td>\n",
       "      <td>9.9870</td>\n",
       "      <td>402.70</td>\n",
       "      <td>201.72</td>\n",
       "      <td>118.130</td>\n",
       "      <td>0.58603</td>\n",
       "      <td>176.000</td>\n",
       "      <td>37</td>\n",
       "      <td>3.0</td>\n",
       "      <td>2000</td>\n",
       "      <td>...</td>\n",
       "      <td>0.971111</td>\n",
       "      <td>0.980716</td>\n",
       "      <td>0.979566</td>\n",
       "      <td>0.979752</td>\n",
       "      <td>0.984350</td>\n",
       "      <td>0.984906</td>\n",
       "      <td>0.984795</td>\n",
       "      <td>0.984350</td>\n",
       "      <td>0.984981</td>\n",
       "      <td>0.988652</td>\n",
       "    </tr>\n",
       "    <tr>\n",
       "      <th>1</th>\n",
       "      <td>6.38</td>\n",
       "      <td>9.9761</td>\n",
       "      <td>388.31</td>\n",
       "      <td>214.49</td>\n",
       "      <td>107.810</td>\n",
       "      <td>0.70919</td>\n",
       "      <td>212.990</td>\n",
       "      <td>37</td>\n",
       "      <td>3.0</td>\n",
       "      <td>2000</td>\n",
       "      <td>...</td>\n",
       "      <td>0.980465</td>\n",
       "      <td>0.974735</td>\n",
       "      <td>0.983810</td>\n",
       "      <td>0.980580</td>\n",
       "      <td>0.989117</td>\n",
       "      <td>0.976427</td>\n",
       "      <td>0.985118</td>\n",
       "      <td>0.992963</td>\n",
       "      <td>0.982541</td>\n",
       "      <td>0.986118</td>\n",
       "    </tr>\n",
       "    <tr>\n",
       "      <th>2</th>\n",
       "      <td>6.58</td>\n",
       "      <td>9.9800</td>\n",
       "      <td>393.20</td>\n",
       "      <td>217.77</td>\n",
       "      <td>103.080</td>\n",
       "      <td>0.76500</td>\n",
       "      <td>229.760</td>\n",
       "      <td>37</td>\n",
       "      <td>3.0</td>\n",
       "      <td>2000</td>\n",
       "      <td>...</td>\n",
       "      <td>0.990908</td>\n",
       "      <td>0.993978</td>\n",
       "      <td>0.986067</td>\n",
       "      <td>0.977566</td>\n",
       "      <td>0.994293</td>\n",
       "      <td>0.991026</td>\n",
       "      <td>0.993073</td>\n",
       "      <td>0.995671</td>\n",
       "      <td>0.995749</td>\n",
       "      <td>0.994293</td>\n",
       "    </tr>\n",
       "    <tr>\n",
       "      <th>3</th>\n",
       "      <td>6.69</td>\n",
       "      <td>9.9582</td>\n",
       "      <td>389.14</td>\n",
       "      <td>217.87</td>\n",
       "      <td>106.210</td>\n",
       "      <td>0.63908</td>\n",
       "      <td>191.940</td>\n",
       "      <td>37</td>\n",
       "      <td>3.0</td>\n",
       "      <td>2000</td>\n",
       "      <td>...</td>\n",
       "      <td>0.977619</td>\n",
       "      <td>0.978972</td>\n",
       "      <td>0.969579</td>\n",
       "      <td>0.976034</td>\n",
       "      <td>0.980634</td>\n",
       "      <td>0.977116</td>\n",
       "      <td>0.982064</td>\n",
       "      <td>0.984422</td>\n",
       "      <td>0.980634</td>\n",
       "      <td>0.978856</td>\n",
       "    </tr>\n",
       "    <tr>\n",
       "      <th>4</th>\n",
       "      <td>6.84</td>\n",
       "      <td>9.9502</td>\n",
       "      <td>379.38</td>\n",
       "      <td>214.10</td>\n",
       "      <td>111.260</td>\n",
       "      <td>0.33744</td>\n",
       "      <td>101.340</td>\n",
       "      <td>37</td>\n",
       "      <td>3.0</td>\n",
       "      <td>2000</td>\n",
       "      <td>...</td>\n",
       "      <td>0.979530</td>\n",
       "      <td>0.976333</td>\n",
       "      <td>0.986626</td>\n",
       "      <td>0.980583</td>\n",
       "      <td>0.986158</td>\n",
       "      <td>0.983624</td>\n",
       "      <td>0.992982</td>\n",
       "      <td>0.984248</td>\n",
       "      <td>0.985690</td>\n",
       "      <td>0.985417</td>\n",
       "    </tr>\n",
       "    <tr>\n",
       "      <th>...</th>\n",
       "      <td>...</td>\n",
       "      <td>...</td>\n",
       "      <td>...</td>\n",
       "      <td>...</td>\n",
       "      <td>...</td>\n",
       "      <td>...</td>\n",
       "      <td>...</td>\n",
       "      <td>...</td>\n",
       "      <td>...</td>\n",
       "      <td>...</td>\n",
       "      <td>...</td>\n",
       "      <td>...</td>\n",
       "      <td>...</td>\n",
       "      <td>...</td>\n",
       "      <td>...</td>\n",
       "      <td>...</td>\n",
       "      <td>...</td>\n",
       "      <td>...</td>\n",
       "      <td>...</td>\n",
       "      <td>...</td>\n",
       "      <td>...</td>\n",
       "    </tr>\n",
       "    <tr>\n",
       "      <th>35995</th>\n",
       "      <td>6.38</td>\n",
       "      <td>9.9631</td>\n",
       "      <td>4112.50</td>\n",
       "      <td>601.83</td>\n",
       "      <td>101.610</td>\n",
       "      <td>0.22259</td>\n",
       "      <td>66.852</td>\n",
       "      <td>37</td>\n",
       "      <td>4.0</td>\n",
       "      <td>2000</td>\n",
       "      <td>...</td>\n",
       "      <td>0.957295</td>\n",
       "      <td>0.957801</td>\n",
       "      <td>0.955397</td>\n",
       "      <td>0.963685</td>\n",
       "      <td>0.965772</td>\n",
       "      <td>0.971340</td>\n",
       "      <td>0.970454</td>\n",
       "      <td>0.969379</td>\n",
       "      <td>0.977224</td>\n",
       "      <td>0.973871</td>\n",
       "    </tr>\n",
       "    <tr>\n",
       "      <th>35996</th>\n",
       "      <td>6.58</td>\n",
       "      <td>9.9631</td>\n",
       "      <td>3918.70</td>\n",
       "      <td>575.72</td>\n",
       "      <td>109.390</td>\n",
       "      <td>0.33517</td>\n",
       "      <td>100.660</td>\n",
       "      <td>37</td>\n",
       "      <td>4.0</td>\n",
       "      <td>2000</td>\n",
       "      <td>...</td>\n",
       "      <td>0.940677</td>\n",
       "      <td>0.947761</td>\n",
       "      <td>0.947329</td>\n",
       "      <td>0.948518</td>\n",
       "      <td>0.962200</td>\n",
       "      <td>0.957766</td>\n",
       "      <td>0.959604</td>\n",
       "      <td>0.972637</td>\n",
       "      <td>0.972475</td>\n",
       "      <td>0.975827</td>\n",
       "    </tr>\n",
       "    <tr>\n",
       "      <th>35997</th>\n",
       "      <td>6.70</td>\n",
       "      <td>9.9473</td>\n",
       "      <td>3911.10</td>\n",
       "      <td>593.31</td>\n",
       "      <td>106.630</td>\n",
       "      <td>0.40331</td>\n",
       "      <td>121.130</td>\n",
       "      <td>37</td>\n",
       "      <td>4.0</td>\n",
       "      <td>2000</td>\n",
       "      <td>...</td>\n",
       "      <td>0.938586</td>\n",
       "      <td>0.947827</td>\n",
       "      <td>0.960817</td>\n",
       "      <td>0.957015</td>\n",
       "      <td>0.945187</td>\n",
       "      <td>0.958494</td>\n",
       "      <td>0.969953</td>\n",
       "      <td>0.978560</td>\n",
       "      <td>0.972963</td>\n",
       "      <td>0.975022</td>\n",
       "    </tr>\n",
       "    <tr>\n",
       "      <th>35998</th>\n",
       "      <td>6.88</td>\n",
       "      <td>9.9206</td>\n",
       "      <td>4043.40</td>\n",
       "      <td>632.75</td>\n",
       "      <td>99.980</td>\n",
       "      <td>0.35798</td>\n",
       "      <td>107.510</td>\n",
       "      <td>37</td>\n",
       "      <td>4.0</td>\n",
       "      <td>2000</td>\n",
       "      <td>...</td>\n",
       "      <td>0.949383</td>\n",
       "      <td>0.938830</td>\n",
       "      <td>0.944454</td>\n",
       "      <td>0.961153</td>\n",
       "      <td>0.959413</td>\n",
       "      <td>0.963356</td>\n",
       "      <td>0.961674</td>\n",
       "      <td>0.969676</td>\n",
       "      <td>0.977967</td>\n",
       "      <td>0.983243</td>\n",
       "    </tr>\n",
       "    <tr>\n",
       "      <th>35999</th>\n",
       "      <td>7.02</td>\n",
       "      <td>9.9512</td>\n",
       "      <td>3882.00</td>\n",
       "      <td>638.70</td>\n",
       "      <td>81.981</td>\n",
       "      <td>0.31547</td>\n",
       "      <td>94.747</td>\n",
       "      <td>37</td>\n",
       "      <td>4.0</td>\n",
       "      <td>2000</td>\n",
       "      <td>...</td>\n",
       "      <td>0.931650</td>\n",
       "      <td>0.925942</td>\n",
       "      <td>0.942780</td>\n",
       "      <td>0.943350</td>\n",
       "      <td>0.939141</td>\n",
       "      <td>0.951627</td>\n",
       "      <td>0.953696</td>\n",
       "      <td>0.957620</td>\n",
       "      <td>0.955908</td>\n",
       "      <td>0.962329</td>\n",
       "    </tr>\n",
       "  </tbody>\n",
       "</table>\n",
       "<p>36000 rows × 91 columns</p>\n",
       "</div>"
      ],
      "text/plain": [
       "         pH  Conc(mM)  ExpT1(ms)  ExpT2(ms)  ExpB1(percent)  ExpB0(ppm)  \\\n",
       "0      6.24    9.9870     402.70     201.72         118.130     0.58603   \n",
       "1      6.38    9.9761     388.31     214.49         107.810     0.70919   \n",
       "2      6.58    9.9800     393.20     217.77         103.080     0.76500   \n",
       "3      6.69    9.9582     389.14     217.87         106.210     0.63908   \n",
       "4      6.84    9.9502     379.38     214.10         111.260     0.33744   \n",
       "...     ...       ...        ...        ...             ...         ...   \n",
       "35995  6.38    9.9631    4112.50     601.83         101.610     0.22259   \n",
       "35996  6.58    9.9631    3918.70     575.72         109.390     0.33517   \n",
       "35997  6.70    9.9473    3911.10     593.31         106.630     0.40331   \n",
       "35998  6.88    9.9206    4043.40     632.75          99.980     0.35798   \n",
       "35999  7.02    9.9512    3882.00     638.70          81.981     0.31547   \n",
       "\n",
       "       ExpB0(Hz)  Temp  SatPower(uT)  SatTime(ms)  ...         7       7.2  \\\n",
       "0        176.000    37           3.0         2000  ...  0.971111  0.980716   \n",
       "1        212.990    37           3.0         2000  ...  0.980465  0.974735   \n",
       "2        229.760    37           3.0         2000  ...  0.990908  0.993978   \n",
       "3        191.940    37           3.0         2000  ...  0.977619  0.978972   \n",
       "4        101.340    37           3.0         2000  ...  0.979530  0.976333   \n",
       "...          ...   ...           ...          ...  ...       ...       ...   \n",
       "35995     66.852    37           4.0         2000  ...  0.957295  0.957801   \n",
       "35996    100.660    37           4.0         2000  ...  0.940677  0.947761   \n",
       "35997    121.130    37           4.0         2000  ...  0.938586  0.947827   \n",
       "35998    107.510    37           4.0         2000  ...  0.949383  0.938830   \n",
       "35999     94.747    37           4.0         2000  ...  0.931650  0.925942   \n",
       "\n",
       "            7.4       7.6       7.8         8         9        10        11  \\\n",
       "0      0.979566  0.979752  0.984350  0.984906  0.984795  0.984350  0.984981   \n",
       "1      0.983810  0.980580  0.989117  0.976427  0.985118  0.992963  0.982541   \n",
       "2      0.986067  0.977566  0.994293  0.991026  0.993073  0.995671  0.995749   \n",
       "3      0.969579  0.976034  0.980634  0.977116  0.982064  0.984422  0.980634   \n",
       "4      0.986626  0.980583  0.986158  0.983624  0.992982  0.984248  0.985690   \n",
       "...         ...       ...       ...       ...       ...       ...       ...   \n",
       "35995  0.955397  0.963685  0.965772  0.971340  0.970454  0.969379  0.977224   \n",
       "35996  0.947329  0.948518  0.962200  0.957766  0.959604  0.972637  0.972475   \n",
       "35997  0.960817  0.957015  0.945187  0.958494  0.969953  0.978560  0.972963   \n",
       "35998  0.944454  0.961153  0.959413  0.963356  0.961674  0.969676  0.977967   \n",
       "35999  0.942780  0.943350  0.939141  0.951627  0.953696  0.957620  0.955908   \n",
       "\n",
       "             12  \n",
       "0      0.988652  \n",
       "1      0.986118  \n",
       "2      0.994293  \n",
       "3      0.978856  \n",
       "4      0.985417  \n",
       "...         ...  \n",
       "35995  0.973871  \n",
       "35996  0.975827  \n",
       "35997  0.975022  \n",
       "35998  0.983243  \n",
       "35999  0.962329  \n",
       "\n",
       "[36000 rows x 91 columns]"
      ]
     },
     "execution_count": 87,
     "metadata": {},
     "output_type": "execute_result"
    }
   ],
   "source": []
  },
  {
   "cell_type": "markdown",
   "metadata": {},
   "source": [
    "## -all"
   ]
  },
  {
   "cell_type": "code",
   "execution_count": 82,
   "metadata": {},
   "outputs": [
    {
     "name": "stdout",
     "output_type": "stream",
     "text": [
      "AutoML progress: |\n",
      "11:14:16.786: Project: AutoML_20210219_111416784\n",
      "11:14:16.787: Setting stopping tolerance adaptively based on the training frame: 0.006296909605425953\n",
      "11:14:16.787: Build control seed: 1\n",
      "11:14:16.787: training frame: Frame key: automl_training_py_2_sid_999e    cols: 82    rows: 25220  chunks: 14    size: 16446068  checksum: 2673810440025744213\n",
      "11:14:16.787: validation frame: NULL\n",
      "11:14:16.788: leaderboard frame: NULL\n",
      "11:14:16.788: blending frame: NULL\n",
      "11:14:16.788: response column: pH\n",
      "11:14:16.788: fold column: null\n",
      "11:14:16.788: weights column: null\n",
      "11:14:16.805: Loading execution steps: [{XGBoost : defaults}, {GLM : defaults}, {DRF : [def_1]}, {GBM : defaults}, {DeepLearning : defaults}, {DRF : [XRT]}, {XGBoost : grids}, {GBM : grids}, {DeepLearning : grids}, {GBM : [lr_annealing]}, {XGBoost : [lr_search]}, {StackedEnsemble : defaults}]\n",
      "11:14:16.815: AutoML job created: 2021.02.19 11:14:16.784\n",
      "11:14:16.816: AutoML build started: 2021.02.19 11:14:16.816\n",
      "11:14:16.824: AutoML: starting XGBoost_1_AutoML_20210219_111416 model training\n",
      "\n",
      "███\n",
      "11:14:38.913: New leader: XGBoost_1_AutoML_20210219_111416, mean_residual_deviance: 0.07025519390980034\n",
      "11:14:38.914: AutoML: starting XGBoost_2_AutoML_20210219_111416 model training\n",
      "\n",
      "█\n",
      "11:15:09.2: AutoML: starting XGBoost_3_AutoML_20210219_111416 model training\n",
      "\n",
      "██\n",
      "11:15:29.52: New leader: XGBoost_3_AutoML_20210219_111416, mean_residual_deviance: 0.06746237795506393\n",
      "11:15:29.54: AutoML: starting GLM_1_AutoML_20210219_111416 model training\n",
      "11:15:31.62: AutoML: starting DRF_1_AutoML_20210219_111416 model training\n",
      "\n",
      "███\n",
      "11:16:36.222: New leader: DRF_1_AutoML_20210219_111416, mean_residual_deviance: 0.05798837631986934\n",
      "11:16:36.223: AutoML: starting GBM_1_AutoML_20210219_111416 model training\n",
      "\n",
      "█\n",
      "11:16:51.258: AutoML: starting GBM_2_AutoML_20210219_111416 model training\n",
      "\n",
      "██\n",
      "11:17:06.282: AutoML: starting GBM_3_AutoML_20210219_111416 model training\n",
      "\n",
      "█\n",
      "11:17:22.321: New leader: GBM_3_AutoML_20210219_111416, mean_residual_deviance: 0.05732923305115081\n",
      "11:17:22.321: AutoML: starting GBM_4_AutoML_20210219_111416 model training\n",
      "\n",
      "██\n",
      "11:17:40.345: New leader: GBM_4_AutoML_20210219_111416, mean_residual_deviance: 0.05686672189163932\n",
      "11:17:40.346: AutoML: starting GBM_5_AutoML_20210219_111416 model training\n",
      "\n",
      "█\n",
      "11:17:59.375: AutoML: starting DeepLearning_1_AutoML_20210219_111416 model training\n",
      "\n",
      "█\n",
      "11:18:03.387: AutoML: starting XRT_1_AutoML_20210219_111416 model training\n",
      "\n",
      "███\n",
      "11:19:18.641: AutoML: starting XGBoost_grid__1_AutoML_20210219_111416 hyperparameter search\n",
      "\n",
      "█████████████\n",
      "11:20:57.919: AutoML: starting GBM_grid__1_AutoML_20210219_111416 hyperparameter search\n",
      "\n",
      "██████████\n",
      "11:21:17.953: New leader: GBM_grid__1_AutoML_20210219_111416_model_2, mean_residual_deviance: 0.05684167312004864\n",
      "11:21:17.954: AutoML: starting DeepLearning_grid__1_AutoML_20210219_111416 hyperparameter search\n",
      "\n",
      "█████████\n",
      "11:24:24.362: AutoML: starting DeepLearning_grid__2_AutoML_20210219_111416 hyperparameter search\n",
      "\n",
      "██\n",
      "11:26:27.712: AutoML: starting StackedEnsemble_BestOfFamily_AutoML_20210219_111416 model training\n",
      "11:26:28.721: AutoML: starting StackedEnsemble_AllModels_AutoML_20210219_111416 model training\n",
      "11:26:29.727: No base models, due to timeouts or the exclude_algos option. Skipping StackedEnsemble 'monotonic'.\n",
      "11:26:29.728: Actual modeling steps: [{XGBoost : [def_1 (10), def_2 (10), def_3 (10)]}, {GLM : [def_1 (10)]}, {DRF : [def_1 (10)]}, {GBM : [def_1 (10), def_2 (10), def_3 (10), def_4 (10), def_5 (10)]}, {DeepLearning : [def_1 (10)]}, {DRF : [XRT (10)]}, {XGBoost : [grid_1 (100)]}, {GBM : [grid_1 (60)]}, {DeepLearning : [grid_1 (20), grid_2 (20)]}, {StackedEnsemble : [best (10), all (10)]}]\n",
      "11:26:29.728: AutoML build stopped: 2021.02.19 11:26:29.728\n",
      "11:26:29.728: AutoML build done: built 22 models\n",
      "11:26:29.728: AutoML duration: 12 min 12.912 sec\n",
      "\n",
      "██| 100%\n"
     ]
    }
   ],
   "source": [
    "x = data.columns\n",
    "y = \"pH\"\n",
    "x.remove(y)\n",
    "\n",
    "\n",
    "# Run AutoML for 20 base models (limited to 1 hour max runtime by default)\n",
    "aml = H2OAutoML(max_models=20, seed=1, verbosity='info',nfolds=3,max_runtime_secs=3600)\n",
    "\n",
    "aml.train(x=x, y=y, training_frame=train)"
   ]
  },
  {
   "cell_type": "code",
   "execution_count": 83,
   "metadata": {},
   "outputs": [
    {
     "data": {
      "text/html": [
       "<table>\n",
       "<thead>\n",
       "<tr><th>model_id                                           </th><th style=\"text-align: right;\">  mean_residual_deviance</th><th style=\"text-align: right;\">    rmse</th><th style=\"text-align: right;\">      mse</th><th style=\"text-align: right;\">     mae</th><th style=\"text-align: right;\">    rmsle</th></tr>\n",
       "</thead>\n",
       "<tbody>\n",
       "<tr><td>GBM_grid__1_AutoML_20210219_111416_model_2         </td><td style=\"text-align: right;\">               0.0568417</td><td style=\"text-align: right;\">0.238415</td><td style=\"text-align: right;\">0.0568417</td><td style=\"text-align: right;\">0.183493</td><td style=\"text-align: right;\">0.0308136</td></tr>\n",
       "<tr><td>GBM_4_AutoML_20210219_111416                       </td><td style=\"text-align: right;\">               0.0568667</td><td style=\"text-align: right;\">0.238467</td><td style=\"text-align: right;\">0.0568667</td><td style=\"text-align: right;\">0.182796</td><td style=\"text-align: right;\">0.0308189</td></tr>\n",
       "<tr><td>GBM_3_AutoML_20210219_111416                       </td><td style=\"text-align: right;\">               0.0573292</td><td style=\"text-align: right;\">0.239435</td><td style=\"text-align: right;\">0.0573292</td><td style=\"text-align: right;\">0.185294</td><td style=\"text-align: right;\">0.0309432</td></tr>\n",
       "<tr><td>DRF_1_AutoML_20210219_111416                       </td><td style=\"text-align: right;\">               0.0579884</td><td style=\"text-align: right;\">0.240808</td><td style=\"text-align: right;\">0.0579884</td><td style=\"text-align: right;\">0.18913 </td><td style=\"text-align: right;\">0.0311325</td></tr>\n",
       "<tr><td>XRT_1_AutoML_20210219_111416                       </td><td style=\"text-align: right;\">               0.0581207</td><td style=\"text-align: right;\">0.241082</td><td style=\"text-align: right;\">0.0581207</td><td style=\"text-align: right;\">0.189384</td><td style=\"text-align: right;\">0.0311659</td></tr>\n",
       "<tr><td>GBM_5_AutoML_20210219_111416                       </td><td style=\"text-align: right;\">               0.058225 </td><td style=\"text-align: right;\">0.241299</td><td style=\"text-align: right;\">0.058225 </td><td style=\"text-align: right;\">0.187896</td><td style=\"text-align: right;\">0.0311813</td></tr>\n",
       "<tr><td>GBM_2_AutoML_20210219_111416                       </td><td style=\"text-align: right;\">               0.0582475</td><td style=\"text-align: right;\">0.241345</td><td style=\"text-align: right;\">0.0582475</td><td style=\"text-align: right;\">0.188237</td><td style=\"text-align: right;\">0.0311898</td></tr>\n",
       "<tr><td>DeepLearning_1_AutoML_20210219_111416              </td><td style=\"text-align: right;\">               0.058251 </td><td style=\"text-align: right;\">0.241352</td><td style=\"text-align: right;\">0.058251 </td><td style=\"text-align: right;\">0.186842</td><td style=\"text-align: right;\">0.0312066</td></tr>\n",
       "<tr><td>GBM_1_AutoML_20210219_111416                       </td><td style=\"text-align: right;\">               0.0596039</td><td style=\"text-align: right;\">0.244139</td><td style=\"text-align: right;\">0.0596039</td><td style=\"text-align: right;\">0.191021</td><td style=\"text-align: right;\">0.0315387</td></tr>\n",
       "<tr><td>GBM_grid__1_AutoML_20210219_111416_model_1         </td><td style=\"text-align: right;\">               0.0617817</td><td style=\"text-align: right;\">0.248559</td><td style=\"text-align: right;\">0.0617817</td><td style=\"text-align: right;\">0.195804</td><td style=\"text-align: right;\">0.0321118</td></tr>\n",
       "<tr><td>XGBoost_grid__1_AutoML_20210219_111416_model_4     </td><td style=\"text-align: right;\">               0.0654979</td><td style=\"text-align: right;\">0.255926</td><td style=\"text-align: right;\">0.0654979</td><td style=\"text-align: right;\">0.200311</td><td style=\"text-align: right;\">0.0330505</td></tr>\n",
       "<tr><td>XGBoost_3_AutoML_20210219_111416                   </td><td style=\"text-align: right;\">               0.0674624</td><td style=\"text-align: right;\">0.259735</td><td style=\"text-align: right;\">0.0674624</td><td style=\"text-align: right;\">0.204236</td><td style=\"text-align: right;\">0.0335533</td></tr>\n",
       "<tr><td>XGBoost_grid__1_AutoML_20210219_111416_model_3     </td><td style=\"text-align: right;\">               0.0677273</td><td style=\"text-align: right;\">0.260245</td><td style=\"text-align: right;\">0.0677273</td><td style=\"text-align: right;\">0.2027  </td><td style=\"text-align: right;\">0.0336184</td></tr>\n",
       "<tr><td>DeepLearning_grid__1_AutoML_20210219_111416_model_1</td><td style=\"text-align: right;\">               0.0690576</td><td style=\"text-align: right;\">0.262788</td><td style=\"text-align: right;\">0.0690576</td><td style=\"text-align: right;\">0.211022</td><td style=\"text-align: right;\">0.0339073</td></tr>\n",
       "<tr><td>XGBoost_1_AutoML_20210219_111416                   </td><td style=\"text-align: right;\">               0.0702552</td><td style=\"text-align: right;\">0.265057</td><td style=\"text-align: right;\">0.0702552</td><td style=\"text-align: right;\">0.202859</td><td style=\"text-align: right;\">0.034242 </td></tr>\n",
       "<tr><td>XGBoost_grid__1_AutoML_20210219_111416_model_1     </td><td style=\"text-align: right;\">               0.0705043</td><td style=\"text-align: right;\">0.265527</td><td style=\"text-align: right;\">0.0705043</td><td style=\"text-align: right;\">0.208592</td><td style=\"text-align: right;\">0.0342941</td></tr>\n",
       "<tr><td>XGBoost_2_AutoML_20210219_111416                   </td><td style=\"text-align: right;\">               0.0712284</td><td style=\"text-align: right;\">0.266887</td><td style=\"text-align: right;\">0.0712284</td><td style=\"text-align: right;\">0.202581</td><td style=\"text-align: right;\">0.0344815</td></tr>\n",
       "<tr><td>StackedEnsemble_BestOfFamily_AutoML_20210219_111416</td><td style=\"text-align: right;\">               0.0735726</td><td style=\"text-align: right;\">0.271243</td><td style=\"text-align: right;\">0.0735726</td><td style=\"text-align: right;\">0.226383</td><td style=\"text-align: right;\">0.0350243</td></tr>\n",
       "<tr><td>StackedEnsemble_AllModels_AutoML_20210219_111416   </td><td style=\"text-align: right;\">               0.0735842</td><td style=\"text-align: right;\">0.271264</td><td style=\"text-align: right;\">0.0735842</td><td style=\"text-align: right;\">0.226407</td><td style=\"text-align: right;\">0.0350268</td></tr>\n",
       "<tr><td>DeepLearning_grid__2_AutoML_20210219_111416_model_1</td><td style=\"text-align: right;\">               0.074627 </td><td style=\"text-align: right;\">0.273179</td><td style=\"text-align: right;\">0.074627 </td><td style=\"text-align: right;\">0.222109</td><td style=\"text-align: right;\">0.0351986</td></tr>\n",
       "<tr><td>XGBoost_grid__1_AutoML_20210219_111416_model_2     </td><td style=\"text-align: right;\">               0.0751132</td><td style=\"text-align: right;\">0.274068</td><td style=\"text-align: right;\">0.0751132</td><td style=\"text-align: right;\">0.207011</td><td style=\"text-align: right;\">0.0354153</td></tr>\n",
       "<tr><td>GLM_1_AutoML_20210219_111416                       </td><td style=\"text-align: right;\">               0.0863838</td><td style=\"text-align: right;\">0.293911</td><td style=\"text-align: right;\">0.0863838</td><td style=\"text-align: right;\">0.243932</td><td style=\"text-align: right;\">0.0378689</td></tr>\n",
       "</tbody>\n",
       "</table>"
      ]
     },
     "metadata": {},
     "output_type": "display_data"
    },
    {
     "data": {
      "text/plain": []
     },
     "execution_count": 83,
     "metadata": {},
     "output_type": "execute_result"
    }
   ],
   "source": [
    "# View the AutoML Leaderboard\n",
    "lb = aml.leaderboard\n",
    "lb.head(rows=lb.nrows)  # Print all rows instead of default (10 rows)"
   ]
  },
  {
   "cell_type": "markdown",
   "metadata": {},
   "source": [
    "## autoML with selected freqs "
   ]
  },
  {
   "cell_type": "code",
   "execution_count": 84,
   "metadata": {},
   "outputs": [
    {
     "name": "stdout",
     "output_type": "stream",
     "text": [
      "AutoML progress: |\n",
      "11:26:30.836: Project: AutoML_20210219_112630836\n",
      "11:26:30.836: Setting stopping tolerance adaptively based on the training frame: 0.006296909605425953\n",
      "11:26:30.836: Build control seed: 1\n",
      "11:26:30.836: training frame: Frame key: automl_training_py_2_sid_999e    cols: 82    rows: 25220  chunks: 14    size: 16446068  checksum: 2673810440025744213\n",
      "11:26:30.836: validation frame: NULL\n",
      "11:26:30.836: leaderboard frame: NULL\n",
      "11:26:30.836: blending frame: NULL\n",
      "11:26:30.836: response column: pH\n",
      "11:26:30.836: fold column: null\n",
      "11:26:30.837: weights column: null\n",
      "11:26:30.837: Loading execution steps: [{XGBoost : defaults}, {GLM : defaults}, {DRF : [def_1]}, {GBM : defaults}, {DeepLearning : defaults}, {DRF : [XRT]}, {XGBoost : grids}, {GBM : grids}, {DeepLearning : grids}, {GBM : [lr_annealing]}, {XGBoost : [lr_search]}, {StackedEnsemble : defaults}]\n",
      "11:26:30.837: AutoML job created: 2021.02.19 11:26:30.836\n",
      "11:26:30.837: AutoML build started: 2021.02.19 11:26:30.837\n",
      "11:26:30.838: AutoML: starting XGBoost_1_AutoML_20210219_112630 model training\n",
      "\n",
      "██\n",
      "11:26:38.857: New leader: XGBoost_1_AutoML_20210219_112630, mean_residual_deviance: 0.07151186850229292\n",
      "11:26:38.858: AutoML: starting XGBoost_2_AutoML_20210219_112630 model training\n",
      "\n",
      "██\n",
      "11:26:49.892: AutoML: starting XGBoost_3_AutoML_20210219_112630 model training\n",
      "\n",
      "█\n",
      "11:26:57.914: New leader: XGBoost_3_AutoML_20210219_112630, mean_residual_deviance: 0.0682508284095559\n",
      "11:26:57.914: AutoML: starting GLM_1_AutoML_20210219_112630 model training\n",
      "11:26:58.921: AutoML: starting DRF_1_AutoML_20210219_112630 model training\n",
      "\n",
      "████\n",
      "11:27:20.964: New leader: DRF_1_AutoML_20210219_112630, mean_residual_deviance: 0.05972569972202381\n",
      "11:27:20.964: AutoML: starting GBM_1_AutoML_20210219_112630 model training\n",
      "\n",
      "\n",
      "11:27:25.974: AutoML: starting GBM_2_AutoML_20210219_112630 model training\n",
      "\n",
      "██\n",
      "11:27:31.985: AutoML: starting GBM_3_AutoML_20210219_112630 model training\n",
      "\n",
      "█\n",
      "11:27:36.994: AutoML: starting GBM_4_AutoML_20210219_112630 model training\n",
      "\n",
      "█\n",
      "11:27:42.2: AutoML: starting GBM_5_AutoML_20210219_112630 model training\n",
      "\n",
      "██\n",
      "11:27:49.11: AutoML: starting DeepLearning_1_AutoML_20210219_112630 model training\n",
      "\n",
      "█\n",
      "11:27:52.26: AutoML: starting XRT_1_AutoML_20210219_112630 model training\n",
      "\n",
      "████\n",
      "11:28:17.70: AutoML: starting XGBoost_grid__1_AutoML_20210219_112630 hyperparameter search\n",
      "\n",
      "██████████\n",
      "11:28:51.225: AutoML: starting GBM_grid__1_AutoML_20210219_112630 hyperparameter search\n",
      "\n",
      "████████\n",
      "11:28:59.254: New leader: GBM_grid__1_AutoML_20210219_112630_model_2, mean_residual_deviance: 0.059396010829141116\n",
      "11:28:59.254: AutoML: starting DeepLearning_grid__1_AutoML_20210219_112630 hyperparameter search\n",
      "\n",
      "██████████████\n",
      "11:32:05.15: AutoML: starting DeepLearning_grid__2_AutoML_20210219_112630 hyperparameter search\n",
      "\n",
      "██\n",
      "11:35:30.757: AutoML: starting StackedEnsemble_BestOfFamily_AutoML_20210219_112630 model training\n",
      "11:35:31.770: AutoML: starting StackedEnsemble_AllModels_AutoML_20210219_112630 model training\n",
      "11:35:32.780: No base models, due to timeouts or the exclude_algos option. Skipping StackedEnsemble 'monotonic'.\n",
      "11:35:32.780: Actual modeling steps: [{XGBoost : [def_1 (10), def_2 (10), def_3 (10)]}, {GLM : [def_1 (10)]}, {DRF : [def_1 (10)]}, {GBM : [def_1 (10), def_2 (10), def_3 (10), def_4 (10), def_5 (10)]}, {DeepLearning : [def_1 (10)]}, {DRF : [XRT (10)]}, {XGBoost : [grid_1 (100)]}, {GBM : [grid_1 (60)]}, {DeepLearning : [grid_1 (20), grid_2 (20)]}, {StackedEnsemble : [best (10), all (10)]}]\n",
      "11:35:32.780: AutoML build stopped: 2021.02.19 11:35:32.780\n",
      "11:35:32.780: AutoML build done: built 22 models\n",
      "11:35:32.780: AutoML duration:  9 min  1.943 sec\n",
      "\n",
      "██| 100%\n"
     ]
    }
   ],
   "source": [
    "col_list_sel_freqs\n",
    "\n",
    "# Run AutoML for 20 base models (limited to 1 hour max runtime by default)\n",
    "aml2 = H2OAutoML(max_models=20, seed=1, verbosity='info',nfolds=3,max_runtime_secs=3600)\n",
    "\n",
    "aml2.train(x = col_list_sel_freqs, y=y, training_frame=train)\n"
   ]
  },
  {
   "cell_type": "code",
   "execution_count": 85,
   "metadata": {},
   "outputs": [
    {
     "data": {
      "text/html": [
       "<table>\n",
       "<thead>\n",
       "<tr><th>model_id                                           </th><th style=\"text-align: right;\">  mean_residual_deviance</th><th style=\"text-align: right;\">    rmse</th><th style=\"text-align: right;\">      mse</th><th style=\"text-align: right;\">     mae</th><th style=\"text-align: right;\">    rmsle</th></tr>\n",
       "</thead>\n",
       "<tbody>\n",
       "<tr><td>GBM_grid__1_AutoML_20210219_112630_model_2         </td><td style=\"text-align: right;\">               0.059396 </td><td style=\"text-align: right;\">0.243713</td><td style=\"text-align: right;\">0.059396 </td><td style=\"text-align: right;\">0.188304</td><td style=\"text-align: right;\">0.0314943</td></tr>\n",
       "<tr><td>DRF_1_AutoML_20210219_112630                       </td><td style=\"text-align: right;\">               0.0597257</td><td style=\"text-align: right;\">0.244388</td><td style=\"text-align: right;\">0.0597257</td><td style=\"text-align: right;\">0.192405</td><td style=\"text-align: right;\">0.0315877</td></tr>\n",
       "<tr><td>XRT_1_AutoML_20210219_112630                       </td><td style=\"text-align: right;\">               0.0600502</td><td style=\"text-align: right;\">0.245051</td><td style=\"text-align: right;\">0.0600502</td><td style=\"text-align: right;\">0.192771</td><td style=\"text-align: right;\">0.0316734</td></tr>\n",
       "<tr><td>GBM_4_AutoML_20210219_112630                       </td><td style=\"text-align: right;\">               0.0606314</td><td style=\"text-align: right;\">0.246234</td><td style=\"text-align: right;\">0.0606314</td><td style=\"text-align: right;\">0.190948</td><td style=\"text-align: right;\">0.0318165</td></tr>\n",
       "<tr><td>GBM_2_AutoML_20210219_112630                       </td><td style=\"text-align: right;\">               0.06071  </td><td style=\"text-align: right;\">0.246394</td><td style=\"text-align: right;\">0.06071  </td><td style=\"text-align: right;\">0.192297</td><td style=\"text-align: right;\">0.0318313</td></tr>\n",
       "<tr><td>GBM_5_AutoML_20210219_112630                       </td><td style=\"text-align: right;\">               0.0610655</td><td style=\"text-align: right;\">0.247114</td><td style=\"text-align: right;\">0.0610655</td><td style=\"text-align: right;\">0.193423</td><td style=\"text-align: right;\">0.0319298</td></tr>\n",
       "<tr><td>GBM_3_AutoML_20210219_112630                       </td><td style=\"text-align: right;\">               0.0613221</td><td style=\"text-align: right;\">0.247633</td><td style=\"text-align: right;\">0.0613221</td><td style=\"text-align: right;\">0.193428</td><td style=\"text-align: right;\">0.0319928</td></tr>\n",
       "<tr><td>GBM_1_AutoML_20210219_112630                       </td><td style=\"text-align: right;\">               0.0622096</td><td style=\"text-align: right;\">0.249419</td><td style=\"text-align: right;\">0.0622096</td><td style=\"text-align: right;\">0.196354</td><td style=\"text-align: right;\">0.0322188</td></tr>\n",
       "<tr><td>DeepLearning_1_AutoML_20210219_112630              </td><td style=\"text-align: right;\">               0.0622643</td><td style=\"text-align: right;\">0.249528</td><td style=\"text-align: right;\">0.0622643</td><td style=\"text-align: right;\">0.194979</td><td style=\"text-align: right;\">0.03222  </td></tr>\n",
       "<tr><td>GBM_grid__1_AutoML_20210219_112630_model_1         </td><td style=\"text-align: right;\">               0.0643382</td><td style=\"text-align: right;\">0.25365 </td><td style=\"text-align: right;\">0.0643382</td><td style=\"text-align: right;\">0.200785</td><td style=\"text-align: right;\">0.032762 </td></tr>\n",
       "<tr><td>XGBoost_grid__1_AutoML_20210219_112630_model_4     </td><td style=\"text-align: right;\">               0.0670445</td><td style=\"text-align: right;\">0.25893 </td><td style=\"text-align: right;\">0.0670445</td><td style=\"text-align: right;\">0.20384 </td><td style=\"text-align: right;\">0.0334437</td></tr>\n",
       "<tr><td>XGBoost_3_AutoML_20210219_112630                   </td><td style=\"text-align: right;\">               0.0682508</td><td style=\"text-align: right;\">0.261249</td><td style=\"text-align: right;\">0.0682508</td><td style=\"text-align: right;\">0.205195</td><td style=\"text-align: right;\">0.0337384</td></tr>\n",
       "<tr><td>XGBoost_grid__1_AutoML_20210219_112630_model_3     </td><td style=\"text-align: right;\">               0.0695543</td><td style=\"text-align: right;\">0.263731</td><td style=\"text-align: right;\">0.0695543</td><td style=\"text-align: right;\">0.208944</td><td style=\"text-align: right;\">0.0340581</td></tr>\n",
       "<tr><td>DeepLearning_grid__1_AutoML_20210219_112630_model_1</td><td style=\"text-align: right;\">               0.0699433</td><td style=\"text-align: right;\">0.264468</td><td style=\"text-align: right;\">0.0699433</td><td style=\"text-align: right;\">0.213919</td><td style=\"text-align: right;\">0.0341596</td></tr>\n",
       "<tr><td>XGBoost_grid__1_AutoML_20210219_112630_model_1     </td><td style=\"text-align: right;\">               0.0706389</td><td style=\"text-align: right;\">0.26578 </td><td style=\"text-align: right;\">0.0706389</td><td style=\"text-align: right;\">0.210336</td><td style=\"text-align: right;\">0.034319 </td></tr>\n",
       "<tr><td>XGBoost_1_AutoML_20210219_112630                   </td><td style=\"text-align: right;\">               0.0715119</td><td style=\"text-align: right;\">0.267417</td><td style=\"text-align: right;\">0.0715119</td><td style=\"text-align: right;\">0.20391 </td><td style=\"text-align: right;\">0.0345492</td></tr>\n",
       "<tr><td>XGBoost_2_AutoML_20210219_112630                   </td><td style=\"text-align: right;\">               0.0734137</td><td style=\"text-align: right;\">0.27095 </td><td style=\"text-align: right;\">0.0734137</td><td style=\"text-align: right;\">0.20573 </td><td style=\"text-align: right;\">0.0350115</td></tr>\n",
       "<tr><td>DeepLearning_grid__2_AutoML_20210219_112630_model_1</td><td style=\"text-align: right;\">               0.0737368</td><td style=\"text-align: right;\">0.271545</td><td style=\"text-align: right;\">0.0737368</td><td style=\"text-align: right;\">0.221805</td><td style=\"text-align: right;\">0.0350536</td></tr>\n",
       "<tr><td>StackedEnsemble_AllModels_AutoML_20210219_112630   </td><td style=\"text-align: right;\">               0.0746851</td><td style=\"text-align: right;\">0.273286</td><td style=\"text-align: right;\">0.0746851</td><td style=\"text-align: right;\">0.228255</td><td style=\"text-align: right;\">0.0352848</td></tr>\n",
       "<tr><td>StackedEnsemble_BestOfFamily_AutoML_20210219_112630</td><td style=\"text-align: right;\">               0.0746851</td><td style=\"text-align: right;\">0.273286</td><td style=\"text-align: right;\">0.0746851</td><td style=\"text-align: right;\">0.228255</td><td style=\"text-align: right;\">0.0352848</td></tr>\n",
       "<tr><td>XGBoost_grid__1_AutoML_20210219_112630_model_2     </td><td style=\"text-align: right;\">               0.0777855</td><td style=\"text-align: right;\">0.278901</td><td style=\"text-align: right;\">0.0777855</td><td style=\"text-align: right;\">0.210817</td><td style=\"text-align: right;\">0.0360274</td></tr>\n",
       "<tr><td>GLM_1_AutoML_20210219_112630                       </td><td style=\"text-align: right;\">               0.0874984</td><td style=\"text-align: right;\">0.295801</td><td style=\"text-align: right;\">0.0874984</td><td style=\"text-align: right;\">0.245909</td><td style=\"text-align: right;\">0.0381006</td></tr>\n",
       "</tbody>\n",
       "</table>"
      ]
     },
     "metadata": {},
     "output_type": "display_data"
    },
    {
     "data": {
      "text/plain": []
     },
     "execution_count": 85,
     "metadata": {},
     "output_type": "execute_result"
    }
   ],
   "source": [
    "# View the AutoML Leaderboard\n",
    "lb = aml2.leaderboard\n",
    "lb.head(rows=lb.nrows)  # Print all rows instead of default (10 rows)"
   ]
  },
  {
   "cell_type": "markdown",
   "metadata": {},
   "source": [
    "## selected freqs and exp data"
   ]
  },
  {
   "cell_type": "code",
   "execution_count": 91,
   "metadata": {},
   "outputs": [
    {
     "name": "stdout",
     "output_type": "stream",
     "text": [
      "Parse progress: |█████████████████████████████████████████████████████████| 100%\n",
      "AutoML progress: |\n",
      "11:49:07.551: Project: AutoML_20210219_114907551\n",
      "11:49:07.551: Setting stopping tolerance adaptively based on the training frame: 0.006294538992335746\n",
      "11:49:07.551: Build control seed: 1\n",
      "11:49:07.551: training frame: Frame key: automl_training_py_533_sid_999e    cols: 87    rows: 25239  chunks: 14    size: 16722969  checksum: -4628074696379396896\n",
      "11:49:07.551: validation frame: NULL\n",
      "11:49:07.551: leaderboard frame: NULL\n",
      "11:49:07.551: blending frame: NULL\n",
      "11:49:07.551: response column: pH\n",
      "11:49:07.551: fold column: null\n",
      "11:49:07.551: weights column: null\n",
      "11:49:07.552: Loading execution steps: [{XGBoost : defaults}, {GLM : defaults}, {DRF : [def_1]}, {GBM : defaults}, {DeepLearning : defaults}, {DRF : [XRT]}, {XGBoost : grids}, {GBM : grids}, {DeepLearning : grids}, {GBM : [lr_annealing]}, {XGBoost : [lr_search]}, {StackedEnsemble : defaults}]\n",
      "11:49:07.552: AutoML job created: 2021.02.19 11:49:07.551\n",
      "11:49:07.552: AutoML build started: 2021.02.19 11:49:07.552\n",
      "11:49:07.552: AutoML: starting XGBoost_1_AutoML_20210219_114907 model training\n",
      "\n",
      "███\n",
      "11:49:52.668: New leader: XGBoost_1_AutoML_20210219_114907, mean_residual_deviance: 0.01926916995708941\n",
      "11:49:52.669: AutoML: starting XGBoost_2_AutoML_20210219_114907 model training\n",
      "\n",
      "███\n",
      "11:50:36.794: New leader: XGBoost_2_AutoML_20210219_114907, mean_residual_deviance: 0.016493396146719297\n",
      "11:50:36.794: AutoML: starting XGBoost_3_AutoML_20210219_114907 model training\n",
      "\n",
      "██████\n",
      "11:51:55.996: AutoML: starting GLM_1_AutoML_20210219_114907 model training\n",
      "11:51:57.998: AutoML: starting DRF_1_AutoML_20210219_114907 model training\n",
      "\n",
      "███\n",
      "11:52:35.88: AutoML: starting GBM_1_AutoML_20210219_114907 model training\n",
      "\n",
      "█\n",
      "11:53:17.182: New leader: GBM_1_AutoML_20210219_114907, mean_residual_deviance: 0.011019477066949508\n",
      "11:53:17.182: AutoML: starting GBM_2_AutoML_20210219_114907 model training\n",
      "\n",
      "██\n",
      "11:54:01.245: New leader: GBM_2_AutoML_20210219_114907, mean_residual_deviance: 0.009489775919705047\n",
      "11:54:01.245: AutoML: starting GBM_3_AutoML_20210219_114907 model training\n",
      "\n",
      "█\n",
      "11:54:41.306: AutoML: starting GBM_4_AutoML_20210219_114907 model training\n",
      "\n",
      "█\n",
      "11:55:23.378: New leader: GBM_4_AutoML_20210219_114907, mean_residual_deviance: 0.00881658637850335\n",
      "11:55:23.378: AutoML: starting GBM_5_AutoML_20210219_114907 model training\n",
      "\n",
      "██\n",
      "11:56:09.437: AutoML: starting DeepLearning_1_AutoML_20210219_114907 model training\n",
      "\n",
      "\n",
      "11:56:13.459: AutoML: starting XRT_1_AutoML_20210219_114907 model training\n",
      "\n",
      "███\n",
      "11:57:12.659: AutoML: starting XGBoost_grid__1_AutoML_20210219_114907 hyperparameter search\n",
      "\n",
      "█████████████████\n",
      "12:01:40.255: AutoML: starting GBM_grid__1_AutoML_20210219_114907 hyperparameter search\n",
      "\n",
      "██████\n",
      "12:02:30.394: AutoML: starting DeepLearning_grid__1_AutoML_20210219_114907 hyperparameter search\n",
      "\n",
      "█████\n",
      "12:04:58.5: AutoML: starting DeepLearning_grid__2_AutoML_20210219_114907 hyperparameter search\n",
      "\n",
      "█\n",
      "12:07:35.588: AutoML: starting StackedEnsemble_BestOfFamily_AutoML_20210219_114907 model training\n",
      "12:07:36.598: AutoML: starting StackedEnsemble_AllModels_AutoML_20210219_114907 model training\n",
      "\n",
      "██| 100%\n",
      "\n",
      "12:07:37.611: No base models, due to timeouts or the exclude_algos option. Skipping StackedEnsemble 'monotonic'.\n",
      "12:07:37.611: Actual modeling steps: [{XGBoost : [def_1 (10), def_2 (10), def_3 (10)]}, {GLM : [def_1 (10)]}, {DRF : [def_1 (10)]}, {GBM : [def_1 (10), def_2 (10), def_3 (10), def_4 (10), def_5 (10)]}, {DeepLearning : [def_1 (10)]}, {DRF : [XRT (10)]}, {XGBoost : [grid_1 (100)]}, {GBM : [grid_1 (60)]}, {DeepLearning : [grid_1 (20), grid_2 (20)]}, {StackedEnsemble : [best (10), all (10)]}]\n",
      "12:07:37.611: AutoML build stopped: 2021.02.19 12:07:37.611\n",
      "12:07:37.611: AutoML build done: built 22 models\n",
      "12:07:37.611: AutoML duration: 18 min 30.059 sec\n",
      "\n"
     ]
    }
   ],
   "source": [
    "\n",
    "data = h2o.H2OFrame(pd.concat( (acidoCEST_ML[['ExpT1(ms)', 'ExpT2(ms)','ExpB0(ppm)','SatPower(uT)', 'SatTime(ms)','pH']]\n",
    "                                , Z),axis=1))\n",
    "\n",
    "x = data.columns\n",
    "y = \"pH\"\n",
    "x.remove(y)\n",
    "\n",
    "\n",
    "# Run AutoML for 20 base models (limited to 1 hour max runtime by default)\n",
    "aml = H2OAutoML(max_models=20, seed=1, verbosity='info',nfolds=3,max_runtime_secs=3600)\n",
    "\n",
    "train, test, val = data.split_frame( ratios = [.7, .25] )\n",
    "\n",
    "aml.train(x=x, y=y, training_frame=train)"
   ]
  },
  {
   "cell_type": "code",
   "execution_count": 92,
   "metadata": {},
   "outputs": [
    {
     "data": {
      "text/html": [
       "<table>\n",
       "<thead>\n",
       "<tr><th>model_id                                           </th><th style=\"text-align: right;\">  mean_residual_deviance</th><th style=\"text-align: right;\">    rmse</th><th style=\"text-align: right;\">      mse</th><th style=\"text-align: right;\">     mae</th><th style=\"text-align: right;\">    rmsle</th></tr>\n",
       "</thead>\n",
       "<tbody>\n",
       "<tr><td>GBM_grid__1_AutoML_20210219_112630_model_2         </td><td style=\"text-align: right;\">               0.059396 </td><td style=\"text-align: right;\">0.243713</td><td style=\"text-align: right;\">0.059396 </td><td style=\"text-align: right;\">0.188304</td><td style=\"text-align: right;\">0.0314943</td></tr>\n",
       "<tr><td>DRF_1_AutoML_20210219_112630                       </td><td style=\"text-align: right;\">               0.0597257</td><td style=\"text-align: right;\">0.244388</td><td style=\"text-align: right;\">0.0597257</td><td style=\"text-align: right;\">0.192405</td><td style=\"text-align: right;\">0.0315877</td></tr>\n",
       "<tr><td>XRT_1_AutoML_20210219_112630                       </td><td style=\"text-align: right;\">               0.0600502</td><td style=\"text-align: right;\">0.245051</td><td style=\"text-align: right;\">0.0600502</td><td style=\"text-align: right;\">0.192771</td><td style=\"text-align: right;\">0.0316734</td></tr>\n",
       "<tr><td>GBM_4_AutoML_20210219_112630                       </td><td style=\"text-align: right;\">               0.0606314</td><td style=\"text-align: right;\">0.246234</td><td style=\"text-align: right;\">0.0606314</td><td style=\"text-align: right;\">0.190948</td><td style=\"text-align: right;\">0.0318165</td></tr>\n",
       "<tr><td>GBM_2_AutoML_20210219_112630                       </td><td style=\"text-align: right;\">               0.06071  </td><td style=\"text-align: right;\">0.246394</td><td style=\"text-align: right;\">0.06071  </td><td style=\"text-align: right;\">0.192297</td><td style=\"text-align: right;\">0.0318313</td></tr>\n",
       "<tr><td>GBM_5_AutoML_20210219_112630                       </td><td style=\"text-align: right;\">               0.0610655</td><td style=\"text-align: right;\">0.247114</td><td style=\"text-align: right;\">0.0610655</td><td style=\"text-align: right;\">0.193423</td><td style=\"text-align: right;\">0.0319298</td></tr>\n",
       "<tr><td>GBM_3_AutoML_20210219_112630                       </td><td style=\"text-align: right;\">               0.0613221</td><td style=\"text-align: right;\">0.247633</td><td style=\"text-align: right;\">0.0613221</td><td style=\"text-align: right;\">0.193428</td><td style=\"text-align: right;\">0.0319928</td></tr>\n",
       "<tr><td>GBM_1_AutoML_20210219_112630                       </td><td style=\"text-align: right;\">               0.0622096</td><td style=\"text-align: right;\">0.249419</td><td style=\"text-align: right;\">0.0622096</td><td style=\"text-align: right;\">0.196354</td><td style=\"text-align: right;\">0.0322188</td></tr>\n",
       "<tr><td>DeepLearning_1_AutoML_20210219_112630              </td><td style=\"text-align: right;\">               0.0622643</td><td style=\"text-align: right;\">0.249528</td><td style=\"text-align: right;\">0.0622643</td><td style=\"text-align: right;\">0.194979</td><td style=\"text-align: right;\">0.03222  </td></tr>\n",
       "<tr><td>GBM_grid__1_AutoML_20210219_112630_model_1         </td><td style=\"text-align: right;\">               0.0643382</td><td style=\"text-align: right;\">0.25365 </td><td style=\"text-align: right;\">0.0643382</td><td style=\"text-align: right;\">0.200785</td><td style=\"text-align: right;\">0.032762 </td></tr>\n",
       "<tr><td>XGBoost_grid__1_AutoML_20210219_112630_model_4     </td><td style=\"text-align: right;\">               0.0670445</td><td style=\"text-align: right;\">0.25893 </td><td style=\"text-align: right;\">0.0670445</td><td style=\"text-align: right;\">0.20384 </td><td style=\"text-align: right;\">0.0334437</td></tr>\n",
       "<tr><td>XGBoost_3_AutoML_20210219_112630                   </td><td style=\"text-align: right;\">               0.0682508</td><td style=\"text-align: right;\">0.261249</td><td style=\"text-align: right;\">0.0682508</td><td style=\"text-align: right;\">0.205195</td><td style=\"text-align: right;\">0.0337384</td></tr>\n",
       "<tr><td>XGBoost_grid__1_AutoML_20210219_112630_model_3     </td><td style=\"text-align: right;\">               0.0695543</td><td style=\"text-align: right;\">0.263731</td><td style=\"text-align: right;\">0.0695543</td><td style=\"text-align: right;\">0.208944</td><td style=\"text-align: right;\">0.0340581</td></tr>\n",
       "<tr><td>DeepLearning_grid__1_AutoML_20210219_112630_model_1</td><td style=\"text-align: right;\">               0.0699433</td><td style=\"text-align: right;\">0.264468</td><td style=\"text-align: right;\">0.0699433</td><td style=\"text-align: right;\">0.213919</td><td style=\"text-align: right;\">0.0341596</td></tr>\n",
       "<tr><td>XGBoost_grid__1_AutoML_20210219_112630_model_1     </td><td style=\"text-align: right;\">               0.0706389</td><td style=\"text-align: right;\">0.26578 </td><td style=\"text-align: right;\">0.0706389</td><td style=\"text-align: right;\">0.210336</td><td style=\"text-align: right;\">0.034319 </td></tr>\n",
       "<tr><td>XGBoost_1_AutoML_20210219_112630                   </td><td style=\"text-align: right;\">               0.0715119</td><td style=\"text-align: right;\">0.267417</td><td style=\"text-align: right;\">0.0715119</td><td style=\"text-align: right;\">0.20391 </td><td style=\"text-align: right;\">0.0345492</td></tr>\n",
       "<tr><td>XGBoost_2_AutoML_20210219_112630                   </td><td style=\"text-align: right;\">               0.0734137</td><td style=\"text-align: right;\">0.27095 </td><td style=\"text-align: right;\">0.0734137</td><td style=\"text-align: right;\">0.20573 </td><td style=\"text-align: right;\">0.0350115</td></tr>\n",
       "<tr><td>DeepLearning_grid__2_AutoML_20210219_112630_model_1</td><td style=\"text-align: right;\">               0.0737368</td><td style=\"text-align: right;\">0.271545</td><td style=\"text-align: right;\">0.0737368</td><td style=\"text-align: right;\">0.221805</td><td style=\"text-align: right;\">0.0350536</td></tr>\n",
       "<tr><td>StackedEnsemble_AllModels_AutoML_20210219_112630   </td><td style=\"text-align: right;\">               0.0746851</td><td style=\"text-align: right;\">0.273286</td><td style=\"text-align: right;\">0.0746851</td><td style=\"text-align: right;\">0.228255</td><td style=\"text-align: right;\">0.0352848</td></tr>\n",
       "<tr><td>StackedEnsemble_BestOfFamily_AutoML_20210219_112630</td><td style=\"text-align: right;\">               0.0746851</td><td style=\"text-align: right;\">0.273286</td><td style=\"text-align: right;\">0.0746851</td><td style=\"text-align: right;\">0.228255</td><td style=\"text-align: right;\">0.0352848</td></tr>\n",
       "<tr><td>XGBoost_grid__1_AutoML_20210219_112630_model_2     </td><td style=\"text-align: right;\">               0.0777855</td><td style=\"text-align: right;\">0.278901</td><td style=\"text-align: right;\">0.0777855</td><td style=\"text-align: right;\">0.210817</td><td style=\"text-align: right;\">0.0360274</td></tr>\n",
       "<tr><td>GLM_1_AutoML_20210219_112630                       </td><td style=\"text-align: right;\">               0.0874984</td><td style=\"text-align: right;\">0.295801</td><td style=\"text-align: right;\">0.0874984</td><td style=\"text-align: right;\">0.245909</td><td style=\"text-align: right;\">0.0381006</td></tr>\n",
       "</tbody>\n",
       "</table>"
      ]
     },
     "metadata": {},
     "output_type": "display_data"
    },
    {
     "data": {
      "text/plain": []
     },
     "execution_count": 92,
     "metadata": {},
     "output_type": "execute_result"
    }
   ],
   "source": [
    "# View the AutoML Leaderboard\n",
    "lb = aml2.leaderboard\n",
    "lb.head(rows=lb.nrows)  # Print all rows instead of default (10 rows)"
   ]
  },
  {
   "cell_type": "code",
   "execution_count": null,
   "metadata": {},
   "outputs": [],
   "source": []
  }
 ],
 "metadata": {
  "kernelspec": {
   "display_name": "Python 3",
   "language": "python",
   "name": "python3"
  },
  "language_info": {
   "codemirror_mode": {
    "name": "ipython",
    "version": 3
   },
   "file_extension": ".py",
   "mimetype": "text/x-python",
   "name": "python",
   "nbconvert_exporter": "python",
   "pygments_lexer": "ipython3",
   "version": "3.8.1"
  }
 },
 "nbformat": 4,
 "nbformat_minor": 4
}
